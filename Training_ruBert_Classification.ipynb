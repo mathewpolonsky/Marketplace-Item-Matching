{
  "cells": [
    {
      "cell_type": "markdown",
      "metadata": {
        "id": "view-in-github",
        "colab_type": "text"
      },
      "source": [
        "<a href=\"https://colab.research.google.com/github/mathewpolonsky/Marketplace-Item-Matching/blob/main/Training_ruBert_Classification.ipynb\" target=\"_parent\"><img src=\"https://colab.research.google.com/assets/colab-badge.svg\" alt=\"Open In Colab\"/></a>"
      ]
    },
    {
      "cell_type": "code",
      "execution_count": null,
      "metadata": {
        "id": "Vj-OOyTkw-HV"
      },
      "outputs": [],
      "source": [
        "!pip install evaluate\n",
        "!pip install transformers[torch]"
      ]
    },
    {
      "cell_type": "code",
      "execution_count": null,
      "metadata": {
        "id": "dt5A2Hd9tFDK"
      },
      "outputs": [],
      "source": [
        "!gdown 1-vKglR5qwkmXGT8EK2La2eiNy1ApKLPD\n",
        "!unzip merged_datasets4nlp.zip\n",
        "!mv merged_datasets4nlp datasets/"
      ]
    },
    {
      "cell_type": "code",
      "source": [
        "from google.colab import drive\n",
        "drive.mount('/content/drive')"
      ],
      "metadata": {
        "id": "s8KIPf3_vuHj"
      },
      "execution_count": null,
      "outputs": []
    },
    {
      "cell_type": "markdown",
      "source": [
        "---"
      ],
      "metadata": {
        "id": "q4OP6ZAcxdq-"
      }
    },
    {
      "cell_type": "code",
      "execution_count": null,
      "metadata": {
        "id": "H2XR9G1yvwxW"
      },
      "outputs": [],
      "source": [
        "import torch\n",
        "from torch.utils.data import DataLoader, Dataset\n",
        "\n",
        "import numpy as np\n",
        "import pandas as pd\n",
        "\n",
        "from tqdm.notebook import tqdm\n",
        "\n",
        "from sklearn.model_selection import train_test_split\n",
        "\n",
        "import evaluate\n",
        "\n",
        "from transformers import AutoModelForSequenceClassification, TrainingArguments, Trainer\n",
        "from transformers import AutoTokenizer"
      ]
    },
    {
      "cell_type": "code",
      "execution_count": null,
      "metadata": {
        "id": "8vJHleFgrLDG"
      },
      "outputs": [],
      "source": [
        "checkpoint = \"ai-forever/ruBert-base\"\n",
        "\n",
        "tokenizer = AutoTokenizer.from_pretrained(checkpoint)\n",
        "\n",
        "model = AutoModelForSequenceClassification.from_pretrained(\n",
        "    checkpoint, num_labels=2\n",
        ")"
      ]
    },
    {
      "cell_type": "code",
      "execution_count": null,
      "metadata": {
        "id": "d3fiVZsXv6Ak"
      },
      "outputs": [],
      "source": [
        "data = pd.read_parquet(\"datasets/merged_train4nlp.parquet\")\n",
        "\n",
        "train_data, val_data = train_test_split(\n",
        "    data, random_state=42, test_size=.1\n",
        ")"
      ]
    },
    {
      "cell_type": "code",
      "execution_count": null,
      "metadata": {
        "id": "V7qE-yluwY97"
      },
      "outputs": [],
      "source": [
        "class TextDataset(Dataset):\n",
        "    def __init__(self, data_df, tokenizer, max_length=512):\n",
        "        self.tokenizer = tokenizer\n",
        "        self.max_length = max_length\n",
        "\n",
        "        self.sentences1 = data_df[\"full_text_1\"].values\n",
        "        self.sentences2 = data_df[\"full_text_2\"].values\n",
        "        self.labels = data_df['target'].values\n",
        "\n",
        "    def __len__(self):\n",
        "        return self.labels.shape[0]\n",
        "\n",
        "    def __getitem__(self, i):\n",
        "        sentence1, sentence2, label = self.sentences1[i], self.sentences2[i], self.labels[i]\n",
        "\n",
        "        tokens = tokenizer(sentence1, sentence2, truncation=\"longest_first\", padding=\"max_length\", max_length=self.max_length)\n",
        "\n",
        "        tokens['labels'] = label\n",
        "\n",
        "        tokens = {key: torch.tensor(val).long() for key, val in tokens.items()}\n",
        "\n",
        "        return tokens\n",
        "\n",
        "\n",
        "train_dataset = TextDataset(train_data, tokenizer)\n",
        "val_dataset = TextDataset(val_data, tokenizer)"
      ]
    },
    {
      "cell_type": "code",
      "execution_count": null,
      "metadata": {
        "id": "SlyRHDBX15H0"
      },
      "outputs": [],
      "source": [
        "accuracy = evaluate.load(\"accuracy\")\n",
        "f1_metric = evaluate.load(\"f1\")"
      ]
    },
    {
      "cell_type": "code",
      "execution_count": null,
      "metadata": {
        "id": "IeVInmGe2Z5b"
      },
      "outputs": [],
      "source": [
        "def compute_metrics(eval_pred):\n",
        "    predictions, labels = eval_pred\n",
        "    predictions = np.argmax(predictions, axis=1)\n",
        "\n",
        "    out = {}\n",
        "\n",
        "    out.update(accuracy.compute(predictions=predictions, references=labels))\n",
        "    out.update(f1_metric.compute(predictions=predictions, references=labels))\n",
        "\n",
        "    return out"
      ]
    },
    {
      "cell_type": "code",
      "execution_count": null,
      "metadata": {
        "id": "pa6s9-n2uMDI"
      },
      "outputs": [],
      "source": [
        "training_args = TrainingArguments(\n",
        "    output_dir=\"drive/MyDrive/models/rubert-base-class-full\",\n",
        "    learning_rate=2e-5,\n",
        "    per_device_train_batch_size=2,\n",
        "    per_device_eval_batch_size=2,\n",
        "    num_train_epochs=1,\n",
        "    weight_decay=0.01,\n",
        "    evaluation_strategy=\"epoch\",\n",
        "    save_strategy=\"epoch\",\n",
        "    load_best_model_at_end=True,\n",
        ")"
      ]
    },
    {
      "cell_type": "code",
      "execution_count": null,
      "metadata": {
        "id": "ljyw-Q2Ou8S_"
      },
      "outputs": [],
      "source": [
        "trainer = Trainer(\n",
        "    model=model,\n",
        "    args=training_args,\n",
        "    train_dataset=train_dataset,\n",
        "    eval_dataset=val_dataset,\n",
        "    tokenizer=tokenizer,\n",
        "    compute_metrics=compute_metrics,\n",
        ")"
      ]
    },
    {
      "cell_type": "code",
      "execution_count": null,
      "metadata": {
        "id": "cYnQzvslu9XB"
      },
      "outputs": [],
      "source": [
        "trainer.train()"
      ]
    },
    {
      "cell_type": "markdown",
      "metadata": {
        "id": "CDvP7cX2xIfv"
      },
      "source": [
        "## Making Predictions for Catboost Training"
      ]
    },
    {
      "cell_type": "code",
      "execution_count": null,
      "metadata": {
        "id": "22P2q_i-7N7Q"
      },
      "outputs": [],
      "source": [
        "data"
      ]
    },
    {
      "cell_type": "code",
      "execution_count": null,
      "metadata": {
        "id": "hn4KxDUe5caT"
      },
      "outputs": [],
      "source": [
        "class TextTestDataset(Dataset):\n",
        "    def __init__(self, data_df, tokenizer, max_length=512):\n",
        "        self.tokenizer = tokenizer\n",
        "        self.max_length = max_length\n",
        "\n",
        "        self.sentences1 = data_df[\"full_text_1\"].values\n",
        "        self.sentences2 = data_df['full_text_2'].values\n",
        "\n",
        "    def __len__(self):\n",
        "        return self.sentences1.shape[0]\n",
        "\n",
        "    def __getitem__(self, i):\n",
        "        sentence1, sentence2 = self.sentences1[i], self.sentences2[i]\n",
        "\n",
        "        tokens = tokenizer(sentence1, sentence2, truncation=\"longest_first\", padding=\"max_length\", max_length=self.max_length)\n",
        "    \n",
        "        tokens = {key: torch.tensor(val).long() for key, val in tokens.items()}\n",
        "\n",
        "        return tokens\n",
        "\n",
        "\n",
        "test_dataset = TextTestDataset(data, tokenizer)"
      ]
    },
    {
      "cell_type": "code",
      "execution_count": null,
      "metadata": {
        "id": "grstua9L56Cv"
      },
      "outputs": [],
      "source": [
        "test_dataloader = DataLoader(test_dataset, batch_size=64, shuffle=False, drop_last=False)"
      ]
    },
    {
      "cell_type": "code",
      "execution_count": null,
      "metadata": {
        "id": "_Mtk7F2l8n2Y"
      },
      "outputs": [],
      "source": [
        "model = model.to(\"cuda\")"
      ]
    },
    {
      "cell_type": "code",
      "execution_count": null,
      "metadata": {
        "colab": {
          "base_uri": "https://localhost:8080/",
          "referenced_widgets": [
            "95b229a60f7241438fe587a7e68b66c1"
          ]
        },
        "id": "YDNamdqL6QiS",
        "outputId": "6cfa6e50-b32c-42db-91d2-44ce1a7dff1b"
      },
      "outputs": [
        {
          "data": {
            "application/vnd.jupyter.widget-view+json": {
              "model_id": "95b229a60f7241438fe587a7e68b66c1",
              "version_major": 2,
              "version_minor": 0
            },
            "text/plain": [
              "  0%|          | 0/283 [00:00<?, ?it/s]"
            ]
          },
          "metadata": {},
          "output_type": "display_data"
        }
      ],
      "source": [
        "all_preds = []\n",
        "\n",
        "with torch.no_grad():\n",
        "    for tokens in tqdm(test_dataloader):\n",
        "        for key in tokens:\n",
        "            tokens[key] = tokens[key].to(\"cuda\")\n",
        "        \n",
        "        pred = model(**tokens)\n",
        "        pred = pred['logits'].detach().cpu().numpy().tolist()\n",
        "\n",
        "        all_preds.extend(pred)"
      ]
    },
    {
      "cell_type": "code",
      "source": [
        "data['rubert_pred_1'] = np.array([i for i in all_preds])[:,0]\n",
        "data['rubert_pred_2'] = np.array([i for i in all_preds])[:,1]"
      ],
      "metadata": {
        "id": "mYOWWSK71l0h"
      },
      "execution_count": null,
      "outputs": []
    },
    {
      "cell_type": "code",
      "execution_count": null,
      "metadata": {
        "id": "TpgM_s_BxIfv"
      },
      "outputs": [],
      "source": [
        "data = data.drop(['full_text_1', 'full_text_2'], axis=1)\n",
        "data"
      ]
    },
    {
      "cell_type": "code",
      "execution_count": null,
      "metadata": {
        "id": "irWsCpJhxIfv"
      },
      "outputs": [],
      "source": [
        "data.to_csv(\"drive/MyDrive/datasets/train_cb_rubert_base_class_full_2_eps.csv\", index=False)"
      ]
    }
  ],
  "metadata": {
    "accelerator": "GPU",
    "colab": {
      "gpuType": "T4",
      "provenance": [],
      "include_colab_link": true
    },
    "gpuClass": "standard",
    "kernelspec": {
      "display_name": "Python 3",
      "name": "python3"
    },
    "language_info": {
      "codemirror_mode": {
        "name": "ipython",
        "version": 3
      },
      "file_extension": ".py",
      "mimetype": "text/x-python",
      "name": "python",
      "nbconvert_exporter": "python",
      "pygments_lexer": "ipython3",
      "version": "3.10.11"
    }
  },
  "nbformat": 4,
  "nbformat_minor": 0
}