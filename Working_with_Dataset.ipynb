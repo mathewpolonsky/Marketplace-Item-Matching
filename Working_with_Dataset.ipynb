{
  "cells": [
    {
      "cell_type": "markdown",
      "metadata": {
        "id": "view-in-github",
        "colab_type": "text"
      },
      "source": [
        "<a href=\"https://colab.research.google.com/github/mathewpolonsky/Marketplace-Item-Matching/blob/main/Working_with_Dataset.ipynb\" target=\"_parent\"><img src=\"https://colab.research.google.com/assets/colab-badge.svg\" alt=\"Open In Colab\"/></a>"
      ]
    },
    {
      "cell_type": "markdown",
      "metadata": {
        "id": "NfjlOFTCXsuq"
      },
      "source": [
        "## Импорт библиотек"
      ]
    },
    {
      "cell_type": "code",
      "execution_count": null,
      "metadata": {
        "ExecuteTime": {
          "end_time": "2023-05-19T06:10:23.678400Z",
          "start_time": "2023-05-19T06:10:16.503064Z"
        },
        "id": "xmUNHGYbXsu7"
      },
      "outputs": [],
      "source": [
        "import json\n",
        "\n",
        "import numpy as np\n",
        "import pandas as pd"
      ]
    },
    {
      "cell_type": "code",
      "execution_count": null,
      "metadata": {
        "colab": {
          "base_uri": "https://localhost:8080/"
        },
        "id": "duS3gd9FXsu7",
        "outputId": "7d61f9ce-99c4-462a-ae52-1079b3a411a7"
      },
      "outputs": [
        {
          "output_type": "stream",
          "name": "stdout",
          "text": [
            "Mounted at /content/drive\n"
          ]
        }
      ],
      "source": [
        "from google.colab import drive\n",
        "drive.mount('/content/drive')"
      ]
    },
    {
      "cell_type": "markdown",
      "metadata": {
        "id": "4vUwxehoXsu7"
      },
      "source": [
        "---"
      ]
    },
    {
      "cell_type": "markdown",
      "metadata": {
        "id": "Rn5sbRuOXsu7"
      },
      "source": [
        "## Работа с датасетом"
      ]
    },
    {
      "cell_type": "code",
      "execution_count": null,
      "metadata": {
        "colab": {
          "base_uri": "https://localhost:8080/"
        },
        "id": "XAW7NCZiXsu7",
        "outputId": "d6cd7437-7b87-40e7-c809-c792deda5647"
      },
      "outputs": [
        {
          "output_type": "stream",
          "name": "stdout",
          "text": [
            "Downloading...\n",
            "From: https://drive.google.com/uc?id=1m836LjMM6c2zRFB3HrhuaqUvuiccRW6S\n",
            "To: /content/datasets.zip\n",
            "100% 1.24G/1.24G [00:10<00:00, 117MB/s]\n"
          ]
        }
      ],
      "source": [
        "!gdown 1m836LjMM6c2zRFB3HrhuaqUvuiccRW6S"
      ]
    },
    {
      "cell_type": "code",
      "execution_count": null,
      "metadata": {
        "colab": {
          "base_uri": "https://localhost:8080/"
        },
        "id": "OadX3rO2Xsu7",
        "outputId": "654e8d30-cfeb-48ff-b1b7-70b17bf0ed2f"
      },
      "outputs": [
        {
          "output_type": "stream",
          "name": "stdout",
          "text": [
            "Archive:  datasets.zip\n",
            "   creating: datasets/\n",
            "  inflating: datasets/test_data.parquet  \n",
            "  inflating: datasets/test_pairs_wo_target.parquet  \n",
            "  inflating: datasets/train_data.parquet  \n",
            "  inflating: datasets/train_pairs.parquet  \n"
          ]
        }
      ],
      "source": [
        "!unzip datasets.zip"
      ]
    },
    {
      "cell_type": "markdown",
      "metadata": {
        "id": "gdNjgWA5Xsu7"
      },
      "source": [
        "---"
      ]
    },
    {
      "cell_type": "markdown",
      "metadata": {
        "id": "kZtsjUHfXsu7"
      },
      "source": [
        "### Загрузка"
      ]
    },
    {
      "cell_type": "code",
      "execution_count": null,
      "metadata": {
        "ExecuteTime": {
          "end_time": "2023-05-19T06:12:05.012452Z",
          "start_time": "2023-05-19T06:11:27.878101Z"
        },
        "id": "V_pAiYvmXsu7"
      },
      "outputs": [],
      "source": [
        "dataset = pd.read_parquet(\"datasets/train_pairs.parquet\")\n",
        "etl = pd.read_parquet(\"datasets/train_data.parquet\")"
      ]
    },
    {
      "cell_type": "code",
      "execution_count": null,
      "metadata": {
        "ExecuteTime": {
          "end_time": "2023-05-19T06:12:07.891757Z",
          "start_time": "2023-05-19T06:12:07.868318Z"
        },
        "colab": {
          "base_uri": "https://localhost:8080/",
          "height": 112
        },
        "id": "S0QI6xixXsu7",
        "outputId": "50a904d6-9696-4ff4-9ac6-c3ce348fc90d"
      },
      "outputs": [
        {
          "output_type": "execute_result",
          "data": {
            "text/plain": [
              "   target  variantid1  variantid2\n",
              "0     0.0    51197862    51198054\n",
              "1     1.0    53062686   536165289"
            ],
            "text/html": [
              "\n",
              "  <div id=\"df-64247eb0-c268-4477-9730-11be3f7bdb2b\">\n",
              "    <div class=\"colab-df-container\">\n",
              "      <div>\n",
              "<style scoped>\n",
              "    .dataframe tbody tr th:only-of-type {\n",
              "        vertical-align: middle;\n",
              "    }\n",
              "\n",
              "    .dataframe tbody tr th {\n",
              "        vertical-align: top;\n",
              "    }\n",
              "\n",
              "    .dataframe thead th {\n",
              "        text-align: right;\n",
              "    }\n",
              "</style>\n",
              "<table border=\"1\" class=\"dataframe\">\n",
              "  <thead>\n",
              "    <tr style=\"text-align: right;\">\n",
              "      <th></th>\n",
              "      <th>target</th>\n",
              "      <th>variantid1</th>\n",
              "      <th>variantid2</th>\n",
              "    </tr>\n",
              "  </thead>\n",
              "  <tbody>\n",
              "    <tr>\n",
              "      <th>0</th>\n",
              "      <td>0.0</td>\n",
              "      <td>51197862</td>\n",
              "      <td>51198054</td>\n",
              "    </tr>\n",
              "    <tr>\n",
              "      <th>1</th>\n",
              "      <td>1.0</td>\n",
              "      <td>53062686</td>\n",
              "      <td>536165289</td>\n",
              "    </tr>\n",
              "  </tbody>\n",
              "</table>\n",
              "</div>\n",
              "      <button class=\"colab-df-convert\" onclick=\"convertToInteractive('df-64247eb0-c268-4477-9730-11be3f7bdb2b')\"\n",
              "              title=\"Convert this dataframe to an interactive table.\"\n",
              "              style=\"display:none;\">\n",
              "        \n",
              "  <svg xmlns=\"http://www.w3.org/2000/svg\" height=\"24px\"viewBox=\"0 0 24 24\"\n",
              "       width=\"24px\">\n",
              "    <path d=\"M0 0h24v24H0V0z\" fill=\"none\"/>\n",
              "    <path d=\"M18.56 5.44l.94 2.06.94-2.06 2.06-.94-2.06-.94-.94-2.06-.94 2.06-2.06.94zm-11 1L8.5 8.5l.94-2.06 2.06-.94-2.06-.94L8.5 2.5l-.94 2.06-2.06.94zm10 10l.94 2.06.94-2.06 2.06-.94-2.06-.94-.94-2.06-.94 2.06-2.06.94z\"/><path d=\"M17.41 7.96l-1.37-1.37c-.4-.4-.92-.59-1.43-.59-.52 0-1.04.2-1.43.59L10.3 9.45l-7.72 7.72c-.78.78-.78 2.05 0 2.83L4 21.41c.39.39.9.59 1.41.59.51 0 1.02-.2 1.41-.59l7.78-7.78 2.81-2.81c.8-.78.8-2.07 0-2.86zM5.41 20L4 18.59l7.72-7.72 1.47 1.35L5.41 20z\"/>\n",
              "  </svg>\n",
              "      </button>\n",
              "      \n",
              "  <style>\n",
              "    .colab-df-container {\n",
              "      display:flex;\n",
              "      flex-wrap:wrap;\n",
              "      gap: 12px;\n",
              "    }\n",
              "\n",
              "    .colab-df-convert {\n",
              "      background-color: #E8F0FE;\n",
              "      border: none;\n",
              "      border-radius: 50%;\n",
              "      cursor: pointer;\n",
              "      display: none;\n",
              "      fill: #1967D2;\n",
              "      height: 32px;\n",
              "      padding: 0 0 0 0;\n",
              "      width: 32px;\n",
              "    }\n",
              "\n",
              "    .colab-df-convert:hover {\n",
              "      background-color: #E2EBFA;\n",
              "      box-shadow: 0px 1px 2px rgba(60, 64, 67, 0.3), 0px 1px 3px 1px rgba(60, 64, 67, 0.15);\n",
              "      fill: #174EA6;\n",
              "    }\n",
              "\n",
              "    [theme=dark] .colab-df-convert {\n",
              "      background-color: #3B4455;\n",
              "      fill: #D2E3FC;\n",
              "    }\n",
              "\n",
              "    [theme=dark] .colab-df-convert:hover {\n",
              "      background-color: #434B5C;\n",
              "      box-shadow: 0px 1px 3px 1px rgba(0, 0, 0, 0.15);\n",
              "      filter: drop-shadow(0px 1px 2px rgba(0, 0, 0, 0.3));\n",
              "      fill: #FFFFFF;\n",
              "    }\n",
              "  </style>\n",
              "\n",
              "      <script>\n",
              "        const buttonEl =\n",
              "          document.querySelector('#df-64247eb0-c268-4477-9730-11be3f7bdb2b button.colab-df-convert');\n",
              "        buttonEl.style.display =\n",
              "          google.colab.kernel.accessAllowed ? 'block' : 'none';\n",
              "\n",
              "        async function convertToInteractive(key) {\n",
              "          const element = document.querySelector('#df-64247eb0-c268-4477-9730-11be3f7bdb2b');\n",
              "          const dataTable =\n",
              "            await google.colab.kernel.invokeFunction('convertToInteractive',\n",
              "                                                     [key], {});\n",
              "          if (!dataTable) return;\n",
              "\n",
              "          const docLinkHtml = 'Like what you see? Visit the ' +\n",
              "            '<a target=\"_blank\" href=https://colab.research.google.com/notebooks/data_table.ipynb>data table notebook</a>'\n",
              "            + ' to learn more about interactive tables.';\n",
              "          element.innerHTML = '';\n",
              "          dataTable['output_type'] = 'display_data';\n",
              "          await google.colab.output.renderOutput(dataTable, element);\n",
              "          const docLink = document.createElement('div');\n",
              "          docLink.innerHTML = docLinkHtml;\n",
              "          element.appendChild(docLink);\n",
              "        }\n",
              "      </script>\n",
              "    </div>\n",
              "  </div>\n",
              "  "
            ]
          },
          "metadata": {},
          "execution_count": 6
        }
      ],
      "source": [
        "dataset.head(2)"
      ]
    },
    {
      "cell_type": "code",
      "execution_count": null,
      "metadata": {
        "ExecuteTime": {
          "end_time": "2023-05-19T06:12:27.245184Z",
          "start_time": "2023-05-19T06:12:27.228294Z"
        },
        "colab": {
          "base_uri": "https://localhost:8080/",
          "height": 112
        },
        "id": "6locE1_iXsvL",
        "outputId": "05738483-1772-41d9-ee23-873cca3e9b8e"
      },
      "outputs": [
        {
          "output_type": "execute_result",
          "data": {
            "text/plain": [
              "   variantid                                               name  \\\n",
              "0   51195767  Удлинитель Партнер-Электро ПВС 2х0,75 ГОСТ,6A,...   \n",
              "1   53565809  Магнитный кабель USB 2.0 A (m) - USB Type-C (m...   \n",
              "\n",
              "                                          categories color_parsed  \\\n",
              "0  {\"1\": \"EPG\", \"2\": \"Электроника\", \"3\": \"Сетевые...  [оранжевый]   \n",
              "1  {\"1\": \"EPG\", \"2\": \"Электроника\", \"3\": \"Кабели ...    [красный]   \n",
              "\n",
              "                            pic_embeddings_resnet_v1  \\\n",
              "0                                               None   \n",
              "1  [[0.26863545, -0.3130674, 0.29023397, 0.073978...   \n",
              "\n",
              "                       main_pic_embeddings_resnet_v1  \\\n",
              "0  [[0.04603629, 0.18839523, -0.09973055, -0.6636...   \n",
              "1  [[1.1471839, -0.665361, 0.7745614, 0.26716197,...   \n",
              "\n",
              "                                        name_bert_64  \\\n",
              "0  [-0.47045058, 0.67237014, 0.48984158, -0.54485...   \n",
              "1  [-0.6575592, 0.6522429, 0.5426037, -0.54347897...   \n",
              "\n",
              "                   characteristic_attributes_mapping  \n",
              "0  {\"Номинальный ток, А\":[\"10\"],\"Цвет товара\":[\"о...  \n",
              "1  {\"Конструктивные особенности\":[\"Магнитная конс...  "
            ],
            "text/html": [
              "\n",
              "  <div id=\"df-55592bee-0459-489f-a9d1-02cc7f05674c\">\n",
              "    <div class=\"colab-df-container\">\n",
              "      <div>\n",
              "<style scoped>\n",
              "    .dataframe tbody tr th:only-of-type {\n",
              "        vertical-align: middle;\n",
              "    }\n",
              "\n",
              "    .dataframe tbody tr th {\n",
              "        vertical-align: top;\n",
              "    }\n",
              "\n",
              "    .dataframe thead th {\n",
              "        text-align: right;\n",
              "    }\n",
              "</style>\n",
              "<table border=\"1\" class=\"dataframe\">\n",
              "  <thead>\n",
              "    <tr style=\"text-align: right;\">\n",
              "      <th></th>\n",
              "      <th>variantid</th>\n",
              "      <th>name</th>\n",
              "      <th>categories</th>\n",
              "      <th>color_parsed</th>\n",
              "      <th>pic_embeddings_resnet_v1</th>\n",
              "      <th>main_pic_embeddings_resnet_v1</th>\n",
              "      <th>name_bert_64</th>\n",
              "      <th>characteristic_attributes_mapping</th>\n",
              "    </tr>\n",
              "  </thead>\n",
              "  <tbody>\n",
              "    <tr>\n",
              "      <th>0</th>\n",
              "      <td>51195767</td>\n",
              "      <td>Удлинитель Партнер-Электро ПВС 2х0,75 ГОСТ,6A,...</td>\n",
              "      <td>{\"1\": \"EPG\", \"2\": \"Электроника\", \"3\": \"Сетевые...</td>\n",
              "      <td>[оранжевый]</td>\n",
              "      <td>None</td>\n",
              "      <td>[[0.04603629, 0.18839523, -0.09973055, -0.6636...</td>\n",
              "      <td>[-0.47045058, 0.67237014, 0.48984158, -0.54485...</td>\n",
              "      <td>{\"Номинальный ток, А\":[\"10\"],\"Цвет товара\":[\"о...</td>\n",
              "    </tr>\n",
              "    <tr>\n",
              "      <th>1</th>\n",
              "      <td>53565809</td>\n",
              "      <td>Магнитный кабель USB 2.0 A (m) - USB Type-C (m...</td>\n",
              "      <td>{\"1\": \"EPG\", \"2\": \"Электроника\", \"3\": \"Кабели ...</td>\n",
              "      <td>[красный]</td>\n",
              "      <td>[[0.26863545, -0.3130674, 0.29023397, 0.073978...</td>\n",
              "      <td>[[1.1471839, -0.665361, 0.7745614, 0.26716197,...</td>\n",
              "      <td>[-0.6575592, 0.6522429, 0.5426037, -0.54347897...</td>\n",
              "      <td>{\"Конструктивные особенности\":[\"Магнитная конс...</td>\n",
              "    </tr>\n",
              "  </tbody>\n",
              "</table>\n",
              "</div>\n",
              "      <button class=\"colab-df-convert\" onclick=\"convertToInteractive('df-55592bee-0459-489f-a9d1-02cc7f05674c')\"\n",
              "              title=\"Convert this dataframe to an interactive table.\"\n",
              "              style=\"display:none;\">\n",
              "        \n",
              "  <svg xmlns=\"http://www.w3.org/2000/svg\" height=\"24px\"viewBox=\"0 0 24 24\"\n",
              "       width=\"24px\">\n",
              "    <path d=\"M0 0h24v24H0V0z\" fill=\"none\"/>\n",
              "    <path d=\"M18.56 5.44l.94 2.06.94-2.06 2.06-.94-2.06-.94-.94-2.06-.94 2.06-2.06.94zm-11 1L8.5 8.5l.94-2.06 2.06-.94-2.06-.94L8.5 2.5l-.94 2.06-2.06.94zm10 10l.94 2.06.94-2.06 2.06-.94-2.06-.94-.94-2.06-.94 2.06-2.06.94z\"/><path d=\"M17.41 7.96l-1.37-1.37c-.4-.4-.92-.59-1.43-.59-.52 0-1.04.2-1.43.59L10.3 9.45l-7.72 7.72c-.78.78-.78 2.05 0 2.83L4 21.41c.39.39.9.59 1.41.59.51 0 1.02-.2 1.41-.59l7.78-7.78 2.81-2.81c.8-.78.8-2.07 0-2.86zM5.41 20L4 18.59l7.72-7.72 1.47 1.35L5.41 20z\"/>\n",
              "  </svg>\n",
              "      </button>\n",
              "      \n",
              "  <style>\n",
              "    .colab-df-container {\n",
              "      display:flex;\n",
              "      flex-wrap:wrap;\n",
              "      gap: 12px;\n",
              "    }\n",
              "\n",
              "    .colab-df-convert {\n",
              "      background-color: #E8F0FE;\n",
              "      border: none;\n",
              "      border-radius: 50%;\n",
              "      cursor: pointer;\n",
              "      display: none;\n",
              "      fill: #1967D2;\n",
              "      height: 32px;\n",
              "      padding: 0 0 0 0;\n",
              "      width: 32px;\n",
              "    }\n",
              "\n",
              "    .colab-df-convert:hover {\n",
              "      background-color: #E2EBFA;\n",
              "      box-shadow: 0px 1px 2px rgba(60, 64, 67, 0.3), 0px 1px 3px 1px rgba(60, 64, 67, 0.15);\n",
              "      fill: #174EA6;\n",
              "    }\n",
              "\n",
              "    [theme=dark] .colab-df-convert {\n",
              "      background-color: #3B4455;\n",
              "      fill: #D2E3FC;\n",
              "    }\n",
              "\n",
              "    [theme=dark] .colab-df-convert:hover {\n",
              "      background-color: #434B5C;\n",
              "      box-shadow: 0px 1px 3px 1px rgba(0, 0, 0, 0.15);\n",
              "      filter: drop-shadow(0px 1px 2px rgba(0, 0, 0, 0.3));\n",
              "      fill: #FFFFFF;\n",
              "    }\n",
              "  </style>\n",
              "\n",
              "      <script>\n",
              "        const buttonEl =\n",
              "          document.querySelector('#df-55592bee-0459-489f-a9d1-02cc7f05674c button.colab-df-convert');\n",
              "        buttonEl.style.display =\n",
              "          google.colab.kernel.accessAllowed ? 'block' : 'none';\n",
              "\n",
              "        async function convertToInteractive(key) {\n",
              "          const element = document.querySelector('#df-55592bee-0459-489f-a9d1-02cc7f05674c');\n",
              "          const dataTable =\n",
              "            await google.colab.kernel.invokeFunction('convertToInteractive',\n",
              "                                                     [key], {});\n",
              "          if (!dataTable) return;\n",
              "\n",
              "          const docLinkHtml = 'Like what you see? Visit the ' +\n",
              "            '<a target=\"_blank\" href=https://colab.research.google.com/notebooks/data_table.ipynb>data table notebook</a>'\n",
              "            + ' to learn more about interactive tables.';\n",
              "          element.innerHTML = '';\n",
              "          dataTable['output_type'] = 'display_data';\n",
              "          await google.colab.output.renderOutput(dataTable, element);\n",
              "          const docLink = document.createElement('div');\n",
              "          docLink.innerHTML = docLinkHtml;\n",
              "          element.appendChild(docLink);\n",
              "        }\n",
              "      </script>\n",
              "    </div>\n",
              "  </div>\n",
              "  "
            ]
          },
          "metadata": {},
          "execution_count": 7
        }
      ],
      "source": [
        "etl.head(2)"
      ]
    },
    {
      "cell_type": "markdown",
      "metadata": {
        "id": "BW56-7ViXsvL"
      },
      "source": [
        "### Предобработка"
      ]
    },
    {
      "cell_type": "code",
      "execution_count": null,
      "metadata": {
        "colab": {
          "base_uri": "https://localhost:8080/"
        },
        "id": "EQoGbkjpXsvL",
        "outputId": "e00c77c4-5d3a-403f-cd64-af60e9dc12cd"
      },
      "outputs": [
        {
          "output_type": "execute_result",
          "data": {
            "text/plain": [
              "array(['{\"1\": \"EPG\", \"2\": \"Электроника\", \"3\": \"Сетевые фильтры, разветвители и удлинители\", \"4\": \"Сетевой фильтр, удлинитель, разветвитель\"}',\n",
              "       '{\"1\": \"EPG\", \"2\": \"Электроника\", \"3\": \"Кабели и переходники\", \"4\": \"Кабель\"}',\n",
              "       '{\"1\": \"EPG\", \"2\": \"Электроника\", \"3\": \"Оптические приборы\", \"4\": \"Микроскоп\"}',\n",
              "       '{\"1\": \"EPG\", \"2\": \"Электроника\", \"3\": \"Смартфоны, планшеты, мобильные телефоны\", \"4\": \"Мобильный телефон\"}',\n",
              "       '{\"1\": \"EPG\", \"2\": \"Электроника\", \"3\": \"Штативы и головки\", \"4\": \"Штатив\"}'],\n",
              "      dtype=object)"
            ]
          },
          "metadata": {},
          "execution_count": 3
        }
      ],
      "source": [
        "etl[\"categories\"][:5].to_numpy()"
      ]
    },
    {
      "cell_type": "markdown",
      "metadata": {
        "id": "CqmejRcJXsvL"
      },
      "source": [
        "#### Полный текст о товаре"
      ]
    },
    {
      "cell_type": "code",
      "source": [
        "def attrs_format(attributes):\n",
        "    return '\\n'.join([f'{i[0]}: {\", \".join(i[1])}' for i in attributes.items()])\n",
        "\n",
        "def make_full_text(row):\n",
        "\tfull_text = [f\"name: {row['name']}\"]\n",
        "\n",
        "\tif row['color_parsed'] is not None:\n",
        "\t\tfull_text.append(f\"color: {', '.join(row['color_parsed'])}\")\n",
        "\n",
        "\tfull_text.append(f\"cat3: {json.loads(row['categories'])['3']}\")\n",
        "\tfull_text.append(f\"cat4: {json.loads(row['categories'])['4']}\")\n",
        "\n",
        "\tif row['characteristic_attributes_mapping'] is not None:\n",
        "\t\tfull_text.append(f\"{attrs_format(json.loads(row['characteristic_attributes_mapping']))}\")\n",
        "\n",
        "\treturn \"\\n\".join(full_text)\n",
        "\t\n",
        "\n",
        "columns = [\"name\", \"color_parsed\", \"categories\", \"characteristic_attributes_mapping\"]\n",
        "\n",
        "etl[\"full_text\"] = etl[columns].apply(lambda x: make_full_text(x), axis=1)\n",
        "\n",
        "print(etl.full_text[7])"
      ],
      "metadata": {
        "colab": {
          "base_uri": "https://localhost:8080/"
        },
        "id": "iXL2REf8fQyM",
        "outputId": "54d3cb9a-51b3-441b-b34d-15b92ac0e7c4"
      },
      "execution_count": null,
      "outputs": [
        {
          "output_type": "stream",
          "name": "stdout",
          "text": [
            "name: Плетеный нейлоновый ремешок для часов Apple Watch series 1-7 и Эпл Вотч SE 38-40-41 mm / Эластичный тканевый монобраслет Solo Loop (155 mm), Красный\n",
            "color: красный\n",
            "cat3: Смарт-часы\n",
            "cat4: Ремешок для смарт-часов\n",
            "Рекомендовано для: Apple\n",
            "Цвет товара: красный\n",
            "Размер циферблата: 38mm, 40mm, 41mm\n",
            "Длина ремешка, мм: 155\n",
            "Образец цвета: https://cdn1.ozone.ru/s3/multimedia-f/6043129923.jpg\n",
            "Бренд: Pastila\n",
            "Вес товара, г: 12\n",
            "Гарантийный срок: 14 дней, при сохранении товарного вида\n",
            "Материал браслета/ремешка: Текстиль\n",
            "Размеры, мм: 155\n",
            "Название цвета: красный\n",
            "Страна-изготовитель: Россия\n",
            "Модель браслета/умных часов: Apple Watch SE 40mm, Apple Watch Series 1 38mm, Apple Watch Series 2 38mm, Apple Watch Series 3 38mm, Apple Watch Series 4 40mm, Apple Watch Series 5 40mm, Apple Watch Series 6 40mm, Apple Watch Series 7 41mm\n",
            "Комплектация: Ремешок - 1 шт., упаковка - 1 шт.\n"
          ]
        }
      ]
    },
    {
      "cell_type": "markdown",
      "metadata": {
        "id": "SlpYxxsmXsvL"
      },
      "source": [
        "#### Merge и сохранение"
      ]
    },
    {
      "cell_type": "markdown",
      "metadata": {
        "id": "IS7eOX8fXsvL"
      },
      "source": [
        "Train"
      ]
    },
    {
      "cell_type": "code",
      "execution_count": null,
      "metadata": {
        "colab": {
          "base_uri": "https://localhost:8080/",
          "height": 143
        },
        "id": "VcoyuqH_XsvL",
        "outputId": "fb3d6834-7e98-4983-ad9a-92900467ce36"
      },
      "outputs": [
        {
          "output_type": "execute_result",
          "data": {
            "text/plain": [
              "   variantid                      main_pic_embeddings_resnet_v1  \\\n",
              "0   51195767  [[0.04603629, 0.18839523, -0.09973055, -0.6636...   \n",
              "1   53565809  [[1.1471839, -0.665361, 0.7745614, 0.26716197,...   \n",
              "2   56763357  [[-0.90570974, 1.0296293, 1.0769907, 0.27746, ...   \n",
              "\n",
              "                                           full_text  \n",
              "0  name: Удлинитель Партнер-Электро ПВС 2х0,75 ГО...  \n",
              "1  name: Магнитный кабель USB 2.0 A (m) - USB Typ...  \n",
              "2  name: Набор микропрепаратов Konus 25: \"Клетки ...  "
            ],
            "text/html": [
              "\n",
              "  <div id=\"df-9b40ea0b-7429-4438-868c-4d754102808f\">\n",
              "    <div class=\"colab-df-container\">\n",
              "      <div>\n",
              "<style scoped>\n",
              "    .dataframe tbody tr th:only-of-type {\n",
              "        vertical-align: middle;\n",
              "    }\n",
              "\n",
              "    .dataframe tbody tr th {\n",
              "        vertical-align: top;\n",
              "    }\n",
              "\n",
              "    .dataframe thead th {\n",
              "        text-align: right;\n",
              "    }\n",
              "</style>\n",
              "<table border=\"1\" class=\"dataframe\">\n",
              "  <thead>\n",
              "    <tr style=\"text-align: right;\">\n",
              "      <th></th>\n",
              "      <th>variantid</th>\n",
              "      <th>main_pic_embeddings_resnet_v1</th>\n",
              "      <th>full_text</th>\n",
              "    </tr>\n",
              "  </thead>\n",
              "  <tbody>\n",
              "    <tr>\n",
              "      <th>0</th>\n",
              "      <td>51195767</td>\n",
              "      <td>[[0.04603629, 0.18839523, -0.09973055, -0.6636...</td>\n",
              "      <td>name: Удлинитель Партнер-Электро ПВС 2х0,75 ГО...</td>\n",
              "    </tr>\n",
              "    <tr>\n",
              "      <th>1</th>\n",
              "      <td>53565809</td>\n",
              "      <td>[[1.1471839, -0.665361, 0.7745614, 0.26716197,...</td>\n",
              "      <td>name: Магнитный кабель USB 2.0 A (m) - USB Typ...</td>\n",
              "    </tr>\n",
              "    <tr>\n",
              "      <th>2</th>\n",
              "      <td>56763357</td>\n",
              "      <td>[[-0.90570974, 1.0296293, 1.0769907, 0.27746, ...</td>\n",
              "      <td>name: Набор микропрепаратов Konus 25: \"Клетки ...</td>\n",
              "    </tr>\n",
              "  </tbody>\n",
              "</table>\n",
              "</div>\n",
              "      <button class=\"colab-df-convert\" onclick=\"convertToInteractive('df-9b40ea0b-7429-4438-868c-4d754102808f')\"\n",
              "              title=\"Convert this dataframe to an interactive table.\"\n",
              "              style=\"display:none;\">\n",
              "        \n",
              "  <svg xmlns=\"http://www.w3.org/2000/svg\" height=\"24px\"viewBox=\"0 0 24 24\"\n",
              "       width=\"24px\">\n",
              "    <path d=\"M0 0h24v24H0V0z\" fill=\"none\"/>\n",
              "    <path d=\"M18.56 5.44l.94 2.06.94-2.06 2.06-.94-2.06-.94-.94-2.06-.94 2.06-2.06.94zm-11 1L8.5 8.5l.94-2.06 2.06-.94-2.06-.94L8.5 2.5l-.94 2.06-2.06.94zm10 10l.94 2.06.94-2.06 2.06-.94-2.06-.94-.94-2.06-.94 2.06-2.06.94z\"/><path d=\"M17.41 7.96l-1.37-1.37c-.4-.4-.92-.59-1.43-.59-.52 0-1.04.2-1.43.59L10.3 9.45l-7.72 7.72c-.78.78-.78 2.05 0 2.83L4 21.41c.39.39.9.59 1.41.59.51 0 1.02-.2 1.41-.59l7.78-7.78 2.81-2.81c.8-.78.8-2.07 0-2.86zM5.41 20L4 18.59l7.72-7.72 1.47 1.35L5.41 20z\"/>\n",
              "  </svg>\n",
              "      </button>\n",
              "      \n",
              "  <style>\n",
              "    .colab-df-container {\n",
              "      display:flex;\n",
              "      flex-wrap:wrap;\n",
              "      gap: 12px;\n",
              "    }\n",
              "\n",
              "    .colab-df-convert {\n",
              "      background-color: #E8F0FE;\n",
              "      border: none;\n",
              "      border-radius: 50%;\n",
              "      cursor: pointer;\n",
              "      display: none;\n",
              "      fill: #1967D2;\n",
              "      height: 32px;\n",
              "      padding: 0 0 0 0;\n",
              "      width: 32px;\n",
              "    }\n",
              "\n",
              "    .colab-df-convert:hover {\n",
              "      background-color: #E2EBFA;\n",
              "      box-shadow: 0px 1px 2px rgba(60, 64, 67, 0.3), 0px 1px 3px 1px rgba(60, 64, 67, 0.15);\n",
              "      fill: #174EA6;\n",
              "    }\n",
              "\n",
              "    [theme=dark] .colab-df-convert {\n",
              "      background-color: #3B4455;\n",
              "      fill: #D2E3FC;\n",
              "    }\n",
              "\n",
              "    [theme=dark] .colab-df-convert:hover {\n",
              "      background-color: #434B5C;\n",
              "      box-shadow: 0px 1px 3px 1px rgba(0, 0, 0, 0.15);\n",
              "      filter: drop-shadow(0px 1px 2px rgba(0, 0, 0, 0.3));\n",
              "      fill: #FFFFFF;\n",
              "    }\n",
              "  </style>\n",
              "\n",
              "      <script>\n",
              "        const buttonEl =\n",
              "          document.querySelector('#df-9b40ea0b-7429-4438-868c-4d754102808f button.colab-df-convert');\n",
              "        buttonEl.style.display =\n",
              "          google.colab.kernel.accessAllowed ? 'block' : 'none';\n",
              "\n",
              "        async function convertToInteractive(key) {\n",
              "          const element = document.querySelector('#df-9b40ea0b-7429-4438-868c-4d754102808f');\n",
              "          const dataTable =\n",
              "            await google.colab.kernel.invokeFunction('convertToInteractive',\n",
              "                                                     [key], {});\n",
              "          if (!dataTable) return;\n",
              "\n",
              "          const docLinkHtml = 'Like what you see? Visit the ' +\n",
              "            '<a target=\"_blank\" href=https://colab.research.google.com/notebooks/data_table.ipynb>data table notebook</a>'\n",
              "            + ' to learn more about interactive tables.';\n",
              "          element.innerHTML = '';\n",
              "          dataTable['output_type'] = 'display_data';\n",
              "          await google.colab.output.renderOutput(dataTable, element);\n",
              "          const docLink = document.createElement('div');\n",
              "          docLink.innerHTML = docLinkHtml;\n",
              "          element.appendChild(docLink);\n",
              "        }\n",
              "      </script>\n",
              "    </div>\n",
              "  </div>\n",
              "  "
            ]
          },
          "metadata": {},
          "execution_count": 7
        }
      ],
      "source": [
        "columns2remove = ['categories', 'characteristic_attributes_mapping',\n",
        "                  'pic_embeddings_resnet_v1', 'name', 'name_bert_64', 'color_parsed']\n",
        "\n",
        "etl = etl.drop(columns2remove, axis=1)\n",
        "\n",
        "etl.head(3)"
      ]
    },
    {
      "cell_type": "code",
      "execution_count": null,
      "metadata": {
        "ExecuteTime": {
          "end_time": "2023-05-19T06:13:06.702876Z",
          "start_time": "2023-05-19T06:13:03.688111Z"
        },
        "id": "PT-yWsv5XsvL"
      },
      "outputs": [],
      "source": [
        "train = (\n",
        "    dataset\n",
        "    .merge(\n",
        "        etl\n",
        "        .add_suffix('1'),\n",
        "        on=\"variantid1\"\n",
        "    )\n",
        "    .merge(\n",
        "        etl\n",
        "        .add_suffix('2'),\n",
        "        on=\"variantid2\"\n",
        "    )\n",
        ")"
      ]
    },
    {
      "cell_type": "code",
      "execution_count": null,
      "metadata": {
        "ExecuteTime": {
          "end_time": "2023-05-19T06:13:09.645490Z",
          "start_time": "2023-05-19T06:13:09.620414Z"
        },
        "colab": {
          "base_uri": "https://localhost:8080/",
          "height": 112
        },
        "id": "kvElYYHrXsvL",
        "outputId": "cc46d6c3-8f7c-4346-b117-f9579064e1e8"
      },
      "outputs": [
        {
          "output_type": "execute_result",
          "data": {
            "text/plain": [
              "   target  variantid1  variantid2  \\\n",
              "0     0.0    51197862    51198054   \n",
              "1     0.0    51197862    51199884   \n",
              "\n",
              "                     main_pic_embeddings_resnet_v1_1  \\\n",
              "0  [[-0.4304909, -0.49474272, -0.46439183, -0.060...   \n",
              "1  [[-0.4304909, -0.49474272, -0.46439183, -0.060...   \n",
              "\n",
              "                                         full_text_1  \\\n",
              "0  name: Удлинитель TDM Electric Люкс УЛ05В 5 м (...   \n",
              "1  name: Удлинитель TDM Electric Люкс УЛ05В 5 м (...   \n",
              "\n",
              "                     main_pic_embeddings_resnet_v1_2  \\\n",
              "0  [[-0.42941108, -0.5129398, -0.4753536, -0.0677...   \n",
              "1  [[-0.43180764, -0.49580905, -0.5062628, -0.130...   \n",
              "\n",
              "                                         full_text_2  \n",
              "0  name: Удлинитель TDM Electric Люкс УЛ05В 1.5 м...  \n",
              "1  name: Удлинитель TDM Electric Люкс УЛ05В 3 м (...  "
            ],
            "text/html": [
              "\n",
              "  <div id=\"df-a4ab9656-dc88-4056-8ff3-8fe5c744cdad\">\n",
              "    <div class=\"colab-df-container\">\n",
              "      <div>\n",
              "<style scoped>\n",
              "    .dataframe tbody tr th:only-of-type {\n",
              "        vertical-align: middle;\n",
              "    }\n",
              "\n",
              "    .dataframe tbody tr th {\n",
              "        vertical-align: top;\n",
              "    }\n",
              "\n",
              "    .dataframe thead th {\n",
              "        text-align: right;\n",
              "    }\n",
              "</style>\n",
              "<table border=\"1\" class=\"dataframe\">\n",
              "  <thead>\n",
              "    <tr style=\"text-align: right;\">\n",
              "      <th></th>\n",
              "      <th>target</th>\n",
              "      <th>variantid1</th>\n",
              "      <th>variantid2</th>\n",
              "      <th>main_pic_embeddings_resnet_v1_1</th>\n",
              "      <th>full_text_1</th>\n",
              "      <th>main_pic_embeddings_resnet_v1_2</th>\n",
              "      <th>full_text_2</th>\n",
              "    </tr>\n",
              "  </thead>\n",
              "  <tbody>\n",
              "    <tr>\n",
              "      <th>0</th>\n",
              "      <td>0.0</td>\n",
              "      <td>51197862</td>\n",
              "      <td>51198054</td>\n",
              "      <td>[[-0.4304909, -0.49474272, -0.46439183, -0.060...</td>\n",
              "      <td>name: Удлинитель TDM Electric Люкс УЛ05В 5 м (...</td>\n",
              "      <td>[[-0.42941108, -0.5129398, -0.4753536, -0.0677...</td>\n",
              "      <td>name: Удлинитель TDM Electric Люкс УЛ05В 1.5 м...</td>\n",
              "    </tr>\n",
              "    <tr>\n",
              "      <th>1</th>\n",
              "      <td>0.0</td>\n",
              "      <td>51197862</td>\n",
              "      <td>51199884</td>\n",
              "      <td>[[-0.4304909, -0.49474272, -0.46439183, -0.060...</td>\n",
              "      <td>name: Удлинитель TDM Electric Люкс УЛ05В 5 м (...</td>\n",
              "      <td>[[-0.43180764, -0.49580905, -0.5062628, -0.130...</td>\n",
              "      <td>name: Удлинитель TDM Electric Люкс УЛ05В 3 м (...</td>\n",
              "    </tr>\n",
              "  </tbody>\n",
              "</table>\n",
              "</div>\n",
              "      <button class=\"colab-df-convert\" onclick=\"convertToInteractive('df-a4ab9656-dc88-4056-8ff3-8fe5c744cdad')\"\n",
              "              title=\"Convert this dataframe to an interactive table.\"\n",
              "              style=\"display:none;\">\n",
              "        \n",
              "  <svg xmlns=\"http://www.w3.org/2000/svg\" height=\"24px\"viewBox=\"0 0 24 24\"\n",
              "       width=\"24px\">\n",
              "    <path d=\"M0 0h24v24H0V0z\" fill=\"none\"/>\n",
              "    <path d=\"M18.56 5.44l.94 2.06.94-2.06 2.06-.94-2.06-.94-.94-2.06-.94 2.06-2.06.94zm-11 1L8.5 8.5l.94-2.06 2.06-.94-2.06-.94L8.5 2.5l-.94 2.06-2.06.94zm10 10l.94 2.06.94-2.06 2.06-.94-2.06-.94-.94-2.06-.94 2.06-2.06.94z\"/><path d=\"M17.41 7.96l-1.37-1.37c-.4-.4-.92-.59-1.43-.59-.52 0-1.04.2-1.43.59L10.3 9.45l-7.72 7.72c-.78.78-.78 2.05 0 2.83L4 21.41c.39.39.9.59 1.41.59.51 0 1.02-.2 1.41-.59l7.78-7.78 2.81-2.81c.8-.78.8-2.07 0-2.86zM5.41 20L4 18.59l7.72-7.72 1.47 1.35L5.41 20z\"/>\n",
              "  </svg>\n",
              "      </button>\n",
              "      \n",
              "  <style>\n",
              "    .colab-df-container {\n",
              "      display:flex;\n",
              "      flex-wrap:wrap;\n",
              "      gap: 12px;\n",
              "    }\n",
              "\n",
              "    .colab-df-convert {\n",
              "      background-color: #E8F0FE;\n",
              "      border: none;\n",
              "      border-radius: 50%;\n",
              "      cursor: pointer;\n",
              "      display: none;\n",
              "      fill: #1967D2;\n",
              "      height: 32px;\n",
              "      padding: 0 0 0 0;\n",
              "      width: 32px;\n",
              "    }\n",
              "\n",
              "    .colab-df-convert:hover {\n",
              "      background-color: #E2EBFA;\n",
              "      box-shadow: 0px 1px 2px rgba(60, 64, 67, 0.3), 0px 1px 3px 1px rgba(60, 64, 67, 0.15);\n",
              "      fill: #174EA6;\n",
              "    }\n",
              "\n",
              "    [theme=dark] .colab-df-convert {\n",
              "      background-color: #3B4455;\n",
              "      fill: #D2E3FC;\n",
              "    }\n",
              "\n",
              "    [theme=dark] .colab-df-convert:hover {\n",
              "      background-color: #434B5C;\n",
              "      box-shadow: 0px 1px 3px 1px rgba(0, 0, 0, 0.15);\n",
              "      filter: drop-shadow(0px 1px 2px rgba(0, 0, 0, 0.3));\n",
              "      fill: #FFFFFF;\n",
              "    }\n",
              "  </style>\n",
              "\n",
              "      <script>\n",
              "        const buttonEl =\n",
              "          document.querySelector('#df-a4ab9656-dc88-4056-8ff3-8fe5c744cdad button.colab-df-convert');\n",
              "        buttonEl.style.display =\n",
              "          google.colab.kernel.accessAllowed ? 'block' : 'none';\n",
              "\n",
              "        async function convertToInteractive(key) {\n",
              "          const element = document.querySelector('#df-a4ab9656-dc88-4056-8ff3-8fe5c744cdad');\n",
              "          const dataTable =\n",
              "            await google.colab.kernel.invokeFunction('convertToInteractive',\n",
              "                                                     [key], {});\n",
              "          if (!dataTable) return;\n",
              "\n",
              "          const docLinkHtml = 'Like what you see? Visit the ' +\n",
              "            '<a target=\"_blank\" href=https://colab.research.google.com/notebooks/data_table.ipynb>data table notebook</a>'\n",
              "            + ' to learn more about interactive tables.';\n",
              "          element.innerHTML = '';\n",
              "          dataTable['output_type'] = 'display_data';\n",
              "          await google.colab.output.renderOutput(dataTable, element);\n",
              "          const docLink = document.createElement('div');\n",
              "          docLink.innerHTML = docLinkHtml;\n",
              "          element.appendChild(docLink);\n",
              "        }\n",
              "      </script>\n",
              "    </div>\n",
              "  </div>\n",
              "  "
            ]
          },
          "metadata": {},
          "execution_count": 9
        }
      ],
      "source": [
        "new_index = list(train.columns)\n",
        "\n",
        "# Изменяем имена колонок например с full_text1 на full_text_1\n",
        "for i in range(3, len(new_index)):\n",
        "    name = new_index[i]\n",
        "    \n",
        "    if name.endswith(\"1\"):\n",
        "        new_index[i] = name[:-1] + \"_1\"\n",
        "\n",
        "    else:\n",
        "        new_index[i] = name[:-1] + \"_2\"\n",
        "\n",
        "train.columns = new_index\n",
        "\n",
        "train.head(2)"
      ]
    },
    {
      "cell_type": "code",
      "execution_count": null,
      "metadata": {
        "id": "ZzKRQWGGXsvL"
      },
      "outputs": [],
      "source": [
        "train.to_parquet(\"drive/MyDrive/datasets/merged_train.parquet\", engine='pyarrow', index=False)"
      ]
    },
    {
      "cell_type": "code",
      "execution_count": null,
      "metadata": {
        "id": "w0MAZuESXsvL"
      },
      "outputs": [],
      "source": [
        "train[['target', 'variantid1', 'variantid2', 'full_text_1', 'full_text_2']].to_parquet(\n",
        "    \"datasets/merged_train4nlp.parquet\", engine='pyarrow', index=False)"
      ]
    },
    {
      "cell_type": "markdown",
      "metadata": {
        "id": "Pt1wVSTJXsvL"
      },
      "source": [
        "---\n",
        "Test"
      ]
    },
    {
      "cell_type": "code",
      "execution_count": null,
      "metadata": {
        "id": "MLQ2QdldXsvL"
      },
      "outputs": [],
      "source": [
        "test_pairs = pd.read_parquet(\"datasets/test_pairs_wo_target.parquet\")\n",
        "test_etl = pd.read_parquet(\"datasets/test_data.parquet\")"
      ]
    },
    {
      "cell_type": "code",
      "execution_count": null,
      "metadata": {
        "colab": {
          "base_uri": "https://localhost:8080/",
          "height": 424
        },
        "id": "r6dbfKNgXsvL",
        "outputId": "6eac73ec-f70a-4eb4-a8e6-567b19b21f37"
      },
      "outputs": [
        {
          "output_type": "execute_result",
          "data": {
            "text/plain": [
              "       variantid1  variantid2                             cat3_grouped\n",
              "0        52076340   290590137                 Батарейки и аккумуляторы\n",
              "1        64525522   204128919  Смартфоны, планшеты, мобильные телефоны\n",
              "2        77243372   479860557                     Кабели и переходники\n",
              "3        86065820   540678372                 Устройство ручного ввода\n",
              "4        91566575   258840506  Смартфоны, планшеты, мобильные телефоны\n",
              "...           ...         ...                                      ...\n",
              "18079   666998614   667074522                       Оперативная память\n",
              "18080   670036240   670048449        Зарядные устройства и док-станции\n",
              "18081   670284509   684323809                               Смарт-часы\n",
              "18082   692172005   704805270                                     rest\n",
              "18083   704060220   704096517        Зарядные устройства и док-станции\n",
              "\n",
              "[18084 rows x 3 columns]"
            ],
            "text/html": [
              "\n",
              "  <div id=\"df-4f0cab87-0736-4e29-b0f5-d112b9debe16\">\n",
              "    <div class=\"colab-df-container\">\n",
              "      <div>\n",
              "<style scoped>\n",
              "    .dataframe tbody tr th:only-of-type {\n",
              "        vertical-align: middle;\n",
              "    }\n",
              "\n",
              "    .dataframe tbody tr th {\n",
              "        vertical-align: top;\n",
              "    }\n",
              "\n",
              "    .dataframe thead th {\n",
              "        text-align: right;\n",
              "    }\n",
              "</style>\n",
              "<table border=\"1\" class=\"dataframe\">\n",
              "  <thead>\n",
              "    <tr style=\"text-align: right;\">\n",
              "      <th></th>\n",
              "      <th>variantid1</th>\n",
              "      <th>variantid2</th>\n",
              "      <th>cat3_grouped</th>\n",
              "    </tr>\n",
              "  </thead>\n",
              "  <tbody>\n",
              "    <tr>\n",
              "      <th>0</th>\n",
              "      <td>52076340</td>\n",
              "      <td>290590137</td>\n",
              "      <td>Батарейки и аккумуляторы</td>\n",
              "    </tr>\n",
              "    <tr>\n",
              "      <th>1</th>\n",
              "      <td>64525522</td>\n",
              "      <td>204128919</td>\n",
              "      <td>Смартфоны, планшеты, мобильные телефоны</td>\n",
              "    </tr>\n",
              "    <tr>\n",
              "      <th>2</th>\n",
              "      <td>77243372</td>\n",
              "      <td>479860557</td>\n",
              "      <td>Кабели и переходники</td>\n",
              "    </tr>\n",
              "    <tr>\n",
              "      <th>3</th>\n",
              "      <td>86065820</td>\n",
              "      <td>540678372</td>\n",
              "      <td>Устройство ручного ввода</td>\n",
              "    </tr>\n",
              "    <tr>\n",
              "      <th>4</th>\n",
              "      <td>91566575</td>\n",
              "      <td>258840506</td>\n",
              "      <td>Смартфоны, планшеты, мобильные телефоны</td>\n",
              "    </tr>\n",
              "    <tr>\n",
              "      <th>...</th>\n",
              "      <td>...</td>\n",
              "      <td>...</td>\n",
              "      <td>...</td>\n",
              "    </tr>\n",
              "    <tr>\n",
              "      <th>18079</th>\n",
              "      <td>666998614</td>\n",
              "      <td>667074522</td>\n",
              "      <td>Оперативная память</td>\n",
              "    </tr>\n",
              "    <tr>\n",
              "      <th>18080</th>\n",
              "      <td>670036240</td>\n",
              "      <td>670048449</td>\n",
              "      <td>Зарядные устройства и док-станции</td>\n",
              "    </tr>\n",
              "    <tr>\n",
              "      <th>18081</th>\n",
              "      <td>670284509</td>\n",
              "      <td>684323809</td>\n",
              "      <td>Смарт-часы</td>\n",
              "    </tr>\n",
              "    <tr>\n",
              "      <th>18082</th>\n",
              "      <td>692172005</td>\n",
              "      <td>704805270</td>\n",
              "      <td>rest</td>\n",
              "    </tr>\n",
              "    <tr>\n",
              "      <th>18083</th>\n",
              "      <td>704060220</td>\n",
              "      <td>704096517</td>\n",
              "      <td>Зарядные устройства и док-станции</td>\n",
              "    </tr>\n",
              "  </tbody>\n",
              "</table>\n",
              "<p>18084 rows × 3 columns</p>\n",
              "</div>\n",
              "      <button class=\"colab-df-convert\" onclick=\"convertToInteractive('df-4f0cab87-0736-4e29-b0f5-d112b9debe16')\"\n",
              "              title=\"Convert this dataframe to an interactive table.\"\n",
              "              style=\"display:none;\">\n",
              "        \n",
              "  <svg xmlns=\"http://www.w3.org/2000/svg\" height=\"24px\"viewBox=\"0 0 24 24\"\n",
              "       width=\"24px\">\n",
              "    <path d=\"M0 0h24v24H0V0z\" fill=\"none\"/>\n",
              "    <path d=\"M18.56 5.44l.94 2.06.94-2.06 2.06-.94-2.06-.94-.94-2.06-.94 2.06-2.06.94zm-11 1L8.5 8.5l.94-2.06 2.06-.94-2.06-.94L8.5 2.5l-.94 2.06-2.06.94zm10 10l.94 2.06.94-2.06 2.06-.94-2.06-.94-.94-2.06-.94 2.06-2.06.94z\"/><path d=\"M17.41 7.96l-1.37-1.37c-.4-.4-.92-.59-1.43-.59-.52 0-1.04.2-1.43.59L10.3 9.45l-7.72 7.72c-.78.78-.78 2.05 0 2.83L4 21.41c.39.39.9.59 1.41.59.51 0 1.02-.2 1.41-.59l7.78-7.78 2.81-2.81c.8-.78.8-2.07 0-2.86zM5.41 20L4 18.59l7.72-7.72 1.47 1.35L5.41 20z\"/>\n",
              "  </svg>\n",
              "      </button>\n",
              "      \n",
              "  <style>\n",
              "    .colab-df-container {\n",
              "      display:flex;\n",
              "      flex-wrap:wrap;\n",
              "      gap: 12px;\n",
              "    }\n",
              "\n",
              "    .colab-df-convert {\n",
              "      background-color: #E8F0FE;\n",
              "      border: none;\n",
              "      border-radius: 50%;\n",
              "      cursor: pointer;\n",
              "      display: none;\n",
              "      fill: #1967D2;\n",
              "      height: 32px;\n",
              "      padding: 0 0 0 0;\n",
              "      width: 32px;\n",
              "    }\n",
              "\n",
              "    .colab-df-convert:hover {\n",
              "      background-color: #E2EBFA;\n",
              "      box-shadow: 0px 1px 2px rgba(60, 64, 67, 0.3), 0px 1px 3px 1px rgba(60, 64, 67, 0.15);\n",
              "      fill: #174EA6;\n",
              "    }\n",
              "\n",
              "    [theme=dark] .colab-df-convert {\n",
              "      background-color: #3B4455;\n",
              "      fill: #D2E3FC;\n",
              "    }\n",
              "\n",
              "    [theme=dark] .colab-df-convert:hover {\n",
              "      background-color: #434B5C;\n",
              "      box-shadow: 0px 1px 3px 1px rgba(0, 0, 0, 0.15);\n",
              "      filter: drop-shadow(0px 1px 2px rgba(0, 0, 0, 0.3));\n",
              "      fill: #FFFFFF;\n",
              "    }\n",
              "  </style>\n",
              "\n",
              "      <script>\n",
              "        const buttonEl =\n",
              "          document.querySelector('#df-4f0cab87-0736-4e29-b0f5-d112b9debe16 button.colab-df-convert');\n",
              "        buttonEl.style.display =\n",
              "          google.colab.kernel.accessAllowed ? 'block' : 'none';\n",
              "\n",
              "        async function convertToInteractive(key) {\n",
              "          const element = document.querySelector('#df-4f0cab87-0736-4e29-b0f5-d112b9debe16');\n",
              "          const dataTable =\n",
              "            await google.colab.kernel.invokeFunction('convertToInteractive',\n",
              "                                                     [key], {});\n",
              "          if (!dataTable) return;\n",
              "\n",
              "          const docLinkHtml = 'Like what you see? Visit the ' +\n",
              "            '<a target=\"_blank\" href=https://colab.research.google.com/notebooks/data_table.ipynb>data table notebook</a>'\n",
              "            + ' to learn more about interactive tables.';\n",
              "          element.innerHTML = '';\n",
              "          dataTable['output_type'] = 'display_data';\n",
              "          await google.colab.output.renderOutput(dataTable, element);\n",
              "          const docLink = document.createElement('div');\n",
              "          docLink.innerHTML = docLinkHtml;\n",
              "          element.appendChild(docLink);\n",
              "        }\n",
              "      </script>\n",
              "    </div>\n",
              "  </div>\n",
              "  "
            ]
          },
          "metadata": {},
          "execution_count": 8
        }
      ],
      "source": [
        "test_pairs"
      ]
    },
    {
      "cell_type": "code",
      "execution_count": null,
      "metadata": {
        "colab": {
          "base_uri": "https://localhost:8080/",
          "height": 143
        },
        "id": "Kpo4lkv8XsvL",
        "outputId": "a8332459-2d7c-4c23-f244-76c0fb1e7825"
      },
      "outputs": [
        {
          "output_type": "execute_result",
          "data": {
            "text/plain": [
              "   variantid                      main_pic_embeddings_resnet_v1  \\\n",
              "0   51201254  [[0.38310742, -0.7876679, 0.5018278, 0.2090071...   \n",
              "1   77151532  [[0.50964713, 0.7958329, -1.4113188, 0.1999381...   \n",
              "2   89664856  [[0.9958085, -0.113175124, -0.7623152, -0.9164...   \n",
              "\n",
              "                                           full_text  \n",
              "0  name: Колодка TDM Electric четырехместная без ...  \n",
              "1  name: Клавиатура черная с черной рамкой для 25...  \n",
              "2  name: 15.6\" Игровой ноутбук Acer Predator Heli...  "
            ],
            "text/html": [
              "\n",
              "  <div id=\"df-52464552-8a97-4cf9-8f45-158c9131cfbc\">\n",
              "    <div class=\"colab-df-container\">\n",
              "      <div>\n",
              "<style scoped>\n",
              "    .dataframe tbody tr th:only-of-type {\n",
              "        vertical-align: middle;\n",
              "    }\n",
              "\n",
              "    .dataframe tbody tr th {\n",
              "        vertical-align: top;\n",
              "    }\n",
              "\n",
              "    .dataframe thead th {\n",
              "        text-align: right;\n",
              "    }\n",
              "</style>\n",
              "<table border=\"1\" class=\"dataframe\">\n",
              "  <thead>\n",
              "    <tr style=\"text-align: right;\">\n",
              "      <th></th>\n",
              "      <th>variantid</th>\n",
              "      <th>main_pic_embeddings_resnet_v1</th>\n",
              "      <th>full_text</th>\n",
              "    </tr>\n",
              "  </thead>\n",
              "  <tbody>\n",
              "    <tr>\n",
              "      <th>0</th>\n",
              "      <td>51201254</td>\n",
              "      <td>[[0.38310742, -0.7876679, 0.5018278, 0.2090071...</td>\n",
              "      <td>name: Колодка TDM Electric четырехместная без ...</td>\n",
              "    </tr>\n",
              "    <tr>\n",
              "      <th>1</th>\n",
              "      <td>77151532</td>\n",
              "      <td>[[0.50964713, 0.7958329, -1.4113188, 0.1999381...</td>\n",
              "      <td>name: Клавиатура черная с черной рамкой для 25...</td>\n",
              "    </tr>\n",
              "    <tr>\n",
              "      <th>2</th>\n",
              "      <td>89664856</td>\n",
              "      <td>[[0.9958085, -0.113175124, -0.7623152, -0.9164...</td>\n",
              "      <td>name: 15.6\" Игровой ноутбук Acer Predator Heli...</td>\n",
              "    </tr>\n",
              "  </tbody>\n",
              "</table>\n",
              "</div>\n",
              "      <button class=\"colab-df-convert\" onclick=\"convertToInteractive('df-52464552-8a97-4cf9-8f45-158c9131cfbc')\"\n",
              "              title=\"Convert this dataframe to an interactive table.\"\n",
              "              style=\"display:none;\">\n",
              "        \n",
              "  <svg xmlns=\"http://www.w3.org/2000/svg\" height=\"24px\"viewBox=\"0 0 24 24\"\n",
              "       width=\"24px\">\n",
              "    <path d=\"M0 0h24v24H0V0z\" fill=\"none\"/>\n",
              "    <path d=\"M18.56 5.44l.94 2.06.94-2.06 2.06-.94-2.06-.94-.94-2.06-.94 2.06-2.06.94zm-11 1L8.5 8.5l.94-2.06 2.06-.94-2.06-.94L8.5 2.5l-.94 2.06-2.06.94zm10 10l.94 2.06.94-2.06 2.06-.94-2.06-.94-.94-2.06-.94 2.06-2.06.94z\"/><path d=\"M17.41 7.96l-1.37-1.37c-.4-.4-.92-.59-1.43-.59-.52 0-1.04.2-1.43.59L10.3 9.45l-7.72 7.72c-.78.78-.78 2.05 0 2.83L4 21.41c.39.39.9.59 1.41.59.51 0 1.02-.2 1.41-.59l7.78-7.78 2.81-2.81c.8-.78.8-2.07 0-2.86zM5.41 20L4 18.59l7.72-7.72 1.47 1.35L5.41 20z\"/>\n",
              "  </svg>\n",
              "      </button>\n",
              "      \n",
              "  <style>\n",
              "    .colab-df-container {\n",
              "      display:flex;\n",
              "      flex-wrap:wrap;\n",
              "      gap: 12px;\n",
              "    }\n",
              "\n",
              "    .colab-df-convert {\n",
              "      background-color: #E8F0FE;\n",
              "      border: none;\n",
              "      border-radius: 50%;\n",
              "      cursor: pointer;\n",
              "      display: none;\n",
              "      fill: #1967D2;\n",
              "      height: 32px;\n",
              "      padding: 0 0 0 0;\n",
              "      width: 32px;\n",
              "    }\n",
              "\n",
              "    .colab-df-convert:hover {\n",
              "      background-color: #E2EBFA;\n",
              "      box-shadow: 0px 1px 2px rgba(60, 64, 67, 0.3), 0px 1px 3px 1px rgba(60, 64, 67, 0.15);\n",
              "      fill: #174EA6;\n",
              "    }\n",
              "\n",
              "    [theme=dark] .colab-df-convert {\n",
              "      background-color: #3B4455;\n",
              "      fill: #D2E3FC;\n",
              "    }\n",
              "\n",
              "    [theme=dark] .colab-df-convert:hover {\n",
              "      background-color: #434B5C;\n",
              "      box-shadow: 0px 1px 3px 1px rgba(0, 0, 0, 0.15);\n",
              "      filter: drop-shadow(0px 1px 2px rgba(0, 0, 0, 0.3));\n",
              "      fill: #FFFFFF;\n",
              "    }\n",
              "  </style>\n",
              "\n",
              "      <script>\n",
              "        const buttonEl =\n",
              "          document.querySelector('#df-52464552-8a97-4cf9-8f45-158c9131cfbc button.colab-df-convert');\n",
              "        buttonEl.style.display =\n",
              "          google.colab.kernel.accessAllowed ? 'block' : 'none';\n",
              "\n",
              "        async function convertToInteractive(key) {\n",
              "          const element = document.querySelector('#df-52464552-8a97-4cf9-8f45-158c9131cfbc');\n",
              "          const dataTable =\n",
              "            await google.colab.kernel.invokeFunction('convertToInteractive',\n",
              "                                                     [key], {});\n",
              "          if (!dataTable) return;\n",
              "\n",
              "          const docLinkHtml = 'Like what you see? Visit the ' +\n",
              "            '<a target=\"_blank\" href=https://colab.research.google.com/notebooks/data_table.ipynb>data table notebook</a>'\n",
              "            + ' to learn more about interactive tables.';\n",
              "          element.innerHTML = '';\n",
              "          dataTable['output_type'] = 'display_data';\n",
              "          await google.colab.output.renderOutput(dataTable, element);\n",
              "          const docLink = document.createElement('div');\n",
              "          docLink.innerHTML = docLinkHtml;\n",
              "          element.appendChild(docLink);\n",
              "        }\n",
              "      </script>\n",
              "    </div>\n",
              "  </div>\n",
              "  "
            ]
          },
          "metadata": {},
          "execution_count": 13
        }
      ],
      "source": [
        "columns = [\"name\", \"color_parsed\", \"categories\", \"characteristic_attributes_mapping\"]\n",
        "\n",
        "test_etl[\"full_text\"] = test_etl[columns].apply(lambda x: make_full_text(x), axis=1)\n",
        "\n",
        "columns2remove = ['categories', 'characteristic_attributes_mapping',\n",
        "                  'pic_embeddings_resnet_v1', 'name', 'name_bert_64', 'color_parsed']\n",
        "\n",
        "test_pairs = test_pairs.drop('cat3_grouped', axis=1)\n",
        "\n",
        "test_etl = test_etl.drop(columns2remove, axis=1)\n",
        "\n",
        "test_etl.head(3)"
      ]
    },
    {
      "cell_type": "code",
      "execution_count": null,
      "metadata": {
        "id": "jgOb9E0DXsvL"
      },
      "outputs": [],
      "source": [
        "test = (\n",
        "    test_pairs\n",
        "    .merge(\n",
        "        test_etl\n",
        "        .add_suffix('1'),\n",
        "        on=\"variantid1\"\n",
        "    )\n",
        "    .merge(\n",
        "        test_etl\n",
        "        .add_suffix('2'),\n",
        "        on=\"variantid2\"\n",
        "    )\n",
        ")"
      ]
    },
    {
      "cell_type": "code",
      "execution_count": null,
      "metadata": {
        "colab": {
          "base_uri": "https://localhost:8080/",
          "height": 112
        },
        "id": "yWF6w1pCXsvL",
        "outputId": "4f713167-eab2-4f0b-9ec1-dac5c60f6f74"
      },
      "outputs": [
        {
          "output_type": "execute_result",
          "data": {
            "text/plain": [
              "   variantid1  variantid2                    main_pic_embeddings_resnet_v1_1  \\\n",
              "0    52076340   290590137  [[0.04763528, -0.20136409, 0.29605597, 0.26453...   \n",
              "1    64525522   204128919  [[-0.27325493, -0.6696304, 0.027148303, 0.0785...   \n",
              "\n",
              "                                         full_text_1  \\\n",
              "0  name: Батарейка AAA щелочная Perfeo LR03/10BL ...   \n",
              "1  name: Смартфон Ulefone Armor X5 3/32 ГБ, черны...   \n",
              "\n",
              "                     main_pic_embeddings_resnet_v1_2  \\\n",
              "0  [[0.06223978, -0.16145544, 0.26409012, 0.24271...   \n",
              "1  [[-0.15358369, -0.8256463, -0.054863703, 0.453...   \n",
              "\n",
              "                                         full_text_2  \n",
              "0  name: Батарейка AAA щелочная Perfeo LR03/2BL m...  \n",
              "1  name: Смартфон Ulefone Armor X3 2/32 ГБ, черны...  "
            ],
            "text/html": [
              "\n",
              "  <div id=\"df-226b913e-e68b-4f09-aba0-aacd0e10b2dc\">\n",
              "    <div class=\"colab-df-container\">\n",
              "      <div>\n",
              "<style scoped>\n",
              "    .dataframe tbody tr th:only-of-type {\n",
              "        vertical-align: middle;\n",
              "    }\n",
              "\n",
              "    .dataframe tbody tr th {\n",
              "        vertical-align: top;\n",
              "    }\n",
              "\n",
              "    .dataframe thead th {\n",
              "        text-align: right;\n",
              "    }\n",
              "</style>\n",
              "<table border=\"1\" class=\"dataframe\">\n",
              "  <thead>\n",
              "    <tr style=\"text-align: right;\">\n",
              "      <th></th>\n",
              "      <th>variantid1</th>\n",
              "      <th>variantid2</th>\n",
              "      <th>main_pic_embeddings_resnet_v1_1</th>\n",
              "      <th>full_text_1</th>\n",
              "      <th>main_pic_embeddings_resnet_v1_2</th>\n",
              "      <th>full_text_2</th>\n",
              "    </tr>\n",
              "  </thead>\n",
              "  <tbody>\n",
              "    <tr>\n",
              "      <th>0</th>\n",
              "      <td>52076340</td>\n",
              "      <td>290590137</td>\n",
              "      <td>[[0.04763528, -0.20136409, 0.29605597, 0.26453...</td>\n",
              "      <td>name: Батарейка AAA щелочная Perfeo LR03/10BL ...</td>\n",
              "      <td>[[0.06223978, -0.16145544, 0.26409012, 0.24271...</td>\n",
              "      <td>name: Батарейка AAA щелочная Perfeo LR03/2BL m...</td>\n",
              "    </tr>\n",
              "    <tr>\n",
              "      <th>1</th>\n",
              "      <td>64525522</td>\n",
              "      <td>204128919</td>\n",
              "      <td>[[-0.27325493, -0.6696304, 0.027148303, 0.0785...</td>\n",
              "      <td>name: Смартфон Ulefone Armor X5 3/32 ГБ, черны...</td>\n",
              "      <td>[[-0.15358369, -0.8256463, -0.054863703, 0.453...</td>\n",
              "      <td>name: Смартфон Ulefone Armor X3 2/32 ГБ, черны...</td>\n",
              "    </tr>\n",
              "  </tbody>\n",
              "</table>\n",
              "</div>\n",
              "      <button class=\"colab-df-convert\" onclick=\"convertToInteractive('df-226b913e-e68b-4f09-aba0-aacd0e10b2dc')\"\n",
              "              title=\"Convert this dataframe to an interactive table.\"\n",
              "              style=\"display:none;\">\n",
              "        \n",
              "  <svg xmlns=\"http://www.w3.org/2000/svg\" height=\"24px\"viewBox=\"0 0 24 24\"\n",
              "       width=\"24px\">\n",
              "    <path d=\"M0 0h24v24H0V0z\" fill=\"none\"/>\n",
              "    <path d=\"M18.56 5.44l.94 2.06.94-2.06 2.06-.94-2.06-.94-.94-2.06-.94 2.06-2.06.94zm-11 1L8.5 8.5l.94-2.06 2.06-.94-2.06-.94L8.5 2.5l-.94 2.06-2.06.94zm10 10l.94 2.06.94-2.06 2.06-.94-2.06-.94-.94-2.06-.94 2.06-2.06.94z\"/><path d=\"M17.41 7.96l-1.37-1.37c-.4-.4-.92-.59-1.43-.59-.52 0-1.04.2-1.43.59L10.3 9.45l-7.72 7.72c-.78.78-.78 2.05 0 2.83L4 21.41c.39.39.9.59 1.41.59.51 0 1.02-.2 1.41-.59l7.78-7.78 2.81-2.81c.8-.78.8-2.07 0-2.86zM5.41 20L4 18.59l7.72-7.72 1.47 1.35L5.41 20z\"/>\n",
              "  </svg>\n",
              "      </button>\n",
              "      \n",
              "  <style>\n",
              "    .colab-df-container {\n",
              "      display:flex;\n",
              "      flex-wrap:wrap;\n",
              "      gap: 12px;\n",
              "    }\n",
              "\n",
              "    .colab-df-convert {\n",
              "      background-color: #E8F0FE;\n",
              "      border: none;\n",
              "      border-radius: 50%;\n",
              "      cursor: pointer;\n",
              "      display: none;\n",
              "      fill: #1967D2;\n",
              "      height: 32px;\n",
              "      padding: 0 0 0 0;\n",
              "      width: 32px;\n",
              "    }\n",
              "\n",
              "    .colab-df-convert:hover {\n",
              "      background-color: #E2EBFA;\n",
              "      box-shadow: 0px 1px 2px rgba(60, 64, 67, 0.3), 0px 1px 3px 1px rgba(60, 64, 67, 0.15);\n",
              "      fill: #174EA6;\n",
              "    }\n",
              "\n",
              "    [theme=dark] .colab-df-convert {\n",
              "      background-color: #3B4455;\n",
              "      fill: #D2E3FC;\n",
              "    }\n",
              "\n",
              "    [theme=dark] .colab-df-convert:hover {\n",
              "      background-color: #434B5C;\n",
              "      box-shadow: 0px 1px 3px 1px rgba(0, 0, 0, 0.15);\n",
              "      filter: drop-shadow(0px 1px 2px rgba(0, 0, 0, 0.3));\n",
              "      fill: #FFFFFF;\n",
              "    }\n",
              "  </style>\n",
              "\n",
              "      <script>\n",
              "        const buttonEl =\n",
              "          document.querySelector('#df-226b913e-e68b-4f09-aba0-aacd0e10b2dc button.colab-df-convert');\n",
              "        buttonEl.style.display =\n",
              "          google.colab.kernel.accessAllowed ? 'block' : 'none';\n",
              "\n",
              "        async function convertToInteractive(key) {\n",
              "          const element = document.querySelector('#df-226b913e-e68b-4f09-aba0-aacd0e10b2dc');\n",
              "          const dataTable =\n",
              "            await google.colab.kernel.invokeFunction('convertToInteractive',\n",
              "                                                     [key], {});\n",
              "          if (!dataTable) return;\n",
              "\n",
              "          const docLinkHtml = 'Like what you see? Visit the ' +\n",
              "            '<a target=\"_blank\" href=https://colab.research.google.com/notebooks/data_table.ipynb>data table notebook</a>'\n",
              "            + ' to learn more about interactive tables.';\n",
              "          element.innerHTML = '';\n",
              "          dataTable['output_type'] = 'display_data';\n",
              "          await google.colab.output.renderOutput(dataTable, element);\n",
              "          const docLink = document.createElement('div');\n",
              "          docLink.innerHTML = docLinkHtml;\n",
              "          element.appendChild(docLink);\n",
              "        }\n",
              "      </script>\n",
              "    </div>\n",
              "  </div>\n",
              "  "
            ]
          },
          "metadata": {},
          "execution_count": 15
        }
      ],
      "source": [
        "new_index = list(test.columns)\n",
        "\n",
        "for i in range(2, len(new_index)):\n",
        "    name = new_index[i]\n",
        "    \n",
        "    if name.endswith(\"1\"):\n",
        "        new_index[i] = name[:-1] + \"_1\"\n",
        "\n",
        "    else:\n",
        "        new_index[i] = name[:-1] + \"_2\"\n",
        "\n",
        "test.columns = new_index\n",
        "\n",
        "test.head(2)"
      ]
    },
    {
      "cell_type": "code",
      "execution_count": null,
      "metadata": {
        "id": "_bm0w6GFXsvL"
      },
      "outputs": [],
      "source": [
        "test.to_parquet(\"drive/MyDrive/datasets/merged_test.parquet\", engine='pyarrow', index=False)"
      ]
    },
    {
      "cell_type": "code",
      "execution_count": null,
      "metadata": {
        "id": "QXSqsqgBXsvL"
      },
      "outputs": [],
      "source": [
        "test[['variantid1', 'variantid2', 'full_text_1', 'full_text_2']].to_parquet(\n",
        "    \"drive/MyDrive/datasets/merged_test4nlp.parquet\", engine='pyarrow', index=False\n",
        ")"
      ]
    }
  ],
  "metadata": {
    "kernelspec": {
      "display_name": "Python 3",
      "name": "python3"
    },
    "language_info": {
      "codemirror_mode": {
        "name": "ipython",
        "version": 3
      },
      "file_extension": ".py",
      "mimetype": "text/x-python",
      "name": "python",
      "nbconvert_exporter": "python",
      "pygments_lexer": "ipython3",
      "version": "3.10.11"
    },
    "colab": {
      "provenance": [],
      "include_colab_link": true
    }
  },
  "nbformat": 4,
  "nbformat_minor": 0
}