{
  "cells": [
    {
      "cell_type": "markdown",
      "metadata": {
        "id": "view-in-github",
        "colab_type": "text"
      },
      "source": [
        "<a href=\"https://colab.research.google.com/github/mathewpolonsky/Marketplace-Item-Matching/blob/main/Training_CatBoost.ipynb\" target=\"_parent\"><img src=\"https://colab.research.google.com/assets/colab-badge.svg\" alt=\"Open In Colab\"/></a>"
      ]
    },
    {
      "cell_type": "code",
      "source": [
        "!gdown 1xqbHyg30TSoXUnVALYkuLlgHfFUPFyM6\n",
        "!gdown 1AgER8HsTYSKmdY2q40qdoCsiCDp7SvIT\n",
        "!gdown 1FwNz9suT_aEYCHstliz8YmRz2uTfqwIe"
      ],
      "metadata": {
        "id": "6e6lf0GRyOCJ"
      },
      "execution_count": null,
      "outputs": []
    },
    {
      "cell_type": "code",
      "source": [
        "from google.colab import drive\n",
        "drive.mount('/content/drive')"
      ],
      "metadata": {
        "colab": {
          "base_uri": "https://localhost:8080/"
        },
        "id": "98u--3ql1H6_",
        "outputId": "38424d62-3d6b-43c9-b186-77ba96f4a9d6"
      },
      "execution_count": null,
      "outputs": [
        {
          "output_type": "stream",
          "name": "stdout",
          "text": [
            "Mounted at /content/drive\n"
          ]
        }
      ]
    },
    {
      "cell_type": "code",
      "execution_count": null,
      "metadata": {
        "id": "ploabyYo3yPs"
      },
      "outputs": [],
      "source": [
        "!pip install catboost"
      ]
    },
    {
      "cell_type": "markdown",
      "source": [
        "---"
      ],
      "metadata": {
        "id": "2feWBEkt2g7M"
      }
    },
    {
      "cell_type": "code",
      "execution_count": null,
      "metadata": {
        "id": "6fUO25Xj3yPs"
      },
      "outputs": [],
      "source": [
        "import json\n",
        "from datetime import datetime\n",
        "\n",
        "import numpy as np\n",
        "import pandas as pd\n",
        "\n",
        "from catboost import CatBoostClassifier, Pool\n",
        "from catboost.utils import eval_metric\n",
        "\n",
        "from sklearn.model_selection import train_test_split\n",
        "from sklearn.metrics.pairwise import cosine_similarity"
      ]
    },
    {
      "cell_type": "markdown",
      "metadata": {
        "id": "mBu4GCFC3yPs"
      },
      "source": [
        "## Training CatBoost"
      ]
    },
    {
      "cell_type": "code",
      "execution_count": null,
      "metadata": {
        "id": "c02uwkhQ3yPs"
      },
      "outputs": [],
      "source": [
        "basic_cols = ['target', 'variantid1', 'variantid2']\n",
        "\n",
        "train = pd.merge(    \n",
        "    pd.read_csv(\"train_cb_rubert_base_class_full_2_eps.csv\"),\n",
        "    pd.read_csv(\"train_cb_xlm_roberta_base_regr_diff_2_eps.csv\"),\n",
        "    on=basic_cols\n",
        ").merge(pd.read_parquet(\"merged_train.parquet\"), on=basic_cols).merge(\n",
        "    pd.read_csv(\"train_cb_distilbert_quora_full_6_eps.csv\"), on=basic_cols)\n",
        "\n",
        "train"
      ]
    },
    {
      "cell_type": "code",
      "execution_count": null,
      "metadata": {
        "id": "O4CjqRJk3yPs"
      },
      "outputs": [],
      "source": [
        "train = train.drop(['full_text_1', 'full_text_2'], axis=1)\n",
        "train.head(2)"
      ]
    },
    {
      "cell_type": "code",
      "execution_count": null,
      "metadata": {
        "id": "ShHhIO3e3yP8"
      },
      "outputs": [],
      "source": [
        "train[\"main_pic_embed_cos_sim\"] = train.apply(lambda x: cosine_similarity([x['main_pic_embeddings_resnet_v1_1'][0]],\n",
        "                                                                          [x['main_pic_embeddings_resnet_v1_2'][0]])[0][0], axis=1)\n",
        "\n",
        "train = train.drop(['main_pic_embeddings_resnet_v1_1', 'main_pic_embeddings_resnet_v1_2'], axis=1)\n",
        "\n",
        "train.head(2)"
      ]
    },
    {
      "cell_type": "code",
      "execution_count": null,
      "metadata": {
        "id": "CIAzJIGt3yP8"
      },
      "outputs": [],
      "source": [
        "X_train, X_val = train_test_split(train, test_size=0.1, random_state=42)\n",
        "\n",
        "y_train = X_train[\"target\"]\n",
        "y_val = X_val[\"target\"]\n",
        "\n",
        "X_train = X_train.drop([\"target\"], axis=1)\n",
        "X_val = X_val.drop([\"target\"], axis=1)\n",
        "\n",
        "train_pool = Pool(\n",
        "    data=X_train[train.columns[3:]],\n",
        "    label=y_train\n",
        ")\n",
        "eval_pool = Pool(\n",
        "    data=X_val[train.columns[3:]],\n",
        "    label=y_val\n",
        ")"
      ]
    },
    {
      "cell_type": "code",
      "execution_count": null,
      "metadata": {
        "id": "FsNLNXZs3yP8"
      },
      "outputs": [],
      "source": [
        "model = CatBoostClassifier(\n",
        "    task_type='GPU',\n",
        "    iterations=1000,\n",
        "    random_seed=63,\n",
        "    learning_rate=0.01,\n",
        "    depth=10,\n",
        "    l2_leaf_reg=3\n",
        ")"
      ]
    },
    {
      "cell_type": "code",
      "execution_count": null,
      "metadata": {
        "colab": {
          "base_uri": "https://localhost:8080/",
          "height": 208,
          "referenced_widgets": [
            "281eca51df304642b86ae77a9cb35a10"
          ]
        },
        "id": "VHSx9fdv3yP8",
        "outputId": "6a3c7b1a-f96b-4a61-b493-38303af5e66c"
      },
      "outputs": [
        {
          "output_type": "display_data",
          "data": {
            "text/plain": [
              "MetricVisualizer(layout=Layout(align_self='stretch', height='500px'))"
            ],
            "application/vnd.jupyter.widget-view+json": {
              "version_major": 2,
              "version_minor": 0,
              "model_id": "281eca51df304642b86ae77a9cb35a10"
            }
          },
          "metadata": {}
        },
        {
          "output_type": "stream",
          "name": "stderr",
          "text": [
            "Warning: Overfitting detector is active, thus evaluation metric is calculated on every iteration. 'metric_period' is ignored for evaluation metric.\n"
          ]
        },
        {
          "output_type": "stream",
          "name": "stdout",
          "text": [
            "0:\tlearn: 0.6814309\ttest: 0.6826879\tbest: 0.6826879 (0)\ttotal: 121ms\tremaining: 2m\n",
            "100:\tlearn: 0.3072237\ttest: 0.3711034\tbest: 0.3711034 (100)\ttotal: 7.7s\tremaining: 1m 8s\n",
            "200:\tlearn: 0.2768718\ttest: 0.3625701\tbest: 0.3614121 (169)\ttotal: 14.7s\tremaining: 58.3s\n",
            "Stopped by overfitting detector  (50 iterations wait)\n",
            "\n",
            "bestTest = 0.3614120542\n",
            "bestIteration = 169\n",
            "\n",
            "Shrink model to first 170 iterations.\n"
          ]
        },
        {
          "output_type": "execute_result",
          "data": {
            "text/plain": [
              "<catboost.core.CatBoostClassifier at 0x7fdfa1e1a0b0>"
            ]
          },
          "metadata": {},
          "execution_count": 12
        }
      ],
      "source": [
        "model.fit(\n",
        "    train_pool,\n",
        "    eval_set=eval_pool,\n",
        "    plot=True,\n",
        "    verbose=True,\n",
        "    use_best_model=True,\n",
        "    early_stopping_rounds=50,\n",
        "    metric_period=100,\n",
        ")"
      ]
    },
    {
      "cell_type": "code",
      "execution_count": null,
      "metadata": {
        "id": "CKL6ahHU3yP8"
      },
      "outputs": [],
      "source": [
        "nlp_models_names = 'xlm_roberta_regr_diff_2_eps+rubert_base_class_full_2_eps+distilbert_quora_full_6_eps+main_pics_cos_sim'"
      ]
    },
    {
      "cell_type": "code",
      "execution_count": null,
      "metadata": {
        "colab": {
          "base_uri": "https://localhost:8080/"
        },
        "id": "atLIsbSo3yP8",
        "outputId": "4a4877cb-ba2c-4b9b-ff59-405521c983b0"
      },
      "outputs": [
        {
          "output_type": "stream",
          "name": "stdout",
          "text": [
            "drive/MyDrive/models/catboost+xlm_roberta_regr_diff_2_eps+rubert_base_class_full_2_eps+distilbert_quora_full_6_eps+main_pics_cos_sim.cbm\n"
          ]
        }
      ],
      "source": [
        "save_path = f\"drive/MyDrive/models/catboost+{nlp_models_names}.cbm\"\n",
        "\n",
        "model.save_model(save_path)\n",
        "print(save_path)"
      ]
    }
  ],
  "metadata": {
    "kernelspec": {
      "display_name": "py10",
      "language": "python",
      "name": "python3"
    },
    "language_info": {
      "codemirror_mode": {
        "name": "ipython",
        "version": 3
      },
      "file_extension": ".py",
      "mimetype": "text/x-python",
      "name": "python",
      "nbconvert_exporter": "python",
      "pygments_lexer": "ipython3",
      "version": "3.10.11"
    },
    "orig_nbformat": 4,
    "colab": {
      "provenance": [],
      "include_colab_link": true
    },
    "widgets": {
      "application/vnd.jupyter.widget-state+json": {
        "281eca51df304642b86ae77a9cb35a10": {
          "model_module": "catboost-widget",
          "model_name": "CatboostWidgetModel",
          "model_module_version": "^1.0.0",
          "state": {
            "_dom_classes": [],
            "_model_module": "catboost-widget",
            "_model_module_version": "^1.0.0",
            "_model_name": "CatboostWidgetModel",
            "_view_count": null,
            "_view_module": "catboost-widget",
            "_view_module_version": "^1.0.0",
            "_view_name": "CatboostWidgetView",
            "data": {
              "catboost_info": {
                "path": "catboost_info",
                "name": "catboost_info",
                "content": {
                  "passed_iterations": 200,
                  "total_iterations": 1000,
                  "data": {
                    "iterations": [
                      {
                        "learn": [
                          0.6814309062
                        ],
                        "iteration": 0,
                        "passed_time": 0.1207250681,
                        "remaining_time": 120.604343,
                        "test": [
                          0.6826879003
                        ]
                      },
                      {
                        "learn": [
                          0.3072237188
                        ],
                        "iteration": 100,
                        "passed_time": 7.695323277,
                        "remaining_time": 68.49599629,
                        "test": [
                          0.3711033927
                        ]
                      },
                      {
                        "learn": [
                          0.276871763
                        ],
                        "iteration": 200,
                        "passed_time": 14.67011407,
                        "remaining_time": 58.31552807,
                        "test": [
                          0.36257013
                        ]
                      }
                    ],
                    "meta": {
                      "test_sets": [
                        "test"
                      ],
                      "test_metrics": [
                        {
                          "best_value": "Min",
                          "name": "Logloss"
                        }
                      ],
                      "learn_metrics": [
                        {
                          "best_value": "Min",
                          "name": "Logloss"
                        }
                      ],
                      "launch_mode": "Train",
                      "parameters": "",
                      "iteration_count": 1000,
                      "learn_sets": [
                        "learn"
                      ],
                      "name": "experiment"
                    }
                  }
                }
              }
            },
            "layout": "IPY_MODEL_e67d4c0e6be749799ca491ce9900640d"
          }
        }
      }
    }
  },
  "nbformat": 4,
  "nbformat_minor": 0
}