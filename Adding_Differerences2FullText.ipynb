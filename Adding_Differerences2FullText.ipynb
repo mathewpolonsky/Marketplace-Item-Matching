{
  "nbformat": 4,
  "nbformat_minor": 0,
  "metadata": {
    "colab": {
      "provenance": [],
      "collapsed_sections": [
        "iPS_5O7-47aO"
      ],
      "gpuType": "A100",
      "authorship_tag": "ABX9TyNdgLsmXRGHmNa/yYQqqrBO",
      "include_colab_link": true
    },
    "kernelspec": {
      "name": "python3",
      "display_name": "Python 3"
    },
    "language_info": {
      "name": "python"
    },
    "widgets": {
      "application/vnd.jupyter.widget-state+json": {
        "c9a76c3dedc94d1fae019fb3c0ae2611": {
          "model_module": "@jupyter-widgets/controls",
          "model_name": "HBoxModel",
          "model_module_version": "1.5.0",
          "state": {
            "_dom_classes": [],
            "_model_module": "@jupyter-widgets/controls",
            "_model_module_version": "1.5.0",
            "_model_name": "HBoxModel",
            "_view_count": null,
            "_view_module": "@jupyter-widgets/controls",
            "_view_module_version": "1.5.0",
            "_view_name": "HBoxView",
            "box_style": "",
            "children": [
              "IPY_MODEL_269f64d9032d4160a69cfc2006d8dc30",
              "IPY_MODEL_5361b3658d7946b98fc4c6558680f57c",
              "IPY_MODEL_0de8968b11e2467ba18133e2e243a39b"
            ],
            "layout": "IPY_MODEL_db19c826010143e6ad264f326984d204"
          }
        },
        "269f64d9032d4160a69cfc2006d8dc30": {
          "model_module": "@jupyter-widgets/controls",
          "model_name": "HTMLModel",
          "model_module_version": "1.5.0",
          "state": {
            "_dom_classes": [],
            "_model_module": "@jupyter-widgets/controls",
            "_model_module_version": "1.5.0",
            "_model_name": "HTMLModel",
            "_view_count": null,
            "_view_module": "@jupyter-widgets/controls",
            "_view_module_version": "1.5.0",
            "_view_name": "HTMLView",
            "description": "",
            "description_tooltip": null,
            "layout": "IPY_MODEL_528e78a9f6444899ba66e0cc7c294fbf",
            "placeholder": "​",
            "style": "IPY_MODEL_2e3366276a75479ea488db0f4d4a1b9e",
            "value": "100%"
          }
        },
        "5361b3658d7946b98fc4c6558680f57c": {
          "model_module": "@jupyter-widgets/controls",
          "model_name": "FloatProgressModel",
          "model_module_version": "1.5.0",
          "state": {
            "_dom_classes": [],
            "_model_module": "@jupyter-widgets/controls",
            "_model_module_version": "1.5.0",
            "_model_name": "FloatProgressModel",
            "_view_count": null,
            "_view_module": "@jupyter-widgets/controls",
            "_view_module_version": "1.5.0",
            "_view_name": "ProgressView",
            "bar_style": "success",
            "description": "",
            "description_tooltip": null,
            "layout": "IPY_MODEL_3babf7d81ca74265945c96ed5109516b",
            "max": 18084,
            "min": 0,
            "orientation": "horizontal",
            "style": "IPY_MODEL_d51d457594ac464083636fb93d429cd2",
            "value": 18084
          }
        },
        "0de8968b11e2467ba18133e2e243a39b": {
          "model_module": "@jupyter-widgets/controls",
          "model_name": "HTMLModel",
          "model_module_version": "1.5.0",
          "state": {
            "_dom_classes": [],
            "_model_module": "@jupyter-widgets/controls",
            "_model_module_version": "1.5.0",
            "_model_name": "HTMLModel",
            "_view_count": null,
            "_view_module": "@jupyter-widgets/controls",
            "_view_module_version": "1.5.0",
            "_view_name": "HTMLView",
            "description": "",
            "description_tooltip": null,
            "layout": "IPY_MODEL_73cfab0ebc3f46988770104be4feed58",
            "placeholder": "​",
            "style": "IPY_MODEL_69e64ca286424af095da0c30c06a01ee",
            "value": " 18084/18084 [03:14&lt;00:00, 98.92it/s]"
          }
        },
        "db19c826010143e6ad264f326984d204": {
          "model_module": "@jupyter-widgets/base",
          "model_name": "LayoutModel",
          "model_module_version": "1.2.0",
          "state": {
            "_model_module": "@jupyter-widgets/base",
            "_model_module_version": "1.2.0",
            "_model_name": "LayoutModel",
            "_view_count": null,
            "_view_module": "@jupyter-widgets/base",
            "_view_module_version": "1.2.0",
            "_view_name": "LayoutView",
            "align_content": null,
            "align_items": null,
            "align_self": null,
            "border": null,
            "bottom": null,
            "display": null,
            "flex": null,
            "flex_flow": null,
            "grid_area": null,
            "grid_auto_columns": null,
            "grid_auto_flow": null,
            "grid_auto_rows": null,
            "grid_column": null,
            "grid_gap": null,
            "grid_row": null,
            "grid_template_areas": null,
            "grid_template_columns": null,
            "grid_template_rows": null,
            "height": null,
            "justify_content": null,
            "justify_items": null,
            "left": null,
            "margin": null,
            "max_height": null,
            "max_width": null,
            "min_height": null,
            "min_width": null,
            "object_fit": null,
            "object_position": null,
            "order": null,
            "overflow": null,
            "overflow_x": null,
            "overflow_y": null,
            "padding": null,
            "right": null,
            "top": null,
            "visibility": null,
            "width": null
          }
        },
        "528e78a9f6444899ba66e0cc7c294fbf": {
          "model_module": "@jupyter-widgets/base",
          "model_name": "LayoutModel",
          "model_module_version": "1.2.0",
          "state": {
            "_model_module": "@jupyter-widgets/base",
            "_model_module_version": "1.2.0",
            "_model_name": "LayoutModel",
            "_view_count": null,
            "_view_module": "@jupyter-widgets/base",
            "_view_module_version": "1.2.0",
            "_view_name": "LayoutView",
            "align_content": null,
            "align_items": null,
            "align_self": null,
            "border": null,
            "bottom": null,
            "display": null,
            "flex": null,
            "flex_flow": null,
            "grid_area": null,
            "grid_auto_columns": null,
            "grid_auto_flow": null,
            "grid_auto_rows": null,
            "grid_column": null,
            "grid_gap": null,
            "grid_row": null,
            "grid_template_areas": null,
            "grid_template_columns": null,
            "grid_template_rows": null,
            "height": null,
            "justify_content": null,
            "justify_items": null,
            "left": null,
            "margin": null,
            "max_height": null,
            "max_width": null,
            "min_height": null,
            "min_width": null,
            "object_fit": null,
            "object_position": null,
            "order": null,
            "overflow": null,
            "overflow_x": null,
            "overflow_y": null,
            "padding": null,
            "right": null,
            "top": null,
            "visibility": null,
            "width": null
          }
        },
        "2e3366276a75479ea488db0f4d4a1b9e": {
          "model_module": "@jupyter-widgets/controls",
          "model_name": "DescriptionStyleModel",
          "model_module_version": "1.5.0",
          "state": {
            "_model_module": "@jupyter-widgets/controls",
            "_model_module_version": "1.5.0",
            "_model_name": "DescriptionStyleModel",
            "_view_count": null,
            "_view_module": "@jupyter-widgets/base",
            "_view_module_version": "1.2.0",
            "_view_name": "StyleView",
            "description_width": ""
          }
        },
        "3babf7d81ca74265945c96ed5109516b": {
          "model_module": "@jupyter-widgets/base",
          "model_name": "LayoutModel",
          "model_module_version": "1.2.0",
          "state": {
            "_model_module": "@jupyter-widgets/base",
            "_model_module_version": "1.2.0",
            "_model_name": "LayoutModel",
            "_view_count": null,
            "_view_module": "@jupyter-widgets/base",
            "_view_module_version": "1.2.0",
            "_view_name": "LayoutView",
            "align_content": null,
            "align_items": null,
            "align_self": null,
            "border": null,
            "bottom": null,
            "display": null,
            "flex": null,
            "flex_flow": null,
            "grid_area": null,
            "grid_auto_columns": null,
            "grid_auto_flow": null,
            "grid_auto_rows": null,
            "grid_column": null,
            "grid_gap": null,
            "grid_row": null,
            "grid_template_areas": null,
            "grid_template_columns": null,
            "grid_template_rows": null,
            "height": null,
            "justify_content": null,
            "justify_items": null,
            "left": null,
            "margin": null,
            "max_height": null,
            "max_width": null,
            "min_height": null,
            "min_width": null,
            "object_fit": null,
            "object_position": null,
            "order": null,
            "overflow": null,
            "overflow_x": null,
            "overflow_y": null,
            "padding": null,
            "right": null,
            "top": null,
            "visibility": null,
            "width": null
          }
        },
        "d51d457594ac464083636fb93d429cd2": {
          "model_module": "@jupyter-widgets/controls",
          "model_name": "ProgressStyleModel",
          "model_module_version": "1.5.0",
          "state": {
            "_model_module": "@jupyter-widgets/controls",
            "_model_module_version": "1.5.0",
            "_model_name": "ProgressStyleModel",
            "_view_count": null,
            "_view_module": "@jupyter-widgets/base",
            "_view_module_version": "1.2.0",
            "_view_name": "StyleView",
            "bar_color": null,
            "description_width": ""
          }
        },
        "73cfab0ebc3f46988770104be4feed58": {
          "model_module": "@jupyter-widgets/base",
          "model_name": "LayoutModel",
          "model_module_version": "1.2.0",
          "state": {
            "_model_module": "@jupyter-widgets/base",
            "_model_module_version": "1.2.0",
            "_model_name": "LayoutModel",
            "_view_count": null,
            "_view_module": "@jupyter-widgets/base",
            "_view_module_version": "1.2.0",
            "_view_name": "LayoutView",
            "align_content": null,
            "align_items": null,
            "align_self": null,
            "border": null,
            "bottom": null,
            "display": null,
            "flex": null,
            "flex_flow": null,
            "grid_area": null,
            "grid_auto_columns": null,
            "grid_auto_flow": null,
            "grid_auto_rows": null,
            "grid_column": null,
            "grid_gap": null,
            "grid_row": null,
            "grid_template_areas": null,
            "grid_template_columns": null,
            "grid_template_rows": null,
            "height": null,
            "justify_content": null,
            "justify_items": null,
            "left": null,
            "margin": null,
            "max_height": null,
            "max_width": null,
            "min_height": null,
            "min_width": null,
            "object_fit": null,
            "object_position": null,
            "order": null,
            "overflow": null,
            "overflow_x": null,
            "overflow_y": null,
            "padding": null,
            "right": null,
            "top": null,
            "visibility": null,
            "width": null
          }
        },
        "69e64ca286424af095da0c30c06a01ee": {
          "model_module": "@jupyter-widgets/controls",
          "model_name": "DescriptionStyleModel",
          "model_module_version": "1.5.0",
          "state": {
            "_model_module": "@jupyter-widgets/controls",
            "_model_module_version": "1.5.0",
            "_model_name": "DescriptionStyleModel",
            "_view_count": null,
            "_view_module": "@jupyter-widgets/base",
            "_view_module_version": "1.2.0",
            "_view_name": "StyleView",
            "description_width": ""
          }
        },
        "ab6c52cfc26448ce85b6980e075d4aa5": {
          "model_module": "@jupyter-widgets/controls",
          "model_name": "HBoxModel",
          "model_module_version": "1.5.0",
          "state": {
            "_dom_classes": [],
            "_model_module": "@jupyter-widgets/controls",
            "_model_module_version": "1.5.0",
            "_model_name": "HBoxModel",
            "_view_count": null,
            "_view_module": "@jupyter-widgets/controls",
            "_view_module_version": "1.5.0",
            "_view_name": "HBoxView",
            "box_style": "",
            "children": [
              "IPY_MODEL_13c79fa782a6464c9fe48e61aef06153",
              "IPY_MODEL_5d5b87e0c4e24215965cf8023e746fb8",
              "IPY_MODEL_d7604206850d4161be05538c00ccc9c9"
            ],
            "layout": "IPY_MODEL_30aab10bcde440a7bf6549446289659f"
          }
        },
        "13c79fa782a6464c9fe48e61aef06153": {
          "model_module": "@jupyter-widgets/controls",
          "model_name": "HTMLModel",
          "model_module_version": "1.5.0",
          "state": {
            "_dom_classes": [],
            "_model_module": "@jupyter-widgets/controls",
            "_model_module_version": "1.5.0",
            "_model_name": "HTMLModel",
            "_view_count": null,
            "_view_module": "@jupyter-widgets/controls",
            "_view_module_version": "1.5.0",
            "_view_name": "HTMLView",
            "description": "",
            "description_tooltip": null,
            "layout": "IPY_MODEL_ff6e6030b66b46a3a54524f6c9db0e5a",
            "placeholder": "​",
            "style": "IPY_MODEL_d829a26f0bdf462aa9efdb4d8f270a2c",
            "value": "100%"
          }
        },
        "5d5b87e0c4e24215965cf8023e746fb8": {
          "model_module": "@jupyter-widgets/controls",
          "model_name": "FloatProgressModel",
          "model_module_version": "1.5.0",
          "state": {
            "_dom_classes": [],
            "_model_module": "@jupyter-widgets/controls",
            "_model_module_version": "1.5.0",
            "_model_name": "FloatProgressModel",
            "_view_count": null,
            "_view_module": "@jupyter-widgets/controls",
            "_view_module_version": "1.5.0",
            "_view_name": "ProgressView",
            "bar_style": "success",
            "description": "",
            "description_tooltip": null,
            "layout": "IPY_MODEL_e27ff13353e348b49330e00e6c7933cb",
            "max": 267016,
            "min": 0,
            "orientation": "horizontal",
            "style": "IPY_MODEL_6418820cc97140b3bfbe73766f384d44",
            "value": 267016
          }
        },
        "d7604206850d4161be05538c00ccc9c9": {
          "model_module": "@jupyter-widgets/controls",
          "model_name": "HTMLModel",
          "model_module_version": "1.5.0",
          "state": {
            "_dom_classes": [],
            "_model_module": "@jupyter-widgets/controls",
            "_model_module_version": "1.5.0",
            "_model_name": "HTMLModel",
            "_view_count": null,
            "_view_module": "@jupyter-widgets/controls",
            "_view_module_version": "1.5.0",
            "_view_name": "HTMLView",
            "description": "",
            "description_tooltip": null,
            "layout": "IPY_MODEL_b46e2c71c8aa41268524451e415221dc",
            "placeholder": "​",
            "style": "IPY_MODEL_1377ee788f7f454d8509873ab95dd5e3",
            "value": " 267016/267016 [28:52&lt;00:00, 507.63it/s]"
          }
        },
        "30aab10bcde440a7bf6549446289659f": {
          "model_module": "@jupyter-widgets/base",
          "model_name": "LayoutModel",
          "model_module_version": "1.2.0",
          "state": {
            "_model_module": "@jupyter-widgets/base",
            "_model_module_version": "1.2.0",
            "_model_name": "LayoutModel",
            "_view_count": null,
            "_view_module": "@jupyter-widgets/base",
            "_view_module_version": "1.2.0",
            "_view_name": "LayoutView",
            "align_content": null,
            "align_items": null,
            "align_self": null,
            "border": null,
            "bottom": null,
            "display": null,
            "flex": null,
            "flex_flow": null,
            "grid_area": null,
            "grid_auto_columns": null,
            "grid_auto_flow": null,
            "grid_auto_rows": null,
            "grid_column": null,
            "grid_gap": null,
            "grid_row": null,
            "grid_template_areas": null,
            "grid_template_columns": null,
            "grid_template_rows": null,
            "height": null,
            "justify_content": null,
            "justify_items": null,
            "left": null,
            "margin": null,
            "max_height": null,
            "max_width": null,
            "min_height": null,
            "min_width": null,
            "object_fit": null,
            "object_position": null,
            "order": null,
            "overflow": null,
            "overflow_x": null,
            "overflow_y": null,
            "padding": null,
            "right": null,
            "top": null,
            "visibility": null,
            "width": null
          }
        },
        "ff6e6030b66b46a3a54524f6c9db0e5a": {
          "model_module": "@jupyter-widgets/base",
          "model_name": "LayoutModel",
          "model_module_version": "1.2.0",
          "state": {
            "_model_module": "@jupyter-widgets/base",
            "_model_module_version": "1.2.0",
            "_model_name": "LayoutModel",
            "_view_count": null,
            "_view_module": "@jupyter-widgets/base",
            "_view_module_version": "1.2.0",
            "_view_name": "LayoutView",
            "align_content": null,
            "align_items": null,
            "align_self": null,
            "border": null,
            "bottom": null,
            "display": null,
            "flex": null,
            "flex_flow": null,
            "grid_area": null,
            "grid_auto_columns": null,
            "grid_auto_flow": null,
            "grid_auto_rows": null,
            "grid_column": null,
            "grid_gap": null,
            "grid_row": null,
            "grid_template_areas": null,
            "grid_template_columns": null,
            "grid_template_rows": null,
            "height": null,
            "justify_content": null,
            "justify_items": null,
            "left": null,
            "margin": null,
            "max_height": null,
            "max_width": null,
            "min_height": null,
            "min_width": null,
            "object_fit": null,
            "object_position": null,
            "order": null,
            "overflow": null,
            "overflow_x": null,
            "overflow_y": null,
            "padding": null,
            "right": null,
            "top": null,
            "visibility": null,
            "width": null
          }
        },
        "d829a26f0bdf462aa9efdb4d8f270a2c": {
          "model_module": "@jupyter-widgets/controls",
          "model_name": "DescriptionStyleModel",
          "model_module_version": "1.5.0",
          "state": {
            "_model_module": "@jupyter-widgets/controls",
            "_model_module_version": "1.5.0",
            "_model_name": "DescriptionStyleModel",
            "_view_count": null,
            "_view_module": "@jupyter-widgets/base",
            "_view_module_version": "1.2.0",
            "_view_name": "StyleView",
            "description_width": ""
          }
        },
        "e27ff13353e348b49330e00e6c7933cb": {
          "model_module": "@jupyter-widgets/base",
          "model_name": "LayoutModel",
          "model_module_version": "1.2.0",
          "state": {
            "_model_module": "@jupyter-widgets/base",
            "_model_module_version": "1.2.0",
            "_model_name": "LayoutModel",
            "_view_count": null,
            "_view_module": "@jupyter-widgets/base",
            "_view_module_version": "1.2.0",
            "_view_name": "LayoutView",
            "align_content": null,
            "align_items": null,
            "align_self": null,
            "border": null,
            "bottom": null,
            "display": null,
            "flex": null,
            "flex_flow": null,
            "grid_area": null,
            "grid_auto_columns": null,
            "grid_auto_flow": null,
            "grid_auto_rows": null,
            "grid_column": null,
            "grid_gap": null,
            "grid_row": null,
            "grid_template_areas": null,
            "grid_template_columns": null,
            "grid_template_rows": null,
            "height": null,
            "justify_content": null,
            "justify_items": null,
            "left": null,
            "margin": null,
            "max_height": null,
            "max_width": null,
            "min_height": null,
            "min_width": null,
            "object_fit": null,
            "object_position": null,
            "order": null,
            "overflow": null,
            "overflow_x": null,
            "overflow_y": null,
            "padding": null,
            "right": null,
            "top": null,
            "visibility": null,
            "width": null
          }
        },
        "6418820cc97140b3bfbe73766f384d44": {
          "model_module": "@jupyter-widgets/controls",
          "model_name": "ProgressStyleModel",
          "model_module_version": "1.5.0",
          "state": {
            "_model_module": "@jupyter-widgets/controls",
            "_model_module_version": "1.5.0",
            "_model_name": "ProgressStyleModel",
            "_view_count": null,
            "_view_module": "@jupyter-widgets/base",
            "_view_module_version": "1.2.0",
            "_view_name": "StyleView",
            "bar_color": null,
            "description_width": ""
          }
        },
        "b46e2c71c8aa41268524451e415221dc": {
          "model_module": "@jupyter-widgets/base",
          "model_name": "LayoutModel",
          "model_module_version": "1.2.0",
          "state": {
            "_model_module": "@jupyter-widgets/base",
            "_model_module_version": "1.2.0",
            "_model_name": "LayoutModel",
            "_view_count": null,
            "_view_module": "@jupyter-widgets/base",
            "_view_module_version": "1.2.0",
            "_view_name": "LayoutView",
            "align_content": null,
            "align_items": null,
            "align_self": null,
            "border": null,
            "bottom": null,
            "display": null,
            "flex": null,
            "flex_flow": null,
            "grid_area": null,
            "grid_auto_columns": null,
            "grid_auto_flow": null,
            "grid_auto_rows": null,
            "grid_column": null,
            "grid_gap": null,
            "grid_row": null,
            "grid_template_areas": null,
            "grid_template_columns": null,
            "grid_template_rows": null,
            "height": null,
            "justify_content": null,
            "justify_items": null,
            "left": null,
            "margin": null,
            "max_height": null,
            "max_width": null,
            "min_height": null,
            "min_width": null,
            "object_fit": null,
            "object_position": null,
            "order": null,
            "overflow": null,
            "overflow_x": null,
            "overflow_y": null,
            "padding": null,
            "right": null,
            "top": null,
            "visibility": null,
            "width": null
          }
        },
        "1377ee788f7f454d8509873ab95dd5e3": {
          "model_module": "@jupyter-widgets/controls",
          "model_name": "DescriptionStyleModel",
          "model_module_version": "1.5.0",
          "state": {
            "_model_module": "@jupyter-widgets/controls",
            "_model_module_version": "1.5.0",
            "_model_name": "DescriptionStyleModel",
            "_view_count": null,
            "_view_module": "@jupyter-widgets/base",
            "_view_module_version": "1.2.0",
            "_view_name": "StyleView",
            "description_width": ""
          }
        }
      }
    }
  },
  "cells": [
    {
      "cell_type": "markdown",
      "metadata": {
        "id": "view-in-github",
        "colab_type": "text"
      },
      "source": [
        "<a href=\"https://colab.research.google.com/github/mathewpolonsky/Marketplace-Item-Matching/blob/main/Adding_Differerences2FullText.ipynb\" target=\"_parent\"><img src=\"https://colab.research.google.com/assets/colab-badge.svg\" alt=\"Open In Colab\"/></a>"
      ]
    },
    {
      "cell_type": "code",
      "source": [
        "!pip install -U sentence-transformers\n",
        "!pip install evaluate\n",
        "!pip install transformers[torch]"
      ],
      "metadata": {
        "id": "T4YXkVctFXAV"
      },
      "execution_count": null,
      "outputs": []
    },
    {
      "cell_type": "code",
      "source": [
        "import torch\n",
        "from torch.utils.data import DataLoader\n",
        "\n",
        "import numpy as np\n",
        "from datetime import datetime\n",
        "\n",
        "import pandas as pd\n",
        "\n",
        "from transformers import AutoTokenizer, AutoModelForSequenceClassification, AutoModelForMaskedLM\n",
        "\n",
        "from sentence_transformers import SentenceTransformer, losses, InputExample, evaluation, models, util\n",
        "\n",
        "from sklearn.model_selection import train_test_split\n",
        "\n",
        "import re\n",
        "\n",
        "from difflib import Differ\n",
        "\n",
        "from tqdm.notebook import tqdm"
      ],
      "metadata": {
        "id": "QOhfrR3iFVob"
      },
      "execution_count": null,
      "outputs": []
    },
    {
      "cell_type": "code",
      "source": [
        "from google.colab import drive\n",
        "drive.mount('/content/drive')"
      ],
      "metadata": {
        "colab": {
          "base_uri": "https://localhost:8080/"
        },
        "id": "n_uYQ5ufLoKQ",
        "outputId": "80ed8581-a236-4a7a-e0e1-579e734d4238"
      },
      "execution_count": null,
      "outputs": [
        {
          "output_type": "stream",
          "name": "stdout",
          "text": [
            "Mounted at /content/drive\n"
          ]
        }
      ]
    },
    {
      "cell_type": "code",
      "source": [
        "!gdown 1N8fUo17cyn4UTSfuebL6RS3-tFb3nWe9\n",
        "!unzip merged_t.zip"
      ],
      "metadata": {
        "colab": {
          "base_uri": "https://localhost:8080/"
        },
        "id": "lfLLMUyMd9if",
        "outputId": "85917ebd-3783-4b5c-faad-5430fb69af1c"
      },
      "execution_count": null,
      "outputs": [
        {
          "output_type": "stream",
          "name": "stdout",
          "text": [
            "Downloading...\n",
            "From: https://drive.google.com/uc?id=1N8fUo17cyn4UTSfuebL6RS3-tFb3nWe9\n",
            "To: /content/merged_t.zip\n",
            "100% 333M/333M [00:04<00:00, 67.8MB/s]\n",
            "Archive:  merged_t.zip\n",
            "  inflating: merged_test4nlp_w_diff.parquet  \n",
            "  inflating: merged_train4nlp_w_diff.parquet  \n"
          ]
        }
      ]
    },
    {
      "cell_type": "code",
      "source": [
        "train = pd.read_parquet(\"merged_train4nlp_w_diff.parquet\")\n",
        "test = pd.read_parquet(\"merged_test4nlp_w_diff.parquet\")"
      ],
      "metadata": {
        "id": "Qx9-G4DneJ6j"
      },
      "execution_count": null,
      "outputs": []
    },
    {
      "cell_type": "code",
      "source": [
        "train.target.value_counts()"
      ],
      "metadata": {
        "colab": {
          "base_uri": "https://localhost:8080/"
        },
        "id": "MfsSXRdW2QMV",
        "outputId": "d579af06-1423-4af9-8395-c33c70246922"
      },
      "execution_count": null,
      "outputs": [
        {
          "output_type": "execute_result",
          "data": {
            "text/plain": [
              "0.0    171527\n",
              "1.0    135013\n",
              "Name: target, dtype: int64"
            ]
          },
          "metadata": {},
          "execution_count": 6
        }
      ]
    },
    {
      "cell_type": "code",
      "source": [
        "135013 / (171527 + 135013)"
      ],
      "metadata": {
        "colab": {
          "base_uri": "https://localhost:8080/"
        },
        "id": "6XOjf_urTpLs",
        "outputId": "3026f63c-0176-4dbe-dbaa-f360a5c53d1b"
      },
      "execution_count": null,
      "outputs": [
        {
          "output_type": "execute_result",
          "data": {
            "text/plain": [
              "0.4404417041821622"
            ]
          },
          "metadata": {},
          "execution_count": 7
        }
      ]
    },
    {
      "cell_type": "code",
      "source": [
        "train"
      ],
      "metadata": {
        "colab": {
          "base_uri": "https://localhost:8080/",
          "height": 728
        },
        "id": "Pf0PaVkne5pe",
        "outputId": "0623ea2c-9bd1-4389-da46-6f7bf23388d1"
      },
      "execution_count": null,
      "outputs": [
        {
          "output_type": "execute_result",
          "data": {
            "text/plain": [
              "        target  variantid1  variantid2  \\\n",
              "0          0.0    51197862    51198054   \n",
              "1          0.0    51197862    51199884   \n",
              "2          1.0    53062686   536165289   \n",
              "3          1.0    53602615   587809782   \n",
              "4          1.0    53602615   615149925   \n",
              "...        ...         ...         ...   \n",
              "306535     0.0   810680230   820119986   \n",
              "306536     0.0   812434186   815345877   \n",
              "306537     0.0   815637954   817550808   \n",
              "306538     0.0   817327230   822083612   \n",
              "306539     0.0   821514120   821514311   \n",
              "\n",
              "                                              full_text_1  \\\n",
              "0       name: Удлинитель TDM Electric Люкс УЛ05В 5 м (...   \n",
              "1       name: Удлинитель TDM Electric Люкс УЛ05В 5 м (...   \n",
              "2       name: Картридж лазерный Комус 729 (4370B002) ч...   \n",
              "3       name: Картридж лазерный Комус 729 (4368B002) п...   \n",
              "4       name: Картридж лазерный Комус 729 (4368B002) п...   \n",
              "...                                                   ...   \n",
              "306535  name: Комплект 4 шт, Картридж лазерный NV Prin...   \n",
              "306536  name: Для iPhone 7 плюс 8 плюс военная броня г...   \n",
              "306537  name: Карта памяти 64 ГБ\\ncat3: Карты памяти и...   \n",
              "306538  name: Смартфон Mate48 Pro.. 8/256 ГБ, зеленый\\...   \n",
              "306539  name:  Ноутбук, Игровой ноутбук Windows BJBDN8...   \n",
              "\n",
              "                                              full_text_2  \\\n",
              "0       name: Удлинитель TDM Electric Люкс УЛ05В 1.5 м...   \n",
              "1       name: Удлинитель TDM Electric Люкс УЛ05В 3 м (...   \n",
              "2       name: Картридж лазерный Комус 729 (4368B002) п...   \n",
              "3       name: Картридж лазерный Комус 729 (4370B002) ч...   \n",
              "4       name: Картридж лазерный Комус 729 (4368B002) п...   \n",
              "...                                                   ...   \n",
              "306535  name: Комплект 2 шт, Картридж лазерный NV Prin...   \n",
              "306536  name: Для iPhone 7 8 военная броня корпус гибр...   \n",
              "306537  name: Карта памяти 1 ТБ\\ncat3: Карты памяти и ...   \n",
              "306538  name: Смартфон Mate48 Pro.. 10/512 ГБ, зеленый...   \n",
              "306539  name:  Ноутбук, Игровой ноутбук Windows BJBDN8...   \n",
              "\n",
              "                                          text_difference  \n",
              "0       Товар 1 | name: Удлинитель TDM Electric Люкс У...  \n",
              "1       Товар 1 | name: Удлинитель TDM Electric Люкс У...  \n",
              "2       Товар 1 | color: черный, чер\\nТовар 2 | color:...  \n",
              "3       Товар 1 | color: пурпурный\\nТовар 2 | color: ч...  \n",
              "4       Товар 1 | name: Картридж лазерный Комус 729 (4...  \n",
              "...                                                   ...  \n",
              "306535  Товар 1 | name: Комплект 4 шт, Картридж лазерн...  \n",
              "306536  Товар 1 | color: желтый\\nТовар 2 | color: сере...  \n",
              "306537  Товар 1 | name: Карта памяти 64 ГБ\\nТовар 2 | ...  \n",
              "306538  Товар 1 | name: Смартфон Mate48 Pro.. 8/256 ГБ...  \n",
              "306539  Товар 1 | Общий объем HDD, ГБ: 128\\nТовар 2 | ...  \n",
              "\n",
              "[306540 rows x 6 columns]"
            ],
            "text/html": [
              "\n",
              "  <div id=\"df-acae0943-15f3-49e4-94cb-c8da445d36ba\">\n",
              "    <div class=\"colab-df-container\">\n",
              "      <div>\n",
              "<style scoped>\n",
              "    .dataframe tbody tr th:only-of-type {\n",
              "        vertical-align: middle;\n",
              "    }\n",
              "\n",
              "    .dataframe tbody tr th {\n",
              "        vertical-align: top;\n",
              "    }\n",
              "\n",
              "    .dataframe thead th {\n",
              "        text-align: right;\n",
              "    }\n",
              "</style>\n",
              "<table border=\"1\" class=\"dataframe\">\n",
              "  <thead>\n",
              "    <tr style=\"text-align: right;\">\n",
              "      <th></th>\n",
              "      <th>target</th>\n",
              "      <th>variantid1</th>\n",
              "      <th>variantid2</th>\n",
              "      <th>full_text_1</th>\n",
              "      <th>full_text_2</th>\n",
              "      <th>text_difference</th>\n",
              "    </tr>\n",
              "  </thead>\n",
              "  <tbody>\n",
              "    <tr>\n",
              "      <th>0</th>\n",
              "      <td>0.0</td>\n",
              "      <td>51197862</td>\n",
              "      <td>51198054</td>\n",
              "      <td>name: Удлинитель TDM Electric Люкс УЛ05В 5 м (...</td>\n",
              "      <td>name: Удлинитель TDM Electric Люкс УЛ05В 1.5 м...</td>\n",
              "      <td>Товар 1 | name: Удлинитель TDM Electric Люкс У...</td>\n",
              "    </tr>\n",
              "    <tr>\n",
              "      <th>1</th>\n",
              "      <td>0.0</td>\n",
              "      <td>51197862</td>\n",
              "      <td>51199884</td>\n",
              "      <td>name: Удлинитель TDM Electric Люкс УЛ05В 5 м (...</td>\n",
              "      <td>name: Удлинитель TDM Electric Люкс УЛ05В 3 м (...</td>\n",
              "      <td>Товар 1 | name: Удлинитель TDM Electric Люкс У...</td>\n",
              "    </tr>\n",
              "    <tr>\n",
              "      <th>2</th>\n",
              "      <td>1.0</td>\n",
              "      <td>53062686</td>\n",
              "      <td>536165289</td>\n",
              "      <td>name: Картридж лазерный Комус 729 (4370B002) ч...</td>\n",
              "      <td>name: Картридж лазерный Комус 729 (4368B002) п...</td>\n",
              "      <td>Товар 1 | color: черный, чер\\nТовар 2 | color:...</td>\n",
              "    </tr>\n",
              "    <tr>\n",
              "      <th>3</th>\n",
              "      <td>1.0</td>\n",
              "      <td>53602615</td>\n",
              "      <td>587809782</td>\n",
              "      <td>name: Картридж лазерный Комус 729 (4368B002) п...</td>\n",
              "      <td>name: Картридж лазерный Комус 729 (4370B002) ч...</td>\n",
              "      <td>Товар 1 | color: пурпурный\\nТовар 2 | color: ч...</td>\n",
              "    </tr>\n",
              "    <tr>\n",
              "      <th>4</th>\n",
              "      <td>1.0</td>\n",
              "      <td>53602615</td>\n",
              "      <td>615149925</td>\n",
              "      <td>name: Картридж лазерный Комус 729 (4368B002) п...</td>\n",
              "      <td>name: Картридж лазерный Комус 729 (4368B002) п...</td>\n",
              "      <td>Товар 1 | name: Картридж лазерный Комус 729 (4...</td>\n",
              "    </tr>\n",
              "    <tr>\n",
              "      <th>...</th>\n",
              "      <td>...</td>\n",
              "      <td>...</td>\n",
              "      <td>...</td>\n",
              "      <td>...</td>\n",
              "      <td>...</td>\n",
              "      <td>...</td>\n",
              "    </tr>\n",
              "    <tr>\n",
              "      <th>306535</th>\n",
              "      <td>0.0</td>\n",
              "      <td>810680230</td>\n",
              "      <td>820119986</td>\n",
              "      <td>name: Комплект 4 шт, Картридж лазерный NV Prin...</td>\n",
              "      <td>name: Комплект 2 шт, Картридж лазерный NV Prin...</td>\n",
              "      <td>Товар 1 | name: Комплект 4 шт, Картридж лазерн...</td>\n",
              "    </tr>\n",
              "    <tr>\n",
              "      <th>306536</th>\n",
              "      <td>0.0</td>\n",
              "      <td>812434186</td>\n",
              "      <td>815345877</td>\n",
              "      <td>name: Для iPhone 7 плюс 8 плюс военная броня г...</td>\n",
              "      <td>name: Для iPhone 7 8 военная броня корпус гибр...</td>\n",
              "      <td>Товар 1 | color: желтый\\nТовар 2 | color: сере...</td>\n",
              "    </tr>\n",
              "    <tr>\n",
              "      <th>306537</th>\n",
              "      <td>0.0</td>\n",
              "      <td>815637954</td>\n",
              "      <td>817550808</td>\n",
              "      <td>name: Карта памяти 64 ГБ\\ncat3: Карты памяти и...</td>\n",
              "      <td>name: Карта памяти 1 ТБ\\ncat3: Карты памяти и ...</td>\n",
              "      <td>Товар 1 | name: Карта памяти 64 ГБ\\nТовар 2 | ...</td>\n",
              "    </tr>\n",
              "    <tr>\n",
              "      <th>306538</th>\n",
              "      <td>0.0</td>\n",
              "      <td>817327230</td>\n",
              "      <td>822083612</td>\n",
              "      <td>name: Смартфон Mate48 Pro.. 8/256 ГБ, зеленый\\...</td>\n",
              "      <td>name: Смартфон Mate48 Pro.. 10/512 ГБ, зеленый...</td>\n",
              "      <td>Товар 1 | name: Смартфон Mate48 Pro.. 8/256 ГБ...</td>\n",
              "    </tr>\n",
              "    <tr>\n",
              "      <th>306539</th>\n",
              "      <td>0.0</td>\n",
              "      <td>821514120</td>\n",
              "      <td>821514311</td>\n",
              "      <td>name:  Ноутбук, Игровой ноутбук Windows BJBDN8...</td>\n",
              "      <td>name:  Ноутбук, Игровой ноутбук Windows BJBDN8...</td>\n",
              "      <td>Товар 1 | Общий объем HDD, ГБ: 128\\nТовар 2 | ...</td>\n",
              "    </tr>\n",
              "  </tbody>\n",
              "</table>\n",
              "<p>306540 rows × 6 columns</p>\n",
              "</div>\n",
              "      <button class=\"colab-df-convert\" onclick=\"convertToInteractive('df-acae0943-15f3-49e4-94cb-c8da445d36ba')\"\n",
              "              title=\"Convert this dataframe to an interactive table.\"\n",
              "              style=\"display:none;\">\n",
              "        \n",
              "  <svg xmlns=\"http://www.w3.org/2000/svg\" height=\"24px\"viewBox=\"0 0 24 24\"\n",
              "       width=\"24px\">\n",
              "    <path d=\"M0 0h24v24H0V0z\" fill=\"none\"/>\n",
              "    <path d=\"M18.56 5.44l.94 2.06.94-2.06 2.06-.94-2.06-.94-.94-2.06-.94 2.06-2.06.94zm-11 1L8.5 8.5l.94-2.06 2.06-.94-2.06-.94L8.5 2.5l-.94 2.06-2.06.94zm10 10l.94 2.06.94-2.06 2.06-.94-2.06-.94-.94-2.06-.94 2.06-2.06.94z\"/><path d=\"M17.41 7.96l-1.37-1.37c-.4-.4-.92-.59-1.43-.59-.52 0-1.04.2-1.43.59L10.3 9.45l-7.72 7.72c-.78.78-.78 2.05 0 2.83L4 21.41c.39.39.9.59 1.41.59.51 0 1.02-.2 1.41-.59l7.78-7.78 2.81-2.81c.8-.78.8-2.07 0-2.86zM5.41 20L4 18.59l7.72-7.72 1.47 1.35L5.41 20z\"/>\n",
              "  </svg>\n",
              "      </button>\n",
              "      \n",
              "  <style>\n",
              "    .colab-df-container {\n",
              "      display:flex;\n",
              "      flex-wrap:wrap;\n",
              "      gap: 12px;\n",
              "    }\n",
              "\n",
              "    .colab-df-convert {\n",
              "      background-color: #E8F0FE;\n",
              "      border: none;\n",
              "      border-radius: 50%;\n",
              "      cursor: pointer;\n",
              "      display: none;\n",
              "      fill: #1967D2;\n",
              "      height: 32px;\n",
              "      padding: 0 0 0 0;\n",
              "      width: 32px;\n",
              "    }\n",
              "\n",
              "    .colab-df-convert:hover {\n",
              "      background-color: #E2EBFA;\n",
              "      box-shadow: 0px 1px 2px rgba(60, 64, 67, 0.3), 0px 1px 3px 1px rgba(60, 64, 67, 0.15);\n",
              "      fill: #174EA6;\n",
              "    }\n",
              "\n",
              "    [theme=dark] .colab-df-convert {\n",
              "      background-color: #3B4455;\n",
              "      fill: #D2E3FC;\n",
              "    }\n",
              "\n",
              "    [theme=dark] .colab-df-convert:hover {\n",
              "      background-color: #434B5C;\n",
              "      box-shadow: 0px 1px 3px 1px rgba(0, 0, 0, 0.15);\n",
              "      filter: drop-shadow(0px 1px 2px rgba(0, 0, 0, 0.3));\n",
              "      fill: #FFFFFF;\n",
              "    }\n",
              "  </style>\n",
              "\n",
              "      <script>\n",
              "        const buttonEl =\n",
              "          document.querySelector('#df-acae0943-15f3-49e4-94cb-c8da445d36ba button.colab-df-convert');\n",
              "        buttonEl.style.display =\n",
              "          google.colab.kernel.accessAllowed ? 'block' : 'none';\n",
              "\n",
              "        async function convertToInteractive(key) {\n",
              "          const element = document.querySelector('#df-acae0943-15f3-49e4-94cb-c8da445d36ba');\n",
              "          const dataTable =\n",
              "            await google.colab.kernel.invokeFunction('convertToInteractive',\n",
              "                                                     [key], {});\n",
              "          if (!dataTable) return;\n",
              "\n",
              "          const docLinkHtml = 'Like what you see? Visit the ' +\n",
              "            '<a target=\"_blank\" href=https://colab.research.google.com/notebooks/data_table.ipynb>data table notebook</a>'\n",
              "            + ' to learn more about interactive tables.';\n",
              "          element.innerHTML = '';\n",
              "          dataTable['output_type'] = 'display_data';\n",
              "          await google.colab.output.renderOutput(dataTable, element);\n",
              "          const docLink = document.createElement('div');\n",
              "          docLink.innerHTML = docLinkHtml;\n",
              "          element.appendChild(docLink);\n",
              "        }\n",
              "      </script>\n",
              "    </div>\n",
              "  </div>\n",
              "  "
            ]
          },
          "metadata": {},
          "execution_count": 8
        }
      ]
    },
    {
      "cell_type": "markdown",
      "source": [
        "#### a lot of sega"
      ],
      "metadata": {
        "id": "iPS_5O7-47aO"
      }
    },
    {
      "cell_type": "code",
      "source": [
        "sega_count = train.apply(lambda x: ((\"Sega\" in x[\"full_text_1\"]) or (\"Sega\" in x[\"full_text_2\"])), axis=1)"
      ],
      "metadata": {
        "id": "ok4OF88szxSf"
      },
      "execution_count": null,
      "outputs": []
    },
    {
      "cell_type": "code",
      "source": [
        "train[sega_count]"
      ],
      "metadata": {
        "colab": {
          "base_uri": "https://localhost:8080/",
          "height": 797
        },
        "id": "6auHGL_W0xpu",
        "outputId": "aa9d13e0-5043-41df-8901-5131ef19bc43"
      },
      "execution_count": null,
      "outputs": [
        {
          "output_type": "execute_result",
          "data": {
            "text/plain": [
              "        target  variantid1  variantid2  \\\n",
              "894        1.0   547440723   739653409   \n",
              "896        1.0   547440723   777589637   \n",
              "897        1.0   534210560   777589637   \n",
              "1467       1.0   770483286   775499361   \n",
              "1468       1.0   750245586   775499361   \n",
              "...        ...         ...         ...   \n",
              "302590     1.0   777588818   777593537   \n",
              "303809     1.0   770483871   770483901   \n",
              "304042     1.0   484829544   749053130   \n",
              "304204     1.0   761122831   761167902   \n",
              "305111     1.0   187345153   607476513   \n",
              "\n",
              "                                              full_text_1  \\\n",
              "894     name: Портативная игровая приставка Game Stick...   \n",
              "896     name: Портативная игровая приставка Game Stick...   \n",
              "897     name: Портативная игровая приставка Game Stick...   \n",
              "1467    name: Портативная игровая приставка Game Stick...   \n",
              "1468    name: Портативная игровая приставка Game Stick...   \n",
              "...                                                   ...   \n",
              "302590  name: игровая приставка Game Stick Lite \"PREMl...   \n",
              "303809  name: Портативная игровая приставка Game Stick...   \n",
              "304042  name: Игровая приставка 16 Bit Super Drive GTA...   \n",
              "304204  name: Портативная игровая приставка Game Stick...   \n",
              "305111  name: Портативная игровая приставка SUP GAME B...   \n",
              "\n",
              "                                              full_text_2  \\\n",
              "894     name: Портативная игровая приставка Game Stick...   \n",
              "896     name: Портативная игровая приставка Game Stick...   \n",
              "897     name: Портативная игровая приставка Game Stick...   \n",
              "1467    name: Портативная игровая приставка Game Stick...   \n",
              "1468    name: Портативная игровая приставка Game Stick...   \n",
              "...                                                   ...   \n",
              "302590  name: Портативная игровая приставка Game Stick...   \n",
              "303809  name: Портативная игровая приставка Game Stick...   \n",
              "304042  name: Игровая приставка 16 bit Super Drive GTA...   \n",
              "304204  name: Портативная игровая приставка Game Stick...   \n",
              "305111  name: Портативная игровая приставка SUP GAME B...   \n",
              "\n",
              "                                          text_difference  \n",
              "894     Товар 1 | Бренд: Joshua\\nТовар 2 | Бренд: Sega...  \n",
              "896     Товар 1 | Бренд: Joshua\\nТовар 2 | Бренд: Sega...  \n",
              "897     Товар 1 | name: Портативная игровая приставка ...  \n",
              "1467    Товар 1 | Бренд: Sega\\nТовар 2 | Бренд: Космос...  \n",
              "1468    Товар 1 | Беспроводные интерфейсы: Bluetooth\\n...  \n",
              "...                                                   ...  \n",
              "302590  Товар 1 | name: игровая приставка Game Stick L...  \n",
              "303809  Товар 1 | Доп. комплектация: 2 геймпада, Карта...  \n",
              "304042  Товар 1 | color: pink, черный, green\\nТовар 2 ...  \n",
              "304204  Товар 1 | Бренд: Нет бренда\\nТовар 2 | Бренд: ...  \n",
              "305111  Товар 1 | name: Портативная игровая приставка ...  \n",
              "\n",
              "[11992 rows x 6 columns]"
            ],
            "text/html": [
              "\n",
              "  <div id=\"df-03dc8d8c-273e-43a7-9ce7-caec0cdfe901\">\n",
              "    <div class=\"colab-df-container\">\n",
              "      <div>\n",
              "<style scoped>\n",
              "    .dataframe tbody tr th:only-of-type {\n",
              "        vertical-align: middle;\n",
              "    }\n",
              "\n",
              "    .dataframe tbody tr th {\n",
              "        vertical-align: top;\n",
              "    }\n",
              "\n",
              "    .dataframe thead th {\n",
              "        text-align: right;\n",
              "    }\n",
              "</style>\n",
              "<table border=\"1\" class=\"dataframe\">\n",
              "  <thead>\n",
              "    <tr style=\"text-align: right;\">\n",
              "      <th></th>\n",
              "      <th>target</th>\n",
              "      <th>variantid1</th>\n",
              "      <th>variantid2</th>\n",
              "      <th>full_text_1</th>\n",
              "      <th>full_text_2</th>\n",
              "      <th>text_difference</th>\n",
              "    </tr>\n",
              "  </thead>\n",
              "  <tbody>\n",
              "    <tr>\n",
              "      <th>894</th>\n",
              "      <td>1.0</td>\n",
              "      <td>547440723</td>\n",
              "      <td>739653409</td>\n",
              "      <td>name: Портативная игровая приставка Game Stick...</td>\n",
              "      <td>name: Портативная игровая приставка Game Stick...</td>\n",
              "      <td>Товар 1 | Бренд: Joshua\\nТовар 2 | Бренд: Sega...</td>\n",
              "    </tr>\n",
              "    <tr>\n",
              "      <th>896</th>\n",
              "      <td>1.0</td>\n",
              "      <td>547440723</td>\n",
              "      <td>777589637</td>\n",
              "      <td>name: Портативная игровая приставка Game Stick...</td>\n",
              "      <td>name: Портативная игровая приставка Game Stick...</td>\n",
              "      <td>Товар 1 | Бренд: Joshua\\nТовар 2 | Бренд: Sega...</td>\n",
              "    </tr>\n",
              "    <tr>\n",
              "      <th>897</th>\n",
              "      <td>1.0</td>\n",
              "      <td>534210560</td>\n",
              "      <td>777589637</td>\n",
              "      <td>name: Портативная игровая приставка Game Stick...</td>\n",
              "      <td>name: Портативная игровая приставка Game Stick...</td>\n",
              "      <td>Товар 1 | name: Портативная игровая приставка ...</td>\n",
              "    </tr>\n",
              "    <tr>\n",
              "      <th>1467</th>\n",
              "      <td>1.0</td>\n",
              "      <td>770483286</td>\n",
              "      <td>775499361</td>\n",
              "      <td>name: Портативная игровая приставка Game Stick...</td>\n",
              "      <td>name: Портативная игровая приставка Game Stick...</td>\n",
              "      <td>Товар 1 | Бренд: Sega\\nТовар 2 | Бренд: Космос...</td>\n",
              "    </tr>\n",
              "    <tr>\n",
              "      <th>1468</th>\n",
              "      <td>1.0</td>\n",
              "      <td>750245586</td>\n",
              "      <td>775499361</td>\n",
              "      <td>name: Портативная игровая приставка Game Stick...</td>\n",
              "      <td>name: Портативная игровая приставка Game Stick...</td>\n",
              "      <td>Товар 1 | Беспроводные интерфейсы: Bluetooth\\n...</td>\n",
              "    </tr>\n",
              "    <tr>\n",
              "      <th>...</th>\n",
              "      <td>...</td>\n",
              "      <td>...</td>\n",
              "      <td>...</td>\n",
              "      <td>...</td>\n",
              "      <td>...</td>\n",
              "      <td>...</td>\n",
              "    </tr>\n",
              "    <tr>\n",
              "      <th>302590</th>\n",
              "      <td>1.0</td>\n",
              "      <td>777588818</td>\n",
              "      <td>777593537</td>\n",
              "      <td>name: игровая приставка Game Stick Lite \"PREMl...</td>\n",
              "      <td>name: Портативная игровая приставка Game Stick...</td>\n",
              "      <td>Товар 1 | name: игровая приставка Game Stick L...</td>\n",
              "    </tr>\n",
              "    <tr>\n",
              "      <th>303809</th>\n",
              "      <td>1.0</td>\n",
              "      <td>770483871</td>\n",
              "      <td>770483901</td>\n",
              "      <td>name: Портативная игровая приставка Game Stick...</td>\n",
              "      <td>name: Портативная игровая приставка Game Stick...</td>\n",
              "      <td>Товар 1 | Доп. комплектация: 2 геймпада, Карта...</td>\n",
              "    </tr>\n",
              "    <tr>\n",
              "      <th>304042</th>\n",
              "      <td>1.0</td>\n",
              "      <td>484829544</td>\n",
              "      <td>749053130</td>\n",
              "      <td>name: Игровая приставка 16 Bit Super Drive GTA...</td>\n",
              "      <td>name: Игровая приставка 16 bit Super Drive GTA...</td>\n",
              "      <td>Товар 1 | color: pink, черный, green\\nТовар 2 ...</td>\n",
              "    </tr>\n",
              "    <tr>\n",
              "      <th>304204</th>\n",
              "      <td>1.0</td>\n",
              "      <td>761122831</td>\n",
              "      <td>761167902</td>\n",
              "      <td>name: Портативная игровая приставка Game Stick...</td>\n",
              "      <td>name: Портативная игровая приставка Game Stick...</td>\n",
              "      <td>Товар 1 | Бренд: Нет бренда\\nТовар 2 | Бренд: ...</td>\n",
              "    </tr>\n",
              "    <tr>\n",
              "      <th>305111</th>\n",
              "      <td>1.0</td>\n",
              "      <td>187345153</td>\n",
              "      <td>607476513</td>\n",
              "      <td>name: Портативная игровая приставка SUP GAME B...</td>\n",
              "      <td>name: Портативная игровая приставка SUP GAME B...</td>\n",
              "      <td>Товар 1 | name: Портативная игровая приставка ...</td>\n",
              "    </tr>\n",
              "  </tbody>\n",
              "</table>\n",
              "<p>11992 rows × 6 columns</p>\n",
              "</div>\n",
              "      <button class=\"colab-df-convert\" onclick=\"convertToInteractive('df-03dc8d8c-273e-43a7-9ce7-caec0cdfe901')\"\n",
              "              title=\"Convert this dataframe to an interactive table.\"\n",
              "              style=\"display:none;\">\n",
              "        \n",
              "  <svg xmlns=\"http://www.w3.org/2000/svg\" height=\"24px\"viewBox=\"0 0 24 24\"\n",
              "       width=\"24px\">\n",
              "    <path d=\"M0 0h24v24H0V0z\" fill=\"none\"/>\n",
              "    <path d=\"M18.56 5.44l.94 2.06.94-2.06 2.06-.94-2.06-.94-.94-2.06-.94 2.06-2.06.94zm-11 1L8.5 8.5l.94-2.06 2.06-.94-2.06-.94L8.5 2.5l-.94 2.06-2.06.94zm10 10l.94 2.06.94-2.06 2.06-.94-2.06-.94-.94-2.06-.94 2.06-2.06.94z\"/><path d=\"M17.41 7.96l-1.37-1.37c-.4-.4-.92-.59-1.43-.59-.52 0-1.04.2-1.43.59L10.3 9.45l-7.72 7.72c-.78.78-.78 2.05 0 2.83L4 21.41c.39.39.9.59 1.41.59.51 0 1.02-.2 1.41-.59l7.78-7.78 2.81-2.81c.8-.78.8-2.07 0-2.86zM5.41 20L4 18.59l7.72-7.72 1.47 1.35L5.41 20z\"/>\n",
              "  </svg>\n",
              "      </button>\n",
              "      \n",
              "  <style>\n",
              "    .colab-df-container {\n",
              "      display:flex;\n",
              "      flex-wrap:wrap;\n",
              "      gap: 12px;\n",
              "    }\n",
              "\n",
              "    .colab-df-convert {\n",
              "      background-color: #E8F0FE;\n",
              "      border: none;\n",
              "      border-radius: 50%;\n",
              "      cursor: pointer;\n",
              "      display: none;\n",
              "      fill: #1967D2;\n",
              "      height: 32px;\n",
              "      padding: 0 0 0 0;\n",
              "      width: 32px;\n",
              "    }\n",
              "\n",
              "    .colab-df-convert:hover {\n",
              "      background-color: #E2EBFA;\n",
              "      box-shadow: 0px 1px 2px rgba(60, 64, 67, 0.3), 0px 1px 3px 1px rgba(60, 64, 67, 0.15);\n",
              "      fill: #174EA6;\n",
              "    }\n",
              "\n",
              "    [theme=dark] .colab-df-convert {\n",
              "      background-color: #3B4455;\n",
              "      fill: #D2E3FC;\n",
              "    }\n",
              "\n",
              "    [theme=dark] .colab-df-convert:hover {\n",
              "      background-color: #434B5C;\n",
              "      box-shadow: 0px 1px 3px 1px rgba(0, 0, 0, 0.15);\n",
              "      filter: drop-shadow(0px 1px 2px rgba(0, 0, 0, 0.3));\n",
              "      fill: #FFFFFF;\n",
              "    }\n",
              "  </style>\n",
              "\n",
              "      <script>\n",
              "        const buttonEl =\n",
              "          document.querySelector('#df-03dc8d8c-273e-43a7-9ce7-caec0cdfe901 button.colab-df-convert');\n",
              "        buttonEl.style.display =\n",
              "          google.colab.kernel.accessAllowed ? 'block' : 'none';\n",
              "\n",
              "        async function convertToInteractive(key) {\n",
              "          const element = document.querySelector('#df-03dc8d8c-273e-43a7-9ce7-caec0cdfe901');\n",
              "          const dataTable =\n",
              "            await google.colab.kernel.invokeFunction('convertToInteractive',\n",
              "                                                     [key], {});\n",
              "          if (!dataTable) return;\n",
              "\n",
              "          const docLinkHtml = 'Like what you see? Visit the ' +\n",
              "            '<a target=\"_blank\" href=https://colab.research.google.com/notebooks/data_table.ipynb>data table notebook</a>'\n",
              "            + ' to learn more about interactive tables.';\n",
              "          element.innerHTML = '';\n",
              "          dataTable['output_type'] = 'display_data';\n",
              "          await google.colab.output.renderOutput(dataTable, element);\n",
              "          const docLink = document.createElement('div');\n",
              "          docLink.innerHTML = docLinkHtml;\n",
              "          element.appendChild(docLink);\n",
              "        }\n",
              "      </script>\n",
              "    </div>\n",
              "  </div>\n",
              "  "
            ]
          },
          "metadata": {},
          "execution_count": 14
        }
      ]
    },
    {
      "cell_type": "code",
      "source": [
        "sega_count.sum() / sega_count.shape[0]"
      ],
      "metadata": {
        "colab": {
          "base_uri": "https://localhost:8080/"
        },
        "id": "HFpdcnDp0KLK",
        "outputId": "99d8f25a-c9a7-427d-b0cd-6ddbb3a053a0"
      },
      "execution_count": null,
      "outputs": [
        {
          "output_type": "execute_result",
          "data": {
            "text/plain": [
              "0.039120506296078814"
            ]
          },
          "metadata": {},
          "execution_count": 15
        }
      ]
    },
    {
      "cell_type": "markdown",
      "source": [
        "### text diff"
      ],
      "metadata": {
        "id": "i-OmhUYWK_A5"
      }
    },
    {
      "cell_type": "code",
      "source": [
        "# remove every occurrence after fourth time\n",
        "mask = train.groupby(\"text_difference\").cumcount() > 5\n",
        "mask = mask & (train.text_difference != \"Товар 1 и Товар 2 одинаковы\")"
      ],
      "metadata": {
        "id": "2p5MDRuO5XpL"
      },
      "execution_count": null,
      "outputs": []
    },
    {
      "cell_type": "code",
      "source": [
        "train[mask].target.value_counts()"
      ],
      "metadata": {
        "colab": {
          "base_uri": "https://localhost:8080/"
        },
        "id": "gSES7E15LK-a",
        "outputId": "4ee2ff17-3f7f-4238-f119-65c6b417b5e1"
      },
      "execution_count": null,
      "outputs": [
        {
          "output_type": "execute_result",
          "data": {
            "text/plain": [
              "1.0    11876\n",
              "0.0     1339\n",
              "Name: target, dtype: int64"
            ]
          },
          "metadata": {},
          "execution_count": 11
        }
      ]
    },
    {
      "cell_type": "code",
      "source": [
        "train = train[~mask]"
      ],
      "metadata": {
        "id": "2ZnrlKi26nsJ"
      },
      "execution_count": null,
      "outputs": []
    },
    {
      "cell_type": "code",
      "source": [
        "train"
      ],
      "metadata": {
        "colab": {
          "base_uri": "https://localhost:8080/",
          "height": 728
        },
        "id": "dgGZVX3B7FK-",
        "outputId": "0d9c8a68-c000-4cd1-9546-d9ae451b4efc"
      },
      "execution_count": null,
      "outputs": [
        {
          "output_type": "execute_result",
          "data": {
            "text/plain": [
              "        target  variantid1  variantid2  \\\n",
              "0          0.0    51197862    51198054   \n",
              "1          0.0    51197862    51199884   \n",
              "2          1.0    53062686   536165289   \n",
              "3          1.0    53602615   587809782   \n",
              "4          1.0    53602615   615149925   \n",
              "...        ...         ...         ...   \n",
              "306535     0.0   810680230   820119986   \n",
              "306536     0.0   812434186   815345877   \n",
              "306537     0.0   815637954   817550808   \n",
              "306538     0.0   817327230   822083612   \n",
              "306539     0.0   821514120   821514311   \n",
              "\n",
              "                                              full_text_1  \\\n",
              "0       name: Удлинитель TDM Electric Люкс УЛ05В 5 м (...   \n",
              "1       name: Удлинитель TDM Electric Люкс УЛ05В 5 м (...   \n",
              "2       name: Картридж лазерный Комус 729 (4370B002) ч...   \n",
              "3       name: Картридж лазерный Комус 729 (4368B002) п...   \n",
              "4       name: Картридж лазерный Комус 729 (4368B002) п...   \n",
              "...                                                   ...   \n",
              "306535  name: Комплект 4 шт, Картридж лазерный NV Prin...   \n",
              "306536  name: Для iPhone 7 плюс 8 плюс военная броня г...   \n",
              "306537  name: Карта памяти 64 ГБ\\ncat3: Карты памяти и...   \n",
              "306538  name: Смартфон Mate48 Pro.. 8/256 ГБ, зеленый\\...   \n",
              "306539  name:  Ноутбук, Игровой ноутбук Windows BJBDN8...   \n",
              "\n",
              "                                              full_text_2  \\\n",
              "0       name: Удлинитель TDM Electric Люкс УЛ05В 1.5 м...   \n",
              "1       name: Удлинитель TDM Electric Люкс УЛ05В 3 м (...   \n",
              "2       name: Картридж лазерный Комус 729 (4368B002) п...   \n",
              "3       name: Картридж лазерный Комус 729 (4370B002) ч...   \n",
              "4       name: Картридж лазерный Комус 729 (4368B002) п...   \n",
              "...                                                   ...   \n",
              "306535  name: Комплект 2 шт, Картридж лазерный NV Prin...   \n",
              "306536  name: Для iPhone 7 8 военная броня корпус гибр...   \n",
              "306537  name: Карта памяти 1 ТБ\\ncat3: Карты памяти и ...   \n",
              "306538  name: Смартфон Mate48 Pro.. 10/512 ГБ, зеленый...   \n",
              "306539  name:  Ноутбук, Игровой ноутбук Windows BJBDN8...   \n",
              "\n",
              "                                          text_difference  \n",
              "0       Товар 1 | name: Удлинитель TDM Electric Люкс У...  \n",
              "1       Товар 1 | name: Удлинитель TDM Electric Люкс У...  \n",
              "2       Товар 1 | color: черный, чер\\nТовар 2 | color:...  \n",
              "3       Товар 1 | color: пурпурный\\nТовар 2 | color: ч...  \n",
              "4       Товар 1 | name: Картридж лазерный Комус 729 (4...  \n",
              "...                                                   ...  \n",
              "306535  Товар 1 | name: Комплект 4 шт, Картридж лазерн...  \n",
              "306536  Товар 1 | color: желтый\\nТовар 2 | color: сере...  \n",
              "306537  Товар 1 | name: Карта памяти 64 ГБ\\nТовар 2 | ...  \n",
              "306538  Товар 1 | name: Смартфон Mate48 Pro.. 8/256 ГБ...  \n",
              "306539  Товар 1 | Общий объем HDD, ГБ: 128\\nТовар 2 | ...  \n",
              "\n",
              "[293325 rows x 6 columns]"
            ],
            "text/html": [
              "\n",
              "  <div id=\"df-ba85fda0-50e1-48b6-a015-01741f405ed8\">\n",
              "    <div class=\"colab-df-container\">\n",
              "      <div>\n",
              "<style scoped>\n",
              "    .dataframe tbody tr th:only-of-type {\n",
              "        vertical-align: middle;\n",
              "    }\n",
              "\n",
              "    .dataframe tbody tr th {\n",
              "        vertical-align: top;\n",
              "    }\n",
              "\n",
              "    .dataframe thead th {\n",
              "        text-align: right;\n",
              "    }\n",
              "</style>\n",
              "<table border=\"1\" class=\"dataframe\">\n",
              "  <thead>\n",
              "    <tr style=\"text-align: right;\">\n",
              "      <th></th>\n",
              "      <th>target</th>\n",
              "      <th>variantid1</th>\n",
              "      <th>variantid2</th>\n",
              "      <th>full_text_1</th>\n",
              "      <th>full_text_2</th>\n",
              "      <th>text_difference</th>\n",
              "    </tr>\n",
              "  </thead>\n",
              "  <tbody>\n",
              "    <tr>\n",
              "      <th>0</th>\n",
              "      <td>0.0</td>\n",
              "      <td>51197862</td>\n",
              "      <td>51198054</td>\n",
              "      <td>name: Удлинитель TDM Electric Люкс УЛ05В 5 м (...</td>\n",
              "      <td>name: Удлинитель TDM Electric Люкс УЛ05В 1.5 м...</td>\n",
              "      <td>Товар 1 | name: Удлинитель TDM Electric Люкс У...</td>\n",
              "    </tr>\n",
              "    <tr>\n",
              "      <th>1</th>\n",
              "      <td>0.0</td>\n",
              "      <td>51197862</td>\n",
              "      <td>51199884</td>\n",
              "      <td>name: Удлинитель TDM Electric Люкс УЛ05В 5 м (...</td>\n",
              "      <td>name: Удлинитель TDM Electric Люкс УЛ05В 3 м (...</td>\n",
              "      <td>Товар 1 | name: Удлинитель TDM Electric Люкс У...</td>\n",
              "    </tr>\n",
              "    <tr>\n",
              "      <th>2</th>\n",
              "      <td>1.0</td>\n",
              "      <td>53062686</td>\n",
              "      <td>536165289</td>\n",
              "      <td>name: Картридж лазерный Комус 729 (4370B002) ч...</td>\n",
              "      <td>name: Картридж лазерный Комус 729 (4368B002) п...</td>\n",
              "      <td>Товар 1 | color: черный, чер\\nТовар 2 | color:...</td>\n",
              "    </tr>\n",
              "    <tr>\n",
              "      <th>3</th>\n",
              "      <td>1.0</td>\n",
              "      <td>53602615</td>\n",
              "      <td>587809782</td>\n",
              "      <td>name: Картридж лазерный Комус 729 (4368B002) п...</td>\n",
              "      <td>name: Картридж лазерный Комус 729 (4370B002) ч...</td>\n",
              "      <td>Товар 1 | color: пурпурный\\nТовар 2 | color: ч...</td>\n",
              "    </tr>\n",
              "    <tr>\n",
              "      <th>4</th>\n",
              "      <td>1.0</td>\n",
              "      <td>53602615</td>\n",
              "      <td>615149925</td>\n",
              "      <td>name: Картридж лазерный Комус 729 (4368B002) п...</td>\n",
              "      <td>name: Картридж лазерный Комус 729 (4368B002) п...</td>\n",
              "      <td>Товар 1 | name: Картридж лазерный Комус 729 (4...</td>\n",
              "    </tr>\n",
              "    <tr>\n",
              "      <th>...</th>\n",
              "      <td>...</td>\n",
              "      <td>...</td>\n",
              "      <td>...</td>\n",
              "      <td>...</td>\n",
              "      <td>...</td>\n",
              "      <td>...</td>\n",
              "    </tr>\n",
              "    <tr>\n",
              "      <th>306535</th>\n",
              "      <td>0.0</td>\n",
              "      <td>810680230</td>\n",
              "      <td>820119986</td>\n",
              "      <td>name: Комплект 4 шт, Картридж лазерный NV Prin...</td>\n",
              "      <td>name: Комплект 2 шт, Картридж лазерный NV Prin...</td>\n",
              "      <td>Товар 1 | name: Комплект 4 шт, Картридж лазерн...</td>\n",
              "    </tr>\n",
              "    <tr>\n",
              "      <th>306536</th>\n",
              "      <td>0.0</td>\n",
              "      <td>812434186</td>\n",
              "      <td>815345877</td>\n",
              "      <td>name: Для iPhone 7 плюс 8 плюс военная броня г...</td>\n",
              "      <td>name: Для iPhone 7 8 военная броня корпус гибр...</td>\n",
              "      <td>Товар 1 | color: желтый\\nТовар 2 | color: сере...</td>\n",
              "    </tr>\n",
              "    <tr>\n",
              "      <th>306537</th>\n",
              "      <td>0.0</td>\n",
              "      <td>815637954</td>\n",
              "      <td>817550808</td>\n",
              "      <td>name: Карта памяти 64 ГБ\\ncat3: Карты памяти и...</td>\n",
              "      <td>name: Карта памяти 1 ТБ\\ncat3: Карты памяти и ...</td>\n",
              "      <td>Товар 1 | name: Карта памяти 64 ГБ\\nТовар 2 | ...</td>\n",
              "    </tr>\n",
              "    <tr>\n",
              "      <th>306538</th>\n",
              "      <td>0.0</td>\n",
              "      <td>817327230</td>\n",
              "      <td>822083612</td>\n",
              "      <td>name: Смартфон Mate48 Pro.. 8/256 ГБ, зеленый\\...</td>\n",
              "      <td>name: Смартфон Mate48 Pro.. 10/512 ГБ, зеленый...</td>\n",
              "      <td>Товар 1 | name: Смартфон Mate48 Pro.. 8/256 ГБ...</td>\n",
              "    </tr>\n",
              "    <tr>\n",
              "      <th>306539</th>\n",
              "      <td>0.0</td>\n",
              "      <td>821514120</td>\n",
              "      <td>821514311</td>\n",
              "      <td>name:  Ноутбук, Игровой ноутбук Windows BJBDN8...</td>\n",
              "      <td>name:  Ноутбук, Игровой ноутбук Windows BJBDN8...</td>\n",
              "      <td>Товар 1 | Общий объем HDD, ГБ: 128\\nТовар 2 | ...</td>\n",
              "    </tr>\n",
              "  </tbody>\n",
              "</table>\n",
              "<p>293325 rows × 6 columns</p>\n",
              "</div>\n",
              "      <button class=\"colab-df-convert\" onclick=\"convertToInteractive('df-ba85fda0-50e1-48b6-a015-01741f405ed8')\"\n",
              "              title=\"Convert this dataframe to an interactive table.\"\n",
              "              style=\"display:none;\">\n",
              "        \n",
              "  <svg xmlns=\"http://www.w3.org/2000/svg\" height=\"24px\"viewBox=\"0 0 24 24\"\n",
              "       width=\"24px\">\n",
              "    <path d=\"M0 0h24v24H0V0z\" fill=\"none\"/>\n",
              "    <path d=\"M18.56 5.44l.94 2.06.94-2.06 2.06-.94-2.06-.94-.94-2.06-.94 2.06-2.06.94zm-11 1L8.5 8.5l.94-2.06 2.06-.94-2.06-.94L8.5 2.5l-.94 2.06-2.06.94zm10 10l.94 2.06.94-2.06 2.06-.94-2.06-.94-.94-2.06-.94 2.06-2.06.94z\"/><path d=\"M17.41 7.96l-1.37-1.37c-.4-.4-.92-.59-1.43-.59-.52 0-1.04.2-1.43.59L10.3 9.45l-7.72 7.72c-.78.78-.78 2.05 0 2.83L4 21.41c.39.39.9.59 1.41.59.51 0 1.02-.2 1.41-.59l7.78-7.78 2.81-2.81c.8-.78.8-2.07 0-2.86zM5.41 20L4 18.59l7.72-7.72 1.47 1.35L5.41 20z\"/>\n",
              "  </svg>\n",
              "      </button>\n",
              "      \n",
              "  <style>\n",
              "    .colab-df-container {\n",
              "      display:flex;\n",
              "      flex-wrap:wrap;\n",
              "      gap: 12px;\n",
              "    }\n",
              "\n",
              "    .colab-df-convert {\n",
              "      background-color: #E8F0FE;\n",
              "      border: none;\n",
              "      border-radius: 50%;\n",
              "      cursor: pointer;\n",
              "      display: none;\n",
              "      fill: #1967D2;\n",
              "      height: 32px;\n",
              "      padding: 0 0 0 0;\n",
              "      width: 32px;\n",
              "    }\n",
              "\n",
              "    .colab-df-convert:hover {\n",
              "      background-color: #E2EBFA;\n",
              "      box-shadow: 0px 1px 2px rgba(60, 64, 67, 0.3), 0px 1px 3px 1px rgba(60, 64, 67, 0.15);\n",
              "      fill: #174EA6;\n",
              "    }\n",
              "\n",
              "    [theme=dark] .colab-df-convert {\n",
              "      background-color: #3B4455;\n",
              "      fill: #D2E3FC;\n",
              "    }\n",
              "\n",
              "    [theme=dark] .colab-df-convert:hover {\n",
              "      background-color: #434B5C;\n",
              "      box-shadow: 0px 1px 3px 1px rgba(0, 0, 0, 0.15);\n",
              "      filter: drop-shadow(0px 1px 2px rgba(0, 0, 0, 0.3));\n",
              "      fill: #FFFFFF;\n",
              "    }\n",
              "  </style>\n",
              "\n",
              "      <script>\n",
              "        const buttonEl =\n",
              "          document.querySelector('#df-ba85fda0-50e1-48b6-a015-01741f405ed8 button.colab-df-convert');\n",
              "        buttonEl.style.display =\n",
              "          google.colab.kernel.accessAllowed ? 'block' : 'none';\n",
              "\n",
              "        async function convertToInteractive(key) {\n",
              "          const element = document.querySelector('#df-ba85fda0-50e1-48b6-a015-01741f405ed8');\n",
              "          const dataTable =\n",
              "            await google.colab.kernel.invokeFunction('convertToInteractive',\n",
              "                                                     [key], {});\n",
              "          if (!dataTable) return;\n",
              "\n",
              "          const docLinkHtml = 'Like what you see? Visit the ' +\n",
              "            '<a target=\"_blank\" href=https://colab.research.google.com/notebooks/data_table.ipynb>data table notebook</a>'\n",
              "            + ' to learn more about interactive tables.';\n",
              "          element.innerHTML = '';\n",
              "          dataTable['output_type'] = 'display_data';\n",
              "          await google.colab.output.renderOutput(dataTable, element);\n",
              "          const docLink = document.createElement('div');\n",
              "          docLink.innerHTML = docLinkHtml;\n",
              "          element.appendChild(docLink);\n",
              "        }\n",
              "      </script>\n",
              "    </div>\n",
              "  </div>\n",
              "  "
            ]
          },
          "metadata": {},
          "execution_count": 195
        }
      ]
    },
    {
      "cell_type": "code",
      "source": [
        "mask = (train.groupby(\"variantid1\").cumcount() > 2) | (train.groupby(\"variantid2\").cumcount() > 2)"
      ],
      "metadata": {
        "id": "BsKKc-fN9EO6"
      },
      "execution_count": null,
      "outputs": []
    },
    {
      "cell_type": "code",
      "source": [
        "train[mask].target.value_counts()"
      ],
      "metadata": {
        "colab": {
          "base_uri": "https://localhost:8080/"
        },
        "id": "CRXdlOiS9SAM",
        "outputId": "c6fe9d76-abf7-46dc-f29f-28728d1ac614"
      },
      "execution_count": null,
      "outputs": [
        {
          "output_type": "execute_result",
          "data": {
            "text/plain": [
              "0.0    7761\n",
              "1.0    3453\n",
              "Name: target, dtype: int64"
            ]
          },
          "metadata": {},
          "execution_count": 14
        }
      ]
    },
    {
      "cell_type": "code",
      "source": [
        "train = train[~mask]"
      ],
      "metadata": {
        "id": "PbLFLK_k9mhN"
      },
      "execution_count": null,
      "outputs": []
    },
    {
      "cell_type": "code",
      "source": [
        "train.target.value_counts()"
      ],
      "metadata": {
        "colab": {
          "base_uri": "https://localhost:8080/"
        },
        "id": "qdyAcBTS9ob7",
        "outputId": "68a668ed-adee-49f3-be2a-631099695136"
      },
      "execution_count": null,
      "outputs": [
        {
          "output_type": "execute_result",
          "data": {
            "text/plain": [
              "0.0    162427\n",
              "1.0    119684\n",
              "Name: target, dtype: int64"
            ]
          },
          "metadata": {},
          "execution_count": 16
        }
      ]
    },
    {
      "cell_type": "markdown",
      "source": [
        "### remove more 0's"
      ],
      "metadata": {
        "id": "XsSfQcz1QUpM"
      }
    },
    {
      "cell_type": "code",
      "source": [
        "mask_target0 = (train.target == 0)"
      ],
      "metadata": {
        "id": "3C-6C1DbQXIZ"
      },
      "execution_count": null,
      "outputs": []
    },
    {
      "cell_type": "code",
      "source": [
        "mask = (train.groupby(\"text_difference\").cumcount() > 1) & (mask_target0)\n",
        "# mask = mask & (train.text_difference != \"Товар 1 и Товар 2 одинаковы\")"
      ],
      "metadata": {
        "id": "z6OfBx-uQmcd"
      },
      "execution_count": null,
      "outputs": []
    },
    {
      "cell_type": "code",
      "source": [
        "mask.sum()"
      ],
      "metadata": {
        "colab": {
          "base_uri": "https://localhost:8080/"
        },
        "id": "nEeAD5KEQm2U",
        "outputId": "149ceb56-e745-48f6-90dc-905859777861"
      },
      "execution_count": null,
      "outputs": [
        {
          "output_type": "execute_result",
          "data": {
            "text/plain": [
              "4207"
            ]
          },
          "metadata": {},
          "execution_count": 19
        }
      ]
    },
    {
      "cell_type": "code",
      "source": [
        "train = train[~mask]"
      ],
      "metadata": {
        "id": "D0xMn7-NSln5"
      },
      "execution_count": null,
      "outputs": []
    },
    {
      "cell_type": "code",
      "source": [
        "mask_target0 = (train.target == 0)"
      ],
      "metadata": {
        "id": "mEoYQHmRTMjE"
      },
      "execution_count": null,
      "outputs": []
    },
    {
      "cell_type": "code",
      "source": [
        "mask = ((train.groupby(\"variantid1\").cumcount() > 1) | \n",
        "        (train.groupby(\"variantid2\").cumcount() > 1)) & (mask_target0)"
      ],
      "metadata": {
        "id": "YcpgvgFPQzVs"
      },
      "execution_count": null,
      "outputs": []
    },
    {
      "cell_type": "code",
      "source": [
        "mask.sum()"
      ],
      "metadata": {
        "colab": {
          "base_uri": "https://localhost:8080/"
        },
        "id": "49-jy6-kRLI6",
        "outputId": "9d948cd2-0938-469c-8e21-5162d0070d7a"
      },
      "execution_count": null,
      "outputs": [
        {
          "output_type": "execute_result",
          "data": {
            "text/plain": [
              "10888"
            ]
          },
          "metadata": {},
          "execution_count": 23
        }
      ]
    },
    {
      "cell_type": "code",
      "source": [
        "train = train[~mask]"
      ],
      "metadata": {
        "id": "neDUPjl2R1Km"
      },
      "execution_count": null,
      "outputs": []
    },
    {
      "cell_type": "code",
      "source": [
        "train.target.value_counts()"
      ],
      "metadata": {
        "colab": {
          "base_uri": "https://localhost:8080/"
        },
        "id": "PDUGXTOUTI6c",
        "outputId": "1ef69d89-a12f-4671-9567-3b5348c9489a"
      },
      "execution_count": null,
      "outputs": [
        {
          "output_type": "execute_result",
          "data": {
            "text/plain": [
              "0.0    147332\n",
              "1.0    119684\n",
              "Name: target, dtype: int64"
            ]
          },
          "metadata": {},
          "execution_count": 25
        }
      ]
    },
    {
      "cell_type": "code",
      "source": [
        "119684 / (119684 + 147332)"
      ],
      "metadata": {
        "colab": {
          "base_uri": "https://localhost:8080/"
        },
        "id": "W_bDGg0_TvTD",
        "outputId": "b74c00ea-8ade-403f-dae6-6a3328a72322"
      },
      "execution_count": null,
      "outputs": [
        {
          "output_type": "execute_result",
          "data": {
            "text/plain": [
              "0.44822782155376456"
            ]
          },
          "metadata": {},
          "execution_count": 26
        }
      ]
    },
    {
      "cell_type": "code",
      "source": [
        "train.shape"
      ],
      "metadata": {
        "colab": {
          "base_uri": "https://localhost:8080/"
        },
        "id": "Hrt2-L-uTbyY",
        "outputId": "d3bed130-ad95-4458-b737-eccbc4c8274c"
      },
      "execution_count": null,
      "outputs": [
        {
          "output_type": "execute_result",
          "data": {
            "text/plain": [
              "(267016, 6)"
            ]
          },
          "metadata": {},
          "execution_count": 27
        }
      ]
    },
    {
      "cell_type": "code",
      "source": [
        "267016 / (171527 + 135013)"
      ],
      "metadata": {
        "colab": {
          "base_uri": "https://localhost:8080/"
        },
        "id": "ph6kDOaEU6WI",
        "outputId": "be89659f-f912-4167-e442-ccb1a2bca209"
      },
      "execution_count": null,
      "outputs": [
        {
          "output_type": "execute_result",
          "data": {
            "text/plain": [
              "0.8710641351862726"
            ]
          },
          "metadata": {},
          "execution_count": 28
        }
      ]
    },
    {
      "cell_type": "code",
      "source": [
        "ones = train[train.target == 1]\n",
        "zeros = train[train.target == 0]\n",
        "\n",
        "zeros = zeros.sample(ones.shape[0])\n",
        "\n",
        "balanced = pd.concat([ones, zeros])"
      ],
      "metadata": {
        "id": "vtOIFWN7WFGC"
      },
      "execution_count": null,
      "outputs": []
    },
    {
      "cell_type": "code",
      "source": [
        "balanced.target.value_counts()"
      ],
      "metadata": {
        "colab": {
          "base_uri": "https://localhost:8080/"
        },
        "id": "n_H1OKDpWwTv",
        "outputId": "c01b7b3e-62e1-4dbd-c5fb-e8e9549a4293"
      },
      "execution_count": null,
      "outputs": [
        {
          "output_type": "execute_result",
          "data": {
            "text/plain": [
              "1.0    119684\n",
              "0.0    119684\n",
              "Name: target, dtype: int64"
            ]
          },
          "metadata": {},
          "execution_count": 34
        }
      ]
    },
    {
      "cell_type": "code",
      "source": [
        "balanced.shape[0] / (171527 + 135013)"
      ],
      "metadata": {
        "colab": {
          "base_uri": "https://localhost:8080/"
        },
        "id": "Tzo59rkzW_Zm",
        "outputId": "94bcdce4-b60a-4739-e6b6-21dc7f1c6f17"
      },
      "execution_count": null,
      "outputs": [
        {
          "output_type": "execute_result",
          "data": {
            "text/plain": [
              "0.7808703594963137"
            ]
          },
          "metadata": {},
          "execution_count": 36
        }
      ]
    },
    {
      "cell_type": "markdown",
      "source": [
        "### new diff"
      ],
      "metadata": {
        "id": "2Bi4iaexLiXU"
      }
    },
    {
      "cell_type": "code",
      "source": [
        "def preprocess_full_text(text):\n",
        "    ':'.join(i[:300] for i in text.split(':'))\n",
        "\n",
        "    pattern = r'\\n{0,1}[^:\\n]+: '\n",
        "    matches = [(m.group(0), (m.start(), m.end()-1)) for m in re.finditer(pattern, text)]\n",
        "\n",
        "    keys, values = [], []\n",
        "    for i in range(1, len(matches)):\n",
        "        keys.append(matches[i-1][0])\n",
        "        start, end = matches[i-1][1][1] + 1, matches[i][1][0]\n",
        "        values.append(text[start:end])\n",
        "\n",
        "    i += 1\n",
        "    keys.append(matches[i-1][0])\n",
        "    start = matches[i-1][1][1] + 1\n",
        "    values.append(text[start:])\n",
        "\n",
        "    # text_key_split = re.split(\"(\\n{0,1}[^:\\n]+: )\", text)\n",
        "    \n",
        "    # name = text_key_split[0]\n",
        "    # keys, values = text_key_split[1::2], text_key_split[2::2]\n",
        "\n",
        "    have_color = False\n",
        "\n",
        "    for i in range(min(4, len(keys))):\n",
        "        if keys[i].strip() == \"name:\":\n",
        "            keys[i] = \"Имя :\"\n",
        "        \n",
        "        elif keys[i].strip() == \"color:\":\n",
        "            keys[i] = \"Цвет :\"\n",
        "            have_color = True\n",
        "        \n",
        "        elif keys[i].strip() == \"cat3:\":\n",
        "            keys[i] = \"Категория 3 :\"\n",
        "        \n",
        "        elif keys[i].strip() == \"cat4:\":\n",
        "            keys[i] = \"Категория 4 :\"\n",
        "\n",
        "    special_keys = [i.replace('\\n', ' ') for i in keys[:3+have_color]]\n",
        "    special_values = [i.replace('\\n', ' ') for i in values[:3+have_color]]\n",
        "\n",
        "    special = [f\"{special_keys[i]} {special_values[i]}\" for i in range(len(special_keys))]\n",
        "\n",
        "    other_keys = [i.strip().replace('\\n', ' ')[:-1] + \" :\" for i in keys[3+have_color:]]\n",
        "    other_values = [i.strip().replace('\\n', ' ') for i in values[3+have_color:]]\n",
        "\n",
        "    other = [f\"{other_keys[i]} {other_values[i]}\" for i in range(len(other_keys))]\n",
        "\n",
        "    return special + sorted(other)\n",
        "\n",
        "\n",
        "differ = Differ()\n",
        "\n",
        "def find_diff(text1, text2):\n",
        "    text1, text2 = preprocess_full_text(text1), preprocess_full_text(text2)\n",
        "\n",
        "    new_text1, new_text2, common = \"\", \"\", \"\"\n",
        "    \n",
        "    diff = differ.compare(text1, text2)\n",
        "    \n",
        "    for text in diff:\n",
        "        if text:\n",
        "            if text[0] == '-':\n",
        "                new_text1 += f\"(Отличается) {text[2:]}\\n\"\n",
        "\n",
        "            elif text[0] == '+':\n",
        "                new_text2 += f\"(Отличается) {text[2:]}\\n\"\n",
        "\n",
        "            elif text[0] == ' ':\n",
        "                common += text[2:] + '\\n'\n",
        "    \n",
        "    new_text1 += common\n",
        "    new_text2 += common\n",
        "    \n",
        "    new_text1 = new_text1.strip()\n",
        "    new_text2 = new_text2.strip()\n",
        "\n",
        "    return new_text1, new_text2"
      ],
      "metadata": {
        "id": "dPt88DVrckZD"
      },
      "execution_count": null,
      "outputs": []
    },
    {
      "cell_type": "code",
      "source": [
        "num = 0\n",
        "\n",
        "print(find_diff(train[\"full_text_1\"][num], train[\"full_text_2\"][num])[0])\n",
        "print('\\n')\n",
        "print(find_diff(train[\"full_text_1\"][num], train[\"full_text_2\"][num])[1])"
      ],
      "metadata": {
        "colab": {
          "base_uri": "https://localhost:8080/"
        },
        "id": "1M6MOJavdNyM",
        "outputId": "e4b5a553-f7fc-438c-9b37-8f9f47150745"
      },
      "execution_count": null,
      "outputs": [
        {
          "output_type": "stream",
          "name": "stdout",
          "text": [
            "(Отличается) Имя : Удлинитель TDM Electric Люкс УЛ05В 5 м (SQ1303-0138)\n",
            "(Отличается) Длина кабеля питания, м : 5\n",
            "Цвет : белый\n",
            "Категория 3 : Сетевые фильтры, разветвители и удлинители\n",
            "Категория 4 : Сетевой фильтр, удлинитель, разветвитель\n",
            "Бренд : TDM Electric\n",
            "Вес товара, г : 430\n",
            "Вид кабеля : ПВС\n",
            "Вид розеток : Евровилка\n",
            "Входное напряжение, В : 250\n",
            "Гарантийный срок : 3 года\n",
            "Количество розеток, шт : 5\n",
            "Комплектация : инструкция по эксплуатации\n",
            "Макс. нагрузка, Вт : 3500\n",
            "Макс. ток, А : 16\n",
            "Номинальный ток, А : 16\n",
            "Сечение жилы, кв.мм : 1\n",
            "Стандарт защиты : IP20\n",
            "Тип : Удлинитель бытовой\n",
            "Цвет товара : белый\n",
            "Число жил : 3\n",
            "Электробезопасность : Заземление\n",
            "\n",
            "\n",
            "(Отличается) Имя : Удлинитель TDM Electric Люкс УЛ05В 1.5 м (SQ1303-0136)\n",
            "(Отличается) Длина кабеля питания, м : 1.5\n",
            "Цвет : белый\n",
            "Категория 3 : Сетевые фильтры, разветвители и удлинители\n",
            "Категория 4 : Сетевой фильтр, удлинитель, разветвитель\n",
            "Бренд : TDM Electric\n",
            "Вес товара, г : 430\n",
            "Вид кабеля : ПВС\n",
            "Вид розеток : Евровилка\n",
            "Входное напряжение, В : 250\n",
            "Гарантийный срок : 3 года\n",
            "Количество розеток, шт : 5\n",
            "Комплектация : инструкция по эксплуатации\n",
            "Макс. нагрузка, Вт : 3500\n",
            "Макс. ток, А : 16\n",
            "Номинальный ток, А : 16\n",
            "Сечение жилы, кв.мм : 1\n",
            "Стандарт защиты : IP20\n",
            "Тип : Удлинитель бытовой\n",
            "Цвет товара : белый\n",
            "Число жил : 3\n",
            "Электробезопасность : Заземление\n"
          ]
        }
      ]
    },
    {
      "cell_type": "markdown",
      "source": [
        "### make new diff"
      ],
      "metadata": {
        "id": "-vFJz7yFf3-2"
      }
    },
    {
      "cell_type": "code",
      "source": [
        "num = 236712\n",
        "\n",
        "print(find_diff(train[\"full_text_1\"][num], train[\"full_text_2\"][num])[0])\n",
        "print('\\n')\n",
        "print(find_diff(train[\"full_text_1\"][num], train[\"full_text_2\"][num])[1])"
      ],
      "metadata": {
        "colab": {
          "base_uri": "https://localhost:8080/"
        },
        "id": "oggwUi8df7xB",
        "outputId": "536a95fc-e196-4c45-fe97-1e33e17133cc"
      },
      "execution_count": null,
      "outputs": [
        {
          "output_type": "stream",
          "name": "stdout",
          "text": [
            "(Отличается) Имя : RITMIX RH-533USB, Silver Гарнитура\n",
            "(Отличается) Цвет : silver, черный, серебристый\n",
            "(Отличается) Вес товара, г : 0.28\n",
            "(Отличается) Длина кабеля, см : 240\n",
            "(Отличается) Конструкция наушников : Полноразмерные\n",
            "(Отличается) Цвет товара : серебристый, черный\n",
            "Категория 3 : Наушники и гарнитуры\n",
            "Категория 4 : Игровые наушники\n",
            "Бренд : Ritmix\n",
            "Макс. частота, Гц : 20000\n",
            "Микрофон : Да\n",
            "Мин. частота, Гц : 20\n",
            "Разъем : USB\n",
            "Сопротивление, Ом : 32\n",
            "Страна-изготовитель : Китай\n",
            "Тип : Игровые наушники\n",
            "Тип подключения : Проводное\n",
            "\n",
            "\n",
            "(Отличается) Имя : Игровые наушники Ritmix RH-533 USB Silver, серебристый\n",
            "(Отличается) Цвет : silver, серебристый\n",
            "(Отличается) Акустическое оформление : Закрытое\n",
            "(Отличается) Вес товара, г : 154\n",
            "(Отличается) Гарантийный срок : Гарантия от производителя\n",
            "(Отличается) Диаметр динамика, мм : 30\n",
            "(Отличается) Длина кабеля, см : 180\n",
            "(Отличается) Защита от влаги : Нет\n",
            "(Отличается) Кабель и штекер : Одностороннее подключение кабеля\n",
            "(Отличается) Комплектация : Наушники, документация\n",
            "(Отличается) Конструкция наушников : Накладные\n",
            "(Отличается) Крепление наушников : Оголовье\n",
            "(Отличается) Материал амбушюров : Искусственная кожа\n",
            "(Отличается) Микрофон гарнитуры : Гибкий, Поворотный\n",
            "(Отличается) Подсветка : Нет\n",
            "(Отличается) Размеры, мм : 180x150x50\n",
            "(Отличается) Регулятор громкости : Да\n",
            "(Отличается) Спортивные : Нет\n",
            "(Отличается) Способ передачи звука : Динамики\n",
            "(Отличается) Тип гарнитуры : Стерео\n",
            "(Отличается) Управление : Включение/отключение микрофона, Регулировка громкости\n",
            "(Отличается) Управление наушниками : Кнопочное\n",
            "(Отличается) Цвет товара : серебристый\n",
            "Категория 3 : Наушники и гарнитуры\n",
            "Категория 4 : Игровые наушники\n",
            "Бренд : Ritmix\n",
            "Макс. частота, Гц : 20000\n",
            "Микрофон : Да\n",
            "Мин. частота, Гц : 20\n",
            "Разъем : USB\n",
            "Сопротивление, Ом : 32\n",
            "Страна-изготовитель : Китай\n",
            "Тип : Игровые наушники\n",
            "Тип подключения : Проводное\n"
          ]
        }
      ]
    },
    {
      "cell_type": "code",
      "source": [
        "17953"
      ],
      "metadata": {
        "id": "vjzIZDGVhB5n"
      },
      "execution_count": null,
      "outputs": []
    },
    {
      "cell_type": "code",
      "source": [
        "preprocess_full_text(train.iloc[744][\"full_text_1\"])"
      ],
      "metadata": {
        "colab": {
          "base_uri": "https://localhost:8080/"
        },
        "id": "QXlalrUFhD_i",
        "outputId": "7d0ebb7f-6db3-472f-979f-66f6e1079e92"
      },
      "execution_count": null,
      "outputs": [
        {
          "output_type": "execute_result",
          "data": {
            "text/plain": [
              "['Имя : Стабилизатор для телефона GimbalPro L7Bpro',\n",
              " 'Цвет : серый',\n",
              " 'Категория 3 : Штативы и головки',\n",
              " 'Категория 4 : Монопод для селфи',\n",
              " 'Бренд : WIWU',\n",
              " 'Вес товара, г : 362',\n",
              " 'Гарантийный срок : 6 месяцев',\n",
              " 'Дистанционное управление : Кнопка на рукоятке (Bluetooth)',\n",
              " 'Макс. нагрузка, г : 280',\n",
              " 'Макс. ширина удерживаемого устройства, мм : 90',\n",
              " 'Материал : Пластик',\n",
              " 'Назначение : Универсальные',\n",
              " 'Размеры, мм : 152x110x47',\n",
              " 'Страна-изготовитель : Китай',\n",
              " 'Тип : Стабилизатор для смартфона',\n",
              " 'Цвет товара : серый']"
            ]
          },
          "metadata": {},
          "execution_count": 179
        }
      ]
    },
    {
      "cell_type": "code",
      "source": [
        "new_texts1, new_texts2 = [], []\n",
        "\n",
        "for i in tqdm(range(test.shape[0])):\n",
        "    text1, text2 = test.iloc[i][\"full_text_1\"], test.iloc[i][\"full_text_2\"]\n",
        "    new_text1, new_text2 = find_diff(text1, text2)\n",
        "    new_texts1.append(new_text1), new_texts2.append(new_text2)"
      ],
      "metadata": {
        "colab": {
          "base_uri": "https://localhost:8080/",
          "height": 49,
          "referenced_widgets": [
            "c9a76c3dedc94d1fae019fb3c0ae2611",
            "269f64d9032d4160a69cfc2006d8dc30",
            "5361b3658d7946b98fc4c6558680f57c",
            "0de8968b11e2467ba18133e2e243a39b",
            "db19c826010143e6ad264f326984d204",
            "528e78a9f6444899ba66e0cc7c294fbf",
            "2e3366276a75479ea488db0f4d4a1b9e",
            "3babf7d81ca74265945c96ed5109516b",
            "d51d457594ac464083636fb93d429cd2",
            "73cfab0ebc3f46988770104be4feed58",
            "69e64ca286424af095da0c30c06a01ee"
          ]
        },
        "id": "D5g6v59ega0k",
        "outputId": "6e4bf207-0cbd-4981-e615-0762ed70a1dc"
      },
      "execution_count": null,
      "outputs": [
        {
          "output_type": "display_data",
          "data": {
            "text/plain": [
              "  0%|          | 0/18084 [00:00<?, ?it/s]"
            ],
            "application/vnd.jupyter.widget-view+json": {
              "version_major": 2,
              "version_minor": 0,
              "model_id": "c9a76c3dedc94d1fae019fb3c0ae2611"
            }
          },
          "metadata": {}
        }
      ]
    },
    {
      "cell_type": "code",
      "source": [
        "test[\"full_text_1_w_diff\"] = new_texts1\n",
        "test[\"full_text_2_w_diff\"] = new_texts2"
      ],
      "metadata": {
        "id": "pB8m1M1bgosF"
      },
      "execution_count": null,
      "outputs": []
    },
    {
      "cell_type": "code",
      "source": [
        "test = test.drop([\"full_text_1\", \"full_text_2\", \"text_difference\"], axis=1)"
      ],
      "metadata": {
        "id": "b40CVGTPumxD"
      },
      "execution_count": null,
      "outputs": []
    },
    {
      "cell_type": "code",
      "source": [
        "test.to_parquet(\"test_full_text_w_diff.parquet\", index=False)"
      ],
      "metadata": {
        "id": "-gkUG-lsu35v"
      },
      "execution_count": null,
      "outputs": []
    },
    {
      "cell_type": "code",
      "source": [
        "new_texts1, new_texts2 = [], []\n",
        "\n",
        "for i in tqdm(range(train.shape[0])):\n",
        "    text1, text2 = train.iloc[i][\"full_text_1\"], train.iloc[i][\"full_text_2\"]\n",
        "    new_text1, new_text2 = find_diff(text1, text2)\n",
        "    new_texts1.append(new_text1), new_texts2.append(new_text2)"
      ],
      "metadata": {
        "colab": {
          "base_uri": "https://localhost:8080/",
          "height": 49,
          "referenced_widgets": [
            "ab6c52cfc26448ce85b6980e075d4aa5",
            "13c79fa782a6464c9fe48e61aef06153",
            "5d5b87e0c4e24215965cf8023e746fb8",
            "d7604206850d4161be05538c00ccc9c9",
            "30aab10bcde440a7bf6549446289659f",
            "ff6e6030b66b46a3a54524f6c9db0e5a",
            "d829a26f0bdf462aa9efdb4d8f270a2c",
            "e27ff13353e348b49330e00e6c7933cb",
            "6418820cc97140b3bfbe73766f384d44",
            "b46e2c71c8aa41268524451e415221dc",
            "1377ee788f7f454d8509873ab95dd5e3"
          ]
        },
        "outputId": "8a0b7d67-afe4-403e-b681-61dd9dd211a4",
        "id": "isYxSlpuvQAA"
      },
      "execution_count": null,
      "outputs": [
        {
          "output_type": "display_data",
          "data": {
            "text/plain": [
              "  0%|          | 0/267016 [00:00<?, ?it/s]"
            ],
            "application/vnd.jupyter.widget-view+json": {
              "version_major": 2,
              "version_minor": 0,
              "model_id": "ab6c52cfc26448ce85b6980e075d4aa5"
            }
          },
          "metadata": {}
        }
      ]
    },
    {
      "cell_type": "code",
      "source": [
        "train[\"full_text_1_w_diff\"] = new_texts1\n",
        "train[\"full_text_2_w_diff\"] = new_texts2"
      ],
      "metadata": {
        "id": "jR7mlew8vQAA"
      },
      "execution_count": null,
      "outputs": []
    },
    {
      "cell_type": "code",
      "source": [
        "train"
      ],
      "metadata": {
        "colab": {
          "base_uri": "https://localhost:8080/",
          "height": 1000
        },
        "id": "byyVpctHvx-6",
        "outputId": "00534359-7a6b-4170-880e-63f64cc97421"
      },
      "execution_count": null,
      "outputs": [
        {
          "output_type": "execute_result",
          "data": {
            "text/plain": [
              "        target  variantid1  variantid2  \\\n",
              "0          0.0    51197862    51198054   \n",
              "1          0.0    51197862    51199884   \n",
              "2          1.0    53062686   536165289   \n",
              "3          1.0    53602615   587809782   \n",
              "4          1.0    53602615   615149925   \n",
              "...        ...         ...         ...   \n",
              "306535     0.0   810680230   820119986   \n",
              "306536     0.0   812434186   815345877   \n",
              "306537     0.0   815637954   817550808   \n",
              "306538     0.0   817327230   822083612   \n",
              "306539     0.0   821514120   821514311   \n",
              "\n",
              "                                              full_text_1  \\\n",
              "0       name: Удлинитель TDM Electric Люкс УЛ05В 5 м (...   \n",
              "1       name: Удлинитель TDM Electric Люкс УЛ05В 5 м (...   \n",
              "2       name: Картридж лазерный Комус 729 (4370B002) ч...   \n",
              "3       name: Картридж лазерный Комус 729 (4368B002) п...   \n",
              "4       name: Картридж лазерный Комус 729 (4368B002) п...   \n",
              "...                                                   ...   \n",
              "306535  name: Комплект 4 шт, Картридж лазерный NV Prin...   \n",
              "306536  name: Для iPhone 7 плюс 8 плюс военная броня г...   \n",
              "306537  name: Карта памяти 64 ГБ\\ncat3: Карты памяти и...   \n",
              "306538  name: Смартфон Mate48 Pro.. 8/256 ГБ, зеленый\\...   \n",
              "306539  name:  Ноутбук, Игровой ноутбук Windows BJBDN8...   \n",
              "\n",
              "                                              full_text_2  \\\n",
              "0       name: Удлинитель TDM Electric Люкс УЛ05В 1.5 м...   \n",
              "1       name: Удлинитель TDM Electric Люкс УЛ05В 3 м (...   \n",
              "2       name: Картридж лазерный Комус 729 (4368B002) п...   \n",
              "3       name: Картридж лазерный Комус 729 (4370B002) ч...   \n",
              "4       name: Картридж лазерный Комус 729 (4368B002) п...   \n",
              "...                                                   ...   \n",
              "306535  name: Комплект 2 шт, Картридж лазерный NV Prin...   \n",
              "306536  name: Для iPhone 7 8 военная броня корпус гибр...   \n",
              "306537  name: Карта памяти 1 ТБ\\ncat3: Карты памяти и ...   \n",
              "306538  name: Смартфон Mate48 Pro.. 10/512 ГБ, зеленый...   \n",
              "306539  name:  Ноутбук, Игровой ноутбук Windows BJBDN8...   \n",
              "\n",
              "                                          text_difference  \\\n",
              "0       Товар 1 | name: Удлинитель TDM Electric Люкс У...   \n",
              "1       Товар 1 | name: Удлинитель TDM Electric Люкс У...   \n",
              "2       Товар 1 | color: черный, чер\\nТовар 2 | color:...   \n",
              "3       Товар 1 | color: пурпурный\\nТовар 2 | color: ч...   \n",
              "4       Товар 1 | name: Картридж лазерный Комус 729 (4...   \n",
              "...                                                   ...   \n",
              "306535  Товар 1 | name: Комплект 4 шт, Картридж лазерн...   \n",
              "306536  Товар 1 | color: желтый\\nТовар 2 | color: сере...   \n",
              "306537  Товар 1 | name: Карта памяти 64 ГБ\\nТовар 2 | ...   \n",
              "306538  Товар 1 | name: Смартфон Mate48 Pro.. 8/256 ГБ...   \n",
              "306539  Товар 1 | Общий объем HDD, ГБ: 128\\nТовар 2 | ...   \n",
              "\n",
              "                                       full_text_1_w_diff  \\\n",
              "0       (Отличается) Имя : Удлинитель TDM Electric Люк...   \n",
              "1       (Отличается) Имя : Удлинитель TDM Electric Люк...   \n",
              "2       (Отличается) Имя : Картридж лазерный Комус 729...   \n",
              "3       (Отличается) Имя : Картридж лазерный Комус 729...   \n",
              "4       (Отличается) Имя : Картридж лазерный Комус 729...   \n",
              "...                                                   ...   \n",
              "306535  (Отличается) Имя : Комплект 4 шт, Картридж лаз...   \n",
              "306536  (Отличается) Имя : Для iPhone 7 плюс 8 плюс во...   \n",
              "306537  (Отличается) Имя : Карта памяти 64 ГБ\\n(Отлича...   \n",
              "306538  (Отличается) Имя : Смартфон Mate48 Pro.. 8/256...   \n",
              "306539  (Отличается) Общий объем HDD, ГБ : 128\\n(Отлич...   \n",
              "\n",
              "                                       full_text_2_w_diff  \n",
              "0       (Отличается) Имя : Удлинитель TDM Electric Люк...  \n",
              "1       (Отличается) Имя : Удлинитель TDM Electric Люк...  \n",
              "2       (Отличается) Имя : Картридж лазерный Комус 729...  \n",
              "3       (Отличается) Имя : Картридж лазерный Комус 729...  \n",
              "4       (Отличается) Имя : Картридж лазерный Комус 729...  \n",
              "...                                                   ...  \n",
              "306535  (Отличается) Имя : Комплект 2 шт, Картридж лаз...  \n",
              "306536  (Отличается) Имя : Для iPhone 7 8 военная брон...  \n",
              "306537  (Отличается) Имя : Карта памяти 1 ТБ\\n(Отличае...  \n",
              "306538  (Отличается) Имя : Смартфон Mate48 Pro.. 10/51...  \n",
              "306539  (Отличается) Общий объем HDD, ГБ : 1024\\n(Отли...  \n",
              "\n",
              "[267016 rows x 8 columns]"
            ],
            "text/html": [
              "\n",
              "  <div id=\"df-1c33426c-a810-4b0e-a0da-35825f3d39c4\">\n",
              "    <div class=\"colab-df-container\">\n",
              "      <div>\n",
              "<style scoped>\n",
              "    .dataframe tbody tr th:only-of-type {\n",
              "        vertical-align: middle;\n",
              "    }\n",
              "\n",
              "    .dataframe tbody tr th {\n",
              "        vertical-align: top;\n",
              "    }\n",
              "\n",
              "    .dataframe thead th {\n",
              "        text-align: right;\n",
              "    }\n",
              "</style>\n",
              "<table border=\"1\" class=\"dataframe\">\n",
              "  <thead>\n",
              "    <tr style=\"text-align: right;\">\n",
              "      <th></th>\n",
              "      <th>target</th>\n",
              "      <th>variantid1</th>\n",
              "      <th>variantid2</th>\n",
              "      <th>full_text_1</th>\n",
              "      <th>full_text_2</th>\n",
              "      <th>text_difference</th>\n",
              "      <th>full_text_1_w_diff</th>\n",
              "      <th>full_text_2_w_diff</th>\n",
              "    </tr>\n",
              "  </thead>\n",
              "  <tbody>\n",
              "    <tr>\n",
              "      <th>0</th>\n",
              "      <td>0.0</td>\n",
              "      <td>51197862</td>\n",
              "      <td>51198054</td>\n",
              "      <td>name: Удлинитель TDM Electric Люкс УЛ05В 5 м (...</td>\n",
              "      <td>name: Удлинитель TDM Electric Люкс УЛ05В 1.5 м...</td>\n",
              "      <td>Товар 1 | name: Удлинитель TDM Electric Люкс У...</td>\n",
              "      <td>(Отличается) Имя : Удлинитель TDM Electric Люк...</td>\n",
              "      <td>(Отличается) Имя : Удлинитель TDM Electric Люк...</td>\n",
              "    </tr>\n",
              "    <tr>\n",
              "      <th>1</th>\n",
              "      <td>0.0</td>\n",
              "      <td>51197862</td>\n",
              "      <td>51199884</td>\n",
              "      <td>name: Удлинитель TDM Electric Люкс УЛ05В 5 м (...</td>\n",
              "      <td>name: Удлинитель TDM Electric Люкс УЛ05В 3 м (...</td>\n",
              "      <td>Товар 1 | name: Удлинитель TDM Electric Люкс У...</td>\n",
              "      <td>(Отличается) Имя : Удлинитель TDM Electric Люк...</td>\n",
              "      <td>(Отличается) Имя : Удлинитель TDM Electric Люк...</td>\n",
              "    </tr>\n",
              "    <tr>\n",
              "      <th>2</th>\n",
              "      <td>1.0</td>\n",
              "      <td>53062686</td>\n",
              "      <td>536165289</td>\n",
              "      <td>name: Картридж лазерный Комус 729 (4370B002) ч...</td>\n",
              "      <td>name: Картридж лазерный Комус 729 (4368B002) п...</td>\n",
              "      <td>Товар 1 | color: черный, чер\\nТовар 2 | color:...</td>\n",
              "      <td>(Отличается) Имя : Картридж лазерный Комус 729...</td>\n",
              "      <td>(Отличается) Имя : Картридж лазерный Комус 729...</td>\n",
              "    </tr>\n",
              "    <tr>\n",
              "      <th>3</th>\n",
              "      <td>1.0</td>\n",
              "      <td>53602615</td>\n",
              "      <td>587809782</td>\n",
              "      <td>name: Картридж лазерный Комус 729 (4368B002) п...</td>\n",
              "      <td>name: Картридж лазерный Комус 729 (4370B002) ч...</td>\n",
              "      <td>Товар 1 | color: пурпурный\\nТовар 2 | color: ч...</td>\n",
              "      <td>(Отличается) Имя : Картридж лазерный Комус 729...</td>\n",
              "      <td>(Отличается) Имя : Картридж лазерный Комус 729...</td>\n",
              "    </tr>\n",
              "    <tr>\n",
              "      <th>4</th>\n",
              "      <td>1.0</td>\n",
              "      <td>53602615</td>\n",
              "      <td>615149925</td>\n",
              "      <td>name: Картридж лазерный Комус 729 (4368B002) п...</td>\n",
              "      <td>name: Картридж лазерный Комус 729 (4368B002) п...</td>\n",
              "      <td>Товар 1 | name: Картридж лазерный Комус 729 (4...</td>\n",
              "      <td>(Отличается) Имя : Картридж лазерный Комус 729...</td>\n",
              "      <td>(Отличается) Имя : Картридж лазерный Комус 729...</td>\n",
              "    </tr>\n",
              "    <tr>\n",
              "      <th>...</th>\n",
              "      <td>...</td>\n",
              "      <td>...</td>\n",
              "      <td>...</td>\n",
              "      <td>...</td>\n",
              "      <td>...</td>\n",
              "      <td>...</td>\n",
              "      <td>...</td>\n",
              "      <td>...</td>\n",
              "    </tr>\n",
              "    <tr>\n",
              "      <th>306535</th>\n",
              "      <td>0.0</td>\n",
              "      <td>810680230</td>\n",
              "      <td>820119986</td>\n",
              "      <td>name: Комплект 4 шт, Картридж лазерный NV Prin...</td>\n",
              "      <td>name: Комплект 2 шт, Картридж лазерный NV Prin...</td>\n",
              "      <td>Товар 1 | name: Комплект 4 шт, Картридж лазерн...</td>\n",
              "      <td>(Отличается) Имя : Комплект 4 шт, Картридж лаз...</td>\n",
              "      <td>(Отличается) Имя : Комплект 2 шт, Картридж лаз...</td>\n",
              "    </tr>\n",
              "    <tr>\n",
              "      <th>306536</th>\n",
              "      <td>0.0</td>\n",
              "      <td>812434186</td>\n",
              "      <td>815345877</td>\n",
              "      <td>name: Для iPhone 7 плюс 8 плюс военная броня г...</td>\n",
              "      <td>name: Для iPhone 7 8 военная броня корпус гибр...</td>\n",
              "      <td>Товар 1 | color: желтый\\nТовар 2 | color: сере...</td>\n",
              "      <td>(Отличается) Имя : Для iPhone 7 плюс 8 плюс во...</td>\n",
              "      <td>(Отличается) Имя : Для iPhone 7 8 военная брон...</td>\n",
              "    </tr>\n",
              "    <tr>\n",
              "      <th>306537</th>\n",
              "      <td>0.0</td>\n",
              "      <td>815637954</td>\n",
              "      <td>817550808</td>\n",
              "      <td>name: Карта памяти 64 ГБ\\ncat3: Карты памяти и...</td>\n",
              "      <td>name: Карта памяти 1 ТБ\\ncat3: Карты памяти и ...</td>\n",
              "      <td>Товар 1 | name: Карта памяти 64 ГБ\\nТовар 2 | ...</td>\n",
              "      <td>(Отличается) Имя : Карта памяти 64 ГБ\\n(Отлича...</td>\n",
              "      <td>(Отличается) Имя : Карта памяти 1 ТБ\\n(Отличае...</td>\n",
              "    </tr>\n",
              "    <tr>\n",
              "      <th>306538</th>\n",
              "      <td>0.0</td>\n",
              "      <td>817327230</td>\n",
              "      <td>822083612</td>\n",
              "      <td>name: Смартфон Mate48 Pro.. 8/256 ГБ, зеленый\\...</td>\n",
              "      <td>name: Смартфон Mate48 Pro.. 10/512 ГБ, зеленый...</td>\n",
              "      <td>Товар 1 | name: Смартфон Mate48 Pro.. 8/256 ГБ...</td>\n",
              "      <td>(Отличается) Имя : Смартфон Mate48 Pro.. 8/256...</td>\n",
              "      <td>(Отличается) Имя : Смартфон Mate48 Pro.. 10/51...</td>\n",
              "    </tr>\n",
              "    <tr>\n",
              "      <th>306539</th>\n",
              "      <td>0.0</td>\n",
              "      <td>821514120</td>\n",
              "      <td>821514311</td>\n",
              "      <td>name:  Ноутбук, Игровой ноутбук Windows BJBDN8...</td>\n",
              "      <td>name:  Ноутбук, Игровой ноутбук Windows BJBDN8...</td>\n",
              "      <td>Товар 1 | Общий объем HDD, ГБ: 128\\nТовар 2 | ...</td>\n",
              "      <td>(Отличается) Общий объем HDD, ГБ : 128\\n(Отлич...</td>\n",
              "      <td>(Отличается) Общий объем HDD, ГБ : 1024\\n(Отли...</td>\n",
              "    </tr>\n",
              "  </tbody>\n",
              "</table>\n",
              "<p>267016 rows × 8 columns</p>\n",
              "</div>\n",
              "      <button class=\"colab-df-convert\" onclick=\"convertToInteractive('df-1c33426c-a810-4b0e-a0da-35825f3d39c4')\"\n",
              "              title=\"Convert this dataframe to an interactive table.\"\n",
              "              style=\"display:none;\">\n",
              "        \n",
              "  <svg xmlns=\"http://www.w3.org/2000/svg\" height=\"24px\"viewBox=\"0 0 24 24\"\n",
              "       width=\"24px\">\n",
              "    <path d=\"M0 0h24v24H0V0z\" fill=\"none\"/>\n",
              "    <path d=\"M18.56 5.44l.94 2.06.94-2.06 2.06-.94-2.06-.94-.94-2.06-.94 2.06-2.06.94zm-11 1L8.5 8.5l.94-2.06 2.06-.94-2.06-.94L8.5 2.5l-.94 2.06-2.06.94zm10 10l.94 2.06.94-2.06 2.06-.94-2.06-.94-.94-2.06-.94 2.06-2.06.94z\"/><path d=\"M17.41 7.96l-1.37-1.37c-.4-.4-.92-.59-1.43-.59-.52 0-1.04.2-1.43.59L10.3 9.45l-7.72 7.72c-.78.78-.78 2.05 0 2.83L4 21.41c.39.39.9.59 1.41.59.51 0 1.02-.2 1.41-.59l7.78-7.78 2.81-2.81c.8-.78.8-2.07 0-2.86zM5.41 20L4 18.59l7.72-7.72 1.47 1.35L5.41 20z\"/>\n",
              "  </svg>\n",
              "      </button>\n",
              "      \n",
              "  <style>\n",
              "    .colab-df-container {\n",
              "      display:flex;\n",
              "      flex-wrap:wrap;\n",
              "      gap: 12px;\n",
              "    }\n",
              "\n",
              "    .colab-df-convert {\n",
              "      background-color: #E8F0FE;\n",
              "      border: none;\n",
              "      border-radius: 50%;\n",
              "      cursor: pointer;\n",
              "      display: none;\n",
              "      fill: #1967D2;\n",
              "      height: 32px;\n",
              "      padding: 0 0 0 0;\n",
              "      width: 32px;\n",
              "    }\n",
              "\n",
              "    .colab-df-convert:hover {\n",
              "      background-color: #E2EBFA;\n",
              "      box-shadow: 0px 1px 2px rgba(60, 64, 67, 0.3), 0px 1px 3px 1px rgba(60, 64, 67, 0.15);\n",
              "      fill: #174EA6;\n",
              "    }\n",
              "\n",
              "    [theme=dark] .colab-df-convert {\n",
              "      background-color: #3B4455;\n",
              "      fill: #D2E3FC;\n",
              "    }\n",
              "\n",
              "    [theme=dark] .colab-df-convert:hover {\n",
              "      background-color: #434B5C;\n",
              "      box-shadow: 0px 1px 3px 1px rgba(0, 0, 0, 0.15);\n",
              "      filter: drop-shadow(0px 1px 2px rgba(0, 0, 0, 0.3));\n",
              "      fill: #FFFFFF;\n",
              "    }\n",
              "  </style>\n",
              "\n",
              "      <script>\n",
              "        const buttonEl =\n",
              "          document.querySelector('#df-1c33426c-a810-4b0e-a0da-35825f3d39c4 button.colab-df-convert');\n",
              "        buttonEl.style.display =\n",
              "          google.colab.kernel.accessAllowed ? 'block' : 'none';\n",
              "\n",
              "        async function convertToInteractive(key) {\n",
              "          const element = document.querySelector('#df-1c33426c-a810-4b0e-a0da-35825f3d39c4');\n",
              "          const dataTable =\n",
              "            await google.colab.kernel.invokeFunction('convertToInteractive',\n",
              "                                                     [key], {});\n",
              "          if (!dataTable) return;\n",
              "\n",
              "          const docLinkHtml = 'Like what you see? Visit the ' +\n",
              "            '<a target=\"_blank\" href=https://colab.research.google.com/notebooks/data_table.ipynb>data table notebook</a>'\n",
              "            + ' to learn more about interactive tables.';\n",
              "          element.innerHTML = '';\n",
              "          dataTable['output_type'] = 'display_data';\n",
              "          await google.colab.output.renderOutput(dataTable, element);\n",
              "          const docLink = document.createElement('div');\n",
              "          docLink.innerHTML = docLinkHtml;\n",
              "          element.appendChild(docLink);\n",
              "        }\n",
              "      </script>\n",
              "    </div>\n",
              "  </div>\n",
              "  "
            ]
          },
          "metadata": {},
          "execution_count": 194
        }
      ]
    },
    {
      "cell_type": "code",
      "source": [
        "train = train.drop([\"full_text_1\", \"full_text_2\", \"text_difference\"], axis=1)"
      ],
      "metadata": {
        "id": "M1zIJk02vQAA"
      },
      "execution_count": null,
      "outputs": []
    },
    {
      "cell_type": "code",
      "source": [
        "train.to_parquet(\"train_full_text_w_diff.parquet\", index=False)"
      ],
      "metadata": {
        "id": "liHVVYVWvQAB"
      },
      "execution_count": null,
      "outputs": []
    }
  ]
}